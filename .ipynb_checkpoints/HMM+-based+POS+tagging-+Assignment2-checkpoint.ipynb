{
 "cells": [
  {
   "cell_type": "markdown",
   "metadata": {},
   "source": [
    "## POS tagging using modified Viterbi"
   ]
  },
  {
   "cell_type": "markdown",
   "metadata": {},
   "source": [
    "### Data Preparation"
   ]
  },
  {
   "cell_type": "code",
   "execution_count": 1,
   "metadata": {},
   "outputs": [],
   "source": [
    "#Importing libraries\n",
    "import nltk, re, pprint\n",
    "import numpy as np\n",
    "import pandas as pd\n",
    "import requests\n",
    "import matplotlib.pyplot as plt\n",
    "import seaborn as sns\n",
    "import pprint, time\n",
    "import random\n",
    "from sklearn.model_selection import train_test_split\n",
    "from nltk.tokenize import word_tokenize\n",
    "import codecs\n",
    "import nltk.tag\n",
    "from nltk.tag import brill\n",
    "from nltk.tag.brill import *\n",
    "from nltk.tbl.template import Template\n",
    "from nltk.tag import BrillTaggerTrainer\n",
    "from collections import Counter\n"
   ]
  },
  {
   "cell_type": "code",
   "execution_count": 2,
   "metadata": {},
   "outputs": [
    {
     "name": "stderr",
     "output_type": "stream",
     "text": [
      "[nltk_data] Downloading package universal_tagset to\n",
      "[nltk_data]     /home/nirbhay/nltk_data...\n",
      "[nltk_data]   Package universal_tagset is already up-to-date!\n"
     ]
    },
    {
     "data": {
      "text/plain": [
       "True"
      ]
     },
     "execution_count": 2,
     "metadata": {},
     "output_type": "execute_result"
    }
   ],
   "source": [
    "nltk.download('universal_tagset')"
   ]
  },
  {
   "cell_type": "code",
   "execution_count": 3,
   "metadata": {},
   "outputs": [],
   "source": [
    "# reading the Treebank tagged sentences\n",
    "nltk_data = list(nltk.corpus.treebank.tagged_sents(tagset='universal'))"
   ]
  },
  {
   "cell_type": "code",
   "execution_count": 4,
   "metadata": {},
   "outputs": [
    {
     "data": {
      "text/plain": [
       "[[('Pierre', 'NOUN'),\n",
       "  ('Vinken', 'NOUN'),\n",
       "  (',', '.'),\n",
       "  ('61', 'NUM'),\n",
       "  ('years', 'NOUN'),\n",
       "  ('old', 'ADJ'),\n",
       "  (',', '.'),\n",
       "  ('will', 'VERB'),\n",
       "  ('join', 'VERB'),\n",
       "  ('the', 'DET'),\n",
       "  ('board', 'NOUN'),\n",
       "  ('as', 'ADP'),\n",
       "  ('a', 'DET'),\n",
       "  ('nonexecutive', 'ADJ'),\n",
       "  ('director', 'NOUN'),\n",
       "  ('Nov.', 'NOUN'),\n",
       "  ('29', 'NUM'),\n",
       "  ('.', '.')],\n",
       " [('Mr.', 'NOUN'),\n",
       "  ('Vinken', 'NOUN'),\n",
       "  ('is', 'VERB'),\n",
       "  ('chairman', 'NOUN'),\n",
       "  ('of', 'ADP'),\n",
       "  ('Elsevier', 'NOUN'),\n",
       "  ('N.V.', 'NOUN'),\n",
       "  (',', '.'),\n",
       "  ('the', 'DET'),\n",
       "  ('Dutch', 'NOUN'),\n",
       "  ('publishing', 'VERB'),\n",
       "  ('group', 'NOUN'),\n",
       "  ('.', '.')],\n",
       " [('Rudolph', 'NOUN'),\n",
       "  ('Agnew', 'NOUN'),\n",
       "  (',', '.'),\n",
       "  ('55', 'NUM'),\n",
       "  ('years', 'NOUN'),\n",
       "  ('old', 'ADJ'),\n",
       "  ('and', 'CONJ'),\n",
       "  ('former', 'ADJ'),\n",
       "  ('chairman', 'NOUN'),\n",
       "  ('of', 'ADP'),\n",
       "  ('Consolidated', 'NOUN'),\n",
       "  ('Gold', 'NOUN'),\n",
       "  ('Fields', 'NOUN'),\n",
       "  ('PLC', 'NOUN'),\n",
       "  (',', '.'),\n",
       "  ('was', 'VERB'),\n",
       "  ('named', 'VERB'),\n",
       "  ('*-1', 'X'),\n",
       "  ('a', 'DET'),\n",
       "  ('nonexecutive', 'ADJ'),\n",
       "  ('director', 'NOUN'),\n",
       "  ('of', 'ADP'),\n",
       "  ('this', 'DET'),\n",
       "  ('British', 'ADJ'),\n",
       "  ('industrial', 'ADJ'),\n",
       "  ('conglomerate', 'NOUN'),\n",
       "  ('.', '.')]]"
      ]
     },
     "execution_count": 4,
     "metadata": {},
     "output_type": "execute_result"
    }
   ],
   "source": [
    "#First three sentences in te dataset\n",
    "nltk_data[:3]"
   ]
  },
  {
   "cell_type": "code",
   "execution_count": 5,
   "metadata": {},
   "outputs": [
    {
     "name": "stdout",
     "output_type": "stream",
     "text": [
      "3718\n",
      "196\n"
     ]
    }
   ],
   "source": [
    "#set the random seed\n",
    "random.seed(1234)\n",
    "\n",
    "#Divide the data into training and test sets\n",
    "train_set, test_set = train_test_split(nltk_data,train_size=0.95)\n",
    "\n",
    "#Get the length of training and test sets\n",
    "print(len(train_set))\n",
    "print(len(test_set))"
   ]
  },
  {
   "cell_type": "code",
   "execution_count": 6,
   "metadata": {},
   "outputs": [
    {
     "data": {
      "text/plain": [
       "95726"
      ]
     },
     "execution_count": 6,
     "metadata": {},
     "output_type": "execute_result"
    }
   ],
   "source": [
    "# Getting list of tagged words in training set\n",
    "train_tagged_words = [tup for sent in train_set for tup in sent]\n",
    "#Get the length of the total tagged words in training set\n",
    "len(train_tagged_words)"
   ]
  },
  {
   "cell_type": "code",
   "execution_count": 7,
   "metadata": {},
   "outputs": [
    {
     "data": {
      "text/plain": [
       "['A', 'program', 'trade', 'of', '$', '5', 'million', '*U*', 'of', 'stock']"
      ]
     },
     "execution_count": 7,
     "metadata": {},
     "output_type": "execute_result"
    }
   ],
   "source": [
    "# View the first 10 tokens/words in the training set\n",
    "tokens = [pair[0] for pair in train_tagged_words]\n",
    "tokens[:10]"
   ]
  },
  {
   "cell_type": "code",
   "execution_count": 8,
   "metadata": {},
   "outputs": [
    {
     "name": "stdout",
     "output_type": "stream",
     "text": [
      "12055\n"
     ]
    }
   ],
   "source": [
    "# Get the total unique words in the training set\n",
    "V = set(tokens)\n",
    "print(len(V))"
   ]
  },
  {
   "cell_type": "code",
   "execution_count": 9,
   "metadata": {},
   "outputs": [
    {
     "name": "stdout",
     "output_type": "stream",
     "text": [
      "12\n",
      "{'ADV', 'X', 'ADP', 'NUM', 'VERB', 'PRT', 'DET', '.', 'CONJ', 'PRON', 'ADJ', 'NOUN'}\n"
     ]
    }
   ],
   "source": [
    "# number of pos tags in the training corpus\n",
    "T = set([pair[1] for pair in train_tagged_words])\n",
    "print(len(T))\n",
    "print(T)"
   ]
  },
  {
   "cell_type": "markdown",
   "metadata": {},
   "source": [
    "### Build the vanilla Viterbi based POS tagger"
   ]
  },
  {
   "cell_type": "code",
   "execution_count": 10,
   "metadata": {},
   "outputs": [],
   "source": [
    "# Create numpy array of no of pos tags by total vocabulary\n",
    "t = len(T)\n",
    "v = len(V)\n",
    "w_given_t = np.zeros((t, v))"
   ]
  },
  {
   "cell_type": "code",
   "execution_count": 11,
   "metadata": {},
   "outputs": [],
   "source": [
    "\n",
    "# compute word given tag: Emission Probability\n",
    "def word_given_tag(word, tag, train_bag = train_tagged_words):\n",
    "    tag_list = [pair for pair in train_bag if pair[1]==tag]\n",
    "    count_tag = len(tag_list)\n",
    "    w_given_tag_list = [pair[0] for pair in tag_list if pair[0]==word]\n",
    "    count_w_given_tag = len(w_given_tag_list)\n",
    "    \n",
    "    return (count_w_given_tag, count_tag)"
   ]
  },
  {
   "cell_type": "code",
   "execution_count": 12,
   "metadata": {},
   "outputs": [],
   "source": [
    "# compute tag given tag: tag2(t2) given tag1 (t1), i.e. Transition Probability\n",
    "\n",
    "def t2_given_t1(t2, t1, train_bag = train_tagged_words):\n",
    "    tags = [pair[1] for pair in train_bag]\n",
    "    count_t1 = len([t for t in tags if t==t1])\n",
    "    count_t2_t1 = 0\n",
    "    for index in range(len(tags)-1):\n",
    "        if tags[index]==t1 and tags[index+1] == t2:\n",
    "            count_t2_t1 += 1\n",
    "    return (count_t2_t1, count_t1)"
   ]
  },
  {
   "cell_type": "code",
   "execution_count": 13,
   "metadata": {},
   "outputs": [],
   "source": [
    "# creating t x t (pos tags x pos tags)transition matrix of tags\n",
    "# each column is t2, each row is t1\n",
    "# thus M(i, j) represents P(tj given ti)\n",
    "\n",
    "tags_matrix = np.zeros((len(T), len(T)), dtype='float32')\n",
    "for i, t1 in enumerate(list(T)):\n",
    "    for j, t2 in enumerate(list(T)): \n",
    "        tags_matrix[i, j] = t2_given_t1(t2, t1)[0]/t2_given_t1(t2, t1)[1]"
   ]
  },
  {
   "cell_type": "code",
   "execution_count": 14,
   "metadata": {},
   "outputs": [
    {
     "data": {
      "text/html": [
       "<div>\n",
       "<style scoped>\n",
       "    .dataframe tbody tr th:only-of-type {\n",
       "        vertical-align: middle;\n",
       "    }\n",
       "\n",
       "    .dataframe tbody tr th {\n",
       "        vertical-align: top;\n",
       "    }\n",
       "\n",
       "    .dataframe thead th {\n",
       "        text-align: right;\n",
       "    }\n",
       "</style>\n",
       "<table border=\"1\" class=\"dataframe\">\n",
       "  <thead>\n",
       "    <tr style=\"text-align: right;\">\n",
       "      <th></th>\n",
       "      <th>ADV</th>\n",
       "      <th>X</th>\n",
       "      <th>ADP</th>\n",
       "      <th>NUM</th>\n",
       "      <th>VERB</th>\n",
       "      <th>PRT</th>\n",
       "      <th>DET</th>\n",
       "      <th>.</th>\n",
       "      <th>CONJ</th>\n",
       "      <th>PRON</th>\n",
       "      <th>ADJ</th>\n",
       "      <th>NOUN</th>\n",
       "    </tr>\n",
       "  </thead>\n",
       "  <tbody>\n",
       "    <tr>\n",
       "      <th>ADV</th>\n",
       "      <td>0.078457</td>\n",
       "      <td>0.023271</td>\n",
       "      <td>0.119348</td>\n",
       "      <td>0.031250</td>\n",
       "      <td>0.342753</td>\n",
       "      <td>0.014628</td>\n",
       "      <td>0.068484</td>\n",
       "      <td>0.136636</td>\n",
       "      <td>0.006981</td>\n",
       "      <td>0.015625</td>\n",
       "      <td>0.130984</td>\n",
       "      <td>0.031582</td>\n",
       "    </tr>\n",
       "    <tr>\n",
       "      <th>X</th>\n",
       "      <td>0.025939</td>\n",
       "      <td>0.074475</td>\n",
       "      <td>0.144971</td>\n",
       "      <td>0.002387</td>\n",
       "      <td>0.204806</td>\n",
       "      <td>0.185073</td>\n",
       "      <td>0.054265</td>\n",
       "      <td>0.164545</td>\n",
       "      <td>0.009389</td>\n",
       "      <td>0.054742</td>\n",
       "      <td>0.016073</td>\n",
       "      <td>0.063335</td>\n",
       "    </tr>\n",
       "    <tr>\n",
       "      <th>ADP</th>\n",
       "      <td>0.013741</td>\n",
       "      <td>0.033767</td>\n",
       "      <td>0.017150</td>\n",
       "      <td>0.062101</td>\n",
       "      <td>0.008095</td>\n",
       "      <td>0.001491</td>\n",
       "      <td>0.325522</td>\n",
       "      <td>0.039945</td>\n",
       "      <td>0.000852</td>\n",
       "      <td>0.069131</td>\n",
       "      <td>0.107265</td>\n",
       "      <td>0.320942</td>\n",
       "    </tr>\n",
       "    <tr>\n",
       "      <th>NUM</th>\n",
       "      <td>0.002672</td>\n",
       "      <td>0.210511</td>\n",
       "      <td>0.035926</td>\n",
       "      <td>0.185570</td>\n",
       "      <td>0.018409</td>\n",
       "      <td>0.026128</td>\n",
       "      <td>0.002969</td>\n",
       "      <td>0.118171</td>\n",
       "      <td>0.012767</td>\n",
       "      <td>0.001485</td>\n",
       "      <td>0.034145</td>\n",
       "      <td>0.351247</td>\n",
       "    </tr>\n",
       "    <tr>\n",
       "      <th>VERB</th>\n",
       "      <td>0.081142</td>\n",
       "      <td>0.217516</td>\n",
       "      <td>0.092002</td>\n",
       "      <td>0.022807</td>\n",
       "      <td>0.169964</td>\n",
       "      <td>0.031572</td>\n",
       "      <td>0.133426</td>\n",
       "      <td>0.035063</td>\n",
       "      <td>0.005585</td>\n",
       "      <td>0.035218</td>\n",
       "      <td>0.065860</td>\n",
       "      <td>0.109844</td>\n",
       "    </tr>\n",
       "    <tr>\n",
       "      <th>PRT</th>\n",
       "      <td>0.009833</td>\n",
       "      <td>0.014094</td>\n",
       "      <td>0.019666</td>\n",
       "      <td>0.055064</td>\n",
       "      <td>0.399869</td>\n",
       "      <td>0.001967</td>\n",
       "      <td>0.101606</td>\n",
       "      <td>0.044248</td>\n",
       "      <td>0.001967</td>\n",
       "      <td>0.018027</td>\n",
       "      <td>0.085873</td>\n",
       "      <td>0.247788</td>\n",
       "    </tr>\n",
       "    <tr>\n",
       "      <th>DET</th>\n",
       "      <td>0.012635</td>\n",
       "      <td>0.045848</td>\n",
       "      <td>0.009507</td>\n",
       "      <td>0.021781</td>\n",
       "      <td>0.039832</td>\n",
       "      <td>0.000241</td>\n",
       "      <td>0.005776</td>\n",
       "      <td>0.017810</td>\n",
       "      <td>0.000481</td>\n",
       "      <td>0.003610</td>\n",
       "      <td>0.206739</td>\n",
       "      <td>0.635740</td>\n",
       "    </tr>\n",
       "    <tr>\n",
       "      <th>.</th>\n",
       "      <td>0.053155</td>\n",
       "      <td>0.027340</td>\n",
       "      <td>0.091072</td>\n",
       "      <td>0.081212</td>\n",
       "      <td>0.088473</td>\n",
       "      <td>0.002331</td>\n",
       "      <td>0.173718</td>\n",
       "      <td>0.094568</td>\n",
       "      <td>0.057727</td>\n",
       "      <td>0.065705</td>\n",
       "      <td>0.043833</td>\n",
       "      <td>0.220778</td>\n",
       "    </tr>\n",
       "    <tr>\n",
       "      <th>CONJ</th>\n",
       "      <td>0.053172</td>\n",
       "      <td>0.007929</td>\n",
       "      <td>0.053172</td>\n",
       "      <td>0.042444</td>\n",
       "      <td>0.155784</td>\n",
       "      <td>0.005131</td>\n",
       "      <td>0.123134</td>\n",
       "      <td>0.036381</td>\n",
       "      <td>0.000466</td>\n",
       "      <td>0.058302</td>\n",
       "      <td>0.117537</td>\n",
       "      <td>0.346548</td>\n",
       "    </tr>\n",
       "    <tr>\n",
       "      <th>PRON</th>\n",
       "      <td>0.031985</td>\n",
       "      <td>0.092486</td>\n",
       "      <td>0.022736</td>\n",
       "      <td>0.007707</td>\n",
       "      <td>0.487861</td>\n",
       "      <td>0.012717</td>\n",
       "      <td>0.009634</td>\n",
       "      <td>0.040077</td>\n",
       "      <td>0.004239</td>\n",
       "      <td>0.007707</td>\n",
       "      <td>0.072447</td>\n",
       "      <td>0.210405</td>\n",
       "    </tr>\n",
       "    <tr>\n",
       "      <th>ADJ</th>\n",
       "      <td>0.004580</td>\n",
       "      <td>0.021103</td>\n",
       "      <td>0.077540</td>\n",
       "      <td>0.020775</td>\n",
       "      <td>0.012105</td>\n",
       "      <td>0.010633</td>\n",
       "      <td>0.004908</td>\n",
       "      <td>0.064289</td>\n",
       "      <td>0.016849</td>\n",
       "      <td>0.000491</td>\n",
       "      <td>0.065925</td>\n",
       "      <td>0.700802</td>\n",
       "    </tr>\n",
       "    <tr>\n",
       "      <th>NOUN</th>\n",
       "      <td>0.017215</td>\n",
       "      <td>0.029214</td>\n",
       "      <td>0.176818</td>\n",
       "      <td>0.009629</td>\n",
       "      <td>0.147057</td>\n",
       "      <td>0.043475</td>\n",
       "      <td>0.013167</td>\n",
       "      <td>0.239733</td>\n",
       "      <td>0.042746</td>\n",
       "      <td>0.004741</td>\n",
       "      <td>0.012218</td>\n",
       "      <td>0.263987</td>\n",
       "    </tr>\n",
       "  </tbody>\n",
       "</table>\n",
       "</div>"
      ],
      "text/plain": [
       "           ADV         X       ADP       NUM      VERB       PRT       DET  \\\n",
       "ADV   0.078457  0.023271  0.119348  0.031250  0.342753  0.014628  0.068484   \n",
       "X     0.025939  0.074475  0.144971  0.002387  0.204806  0.185073  0.054265   \n",
       "ADP   0.013741  0.033767  0.017150  0.062101  0.008095  0.001491  0.325522   \n",
       "NUM   0.002672  0.210511  0.035926  0.185570  0.018409  0.026128  0.002969   \n",
       "VERB  0.081142  0.217516  0.092002  0.022807  0.169964  0.031572  0.133426   \n",
       "PRT   0.009833  0.014094  0.019666  0.055064  0.399869  0.001967  0.101606   \n",
       "DET   0.012635  0.045848  0.009507  0.021781  0.039832  0.000241  0.005776   \n",
       ".     0.053155  0.027340  0.091072  0.081212  0.088473  0.002331  0.173718   \n",
       "CONJ  0.053172  0.007929  0.053172  0.042444  0.155784  0.005131  0.123134   \n",
       "PRON  0.031985  0.092486  0.022736  0.007707  0.487861  0.012717  0.009634   \n",
       "ADJ   0.004580  0.021103  0.077540  0.020775  0.012105  0.010633  0.004908   \n",
       "NOUN  0.017215  0.029214  0.176818  0.009629  0.147057  0.043475  0.013167   \n",
       "\n",
       "             .      CONJ      PRON       ADJ      NOUN  \n",
       "ADV   0.136636  0.006981  0.015625  0.130984  0.031582  \n",
       "X     0.164545  0.009389  0.054742  0.016073  0.063335  \n",
       "ADP   0.039945  0.000852  0.069131  0.107265  0.320942  \n",
       "NUM   0.118171  0.012767  0.001485  0.034145  0.351247  \n",
       "VERB  0.035063  0.005585  0.035218  0.065860  0.109844  \n",
       "PRT   0.044248  0.001967  0.018027  0.085873  0.247788  \n",
       "DET   0.017810  0.000481  0.003610  0.206739  0.635740  \n",
       ".     0.094568  0.057727  0.065705  0.043833  0.220778  \n",
       "CONJ  0.036381  0.000466  0.058302  0.117537  0.346548  \n",
       "PRON  0.040077  0.004239  0.007707  0.072447  0.210405  \n",
       "ADJ   0.064289  0.016849  0.000491  0.065925  0.700802  \n",
       "NOUN  0.239733  0.042746  0.004741  0.012218  0.263987  "
      ]
     },
     "execution_count": 14,
     "metadata": {},
     "output_type": "execute_result"
    }
   ],
   "source": [
    "# convert the matrix to a df for better readability\n",
    "tags_df = pd.DataFrame(tags_matrix, columns = list(T), index=list(T))\n",
    "tags_df"
   ]
  },
  {
   "cell_type": "code",
   "execution_count": 15,
   "metadata": {},
   "outputs": [
    {
     "data": {
      "image/png": "[encoded data removed]",
      "text/plain": [
       "<Figure size 1296x864 with 2 Axes>"
      ]
     },
     "metadata": {
      "needs_background": "light"
     },
     "output_type": "display_data"
    }
   ],
   "source": [
    "\n",
    "# heatmap of tags matrix\n",
    "# T(i, j) indicates P(tag j given tag i)\n",
    "plt.figure(figsize=(18, 12))\n",
    "sns.heatmap(tags_df)\n",
    "plt.show()"
   ]
  },
  {
   "cell_type": "code",
   "execution_count": 16,
   "metadata": {},
   "outputs": [
    {
     "data": {
      "image/png": "[encoded data removed]",
      "text/plain": [
       "<Figure size 1296x864 with 2 Axes>"
      ]
     },
     "metadata": {
      "needs_background": "light"
     },
     "output_type": "display_data"
    }
   ],
   "source": [
    "\n",
    "# frequent tags\n",
    "# filter the df to get P(t2, t1) > 0.5\n",
    "tags_frequent = tags_df[tags_df>0.5]\n",
    "plt.figure(figsize=(18, 12))\n",
    "sns.heatmap(tags_frequent)\n",
    "plt.show()"
   ]
  },
  {
   "cell_type": "code",
   "execution_count": 17,
   "metadata": {},
   "outputs": [
    {
     "data": {
      "text/plain": [
       "95726"
      ]
     },
     "execution_count": 17,
     "metadata": {},
     "output_type": "execute_result"
    }
   ],
   "source": [
    "#Get the total length of tagged words in training corpus\n",
    "len(train_tagged_words)"
   ]
  },
  {
   "cell_type": "code",
   "execution_count": 18,
   "metadata": {},
   "outputs": [],
   "source": [
    "\n",
    "# Viterbi Heuristic\n",
    "def Viterbi(words, train_bag = train_tagged_words):\n",
    "    state = []\n",
    "    T = list(set([pair[1] for pair in train_bag]))\n",
    "    \n",
    "    for key, word in enumerate(words):\n",
    "        #initialise list of probability column for a given observation\n",
    "        p = [] \n",
    "        for tag in T:\n",
    "            if key == 0:\n",
    "                transition_p = tags_df.loc['.', tag]\n",
    "            else:\n",
    "                transition_p = tags_df.loc[state[-1], tag]\n",
    "                \n",
    "            # compute emission and state probabilities\n",
    "            emission_p = word_given_tag(words[key], tag)[0]/word_given_tag(words[key], tag)[1]\n",
    "            state_probability = emission_p * transition_p    \n",
    "            p.append(state_probability)\n",
    "            \n",
    "        pmax = max(p)\n",
    "        # getting state for which probability is maximum\n",
    "        state_max = T[p.index(pmax)] \n",
    "        state.append(state_max)\n",
    "    return list(zip(words, state))"
   ]
  },
  {
   "cell_type": "code",
   "execution_count": 19,
   "metadata": {},
   "outputs": [],
   "source": [
    "\n",
    "# Running on entire test dataset would take more than 3-4hrs. \n",
    "# Let's test our Viterbi algorithm on a few sample sentences of test dataset\n",
    "\n",
    "\n",
    "# list of tagged words in test set\n",
    "test_run_base = [tup for sent in test_set for tup in sent]\n",
    "\n",
    "# list of  words which are untagged in test set\n",
    "test_tagged_words = [tup[0] for sent in test_set for tup in sent]"
   ]
  },
  {
   "cell_type": "code",
   "execution_count": 20,
   "metadata": {},
   "outputs": [],
   "source": [
    "# tagging the test sentences\n",
    "start = time.time()\n",
    "tagged_seq = Viterbi(test_tagged_words)\n",
    "end = time.time()\n",
    "difference = end-start"
   ]
  },
  {
   "cell_type": "code",
   "execution_count": 21,
   "metadata": {},
   "outputs": [
    {
     "name": "stdout",
     "output_type": "stream",
     "text": [
      "381.99736309051514\n"
     ]
    }
   ],
   "source": [
    "#Print total time taken to train the algorithm\n",
    "print(difference)"
   ]
  },
  {
   "cell_type": "code",
   "execution_count": 22,
   "metadata": {},
   "outputs": [
    {
     "name": "stdout",
     "output_type": "stream",
     "text": [
      "0.8981818181818182\n"
     ]
    }
   ],
   "source": [
    "\n",
    "# Get accuracy of model\n",
    "check = [i for i, j in zip(tagged_seq, test_run_base) if i == j] \n",
    "accuracy = len(check)/len(tagged_seq)\n",
    "print(accuracy)"
   ]
  },
  {
   "cell_type": "code",
   "execution_count": 23,
   "metadata": {},
   "outputs": [
    {
     "name": "stdout",
     "output_type": "stream",
     "text": [
      "Android is a mobile operating system developed by Google.\n",
      "\n",
      "Android has been the best-selling OS worldwide on smartphones since 2011 and on tablets since 2013.\n",
      "\n",
      "Google and Twitter made a deal in 2015 that gave Google access to Twitter's firehose.\n",
      "\n",
      "Twitter is an online news and social networking service on which users post and interact with messages known as tweets.\n",
      "\n",
      "Before entering politics, Donald Trump was a domineering businessman and a television personality.\n",
      "\n",
      "The 2018 FIFA World Cup is the 21st FIFA World Cup, an international football tournament contested once every four years.\n",
      "\n",
      "This is the first World Cup to be held in Eastern Europe and the 11th time that it has been held in Europe.\n",
      "\n",
      "Show me the cheapest round trips from Dallas to Atlanta\n",
      "\n",
      "I would like to see flights from Denver to Philadelphia.\n",
      "\n",
      "Show me the price of the flights leaving Atlanta at about 3 in the afternoon and arriving in San Francisco.\n",
      "\n",
      "NASA invited social media users to experience the launch of ICESAT-2 Satellite.\n",
      "\n",
      "\n",
      "\n"
     ]
    }
   ],
   "source": [
    "#Read the text file\n",
    "lines=[]\n",
    "f = codecs.open(\"test_sentences.txt\", encoding='utf-8')\n",
    "for line in f:\n",
    "    print(line)\n",
    "    lines.append(line)"
   ]
  },
  {
   "cell_type": "code",
   "execution_count": null,
   "metadata": {},
   "outputs": [],
   "source": []
  },
  {
   "cell_type": "markdown",
   "metadata": {},
   "source": [
    "### Solve the problem of unknown words"
   ]
  },
  {
   "cell_type": "code",
   "execution_count": 24,
   "metadata": {},
   "outputs": [
    {
     "data": {
      "text/plain": [
       "['Android is a mobile operating system developed by Google.\\n',\n",
       " 'Android has been the best-selling OS worldwide on smartphones since 2011 and on tablets since 2013.\\n',\n",
       " \"Google and Twitter made a deal in 2015 that gave Google access to Twitter's firehose.\\n\",\n",
       " 'Twitter is an online news and social networking service on which users post and interact with messages known as tweets.\\n',\n",
       " 'Before entering politics, Donald Trump was a domineering businessman and a television personality.\\n',\n",
       " 'The 2018 FIFA World Cup is the 21st FIFA World Cup, an international football tournament contested once every four years.\\n',\n",
       " 'This is the first World Cup to be held in Eastern Europe and the 11th time that it has been held in Europe.\\n',\n",
       " 'Show me the cheapest round trips from Dallas to Atlanta\\n',\n",
       " 'I would like to see flights from Denver to Philadelphia.\\n',\n",
       " 'Show me the price of the flights leaving Atlanta at about 3 in the afternoon and arriving in San Francisco.\\n',\n",
       " 'NASA invited social media users to experience the launch of ICESAT-2 Satellite.\\n',\n",
       " '\\n']"
      ]
     },
     "execution_count": 24,
     "metadata": {},
     "output_type": "execute_result"
    }
   ],
   "source": [
    "lines\n"
   ]
  },
  {
   "cell_type": "code",
   "execution_count": 25,
   "metadata": {},
   "outputs": [
    {
     "data": {
      "text/plain": [
       "['Android is a mobile operating system developed by Google.',\n",
       " 'Android has been the best-selling OS worldwide on smartphones since 2011 and on tablets since 2013.',\n",
       " \"Google and Twitter made a deal in 2015 that gave Google access to Twitter's firehose.\",\n",
       " 'Twitter is an online news and social networking service on which users post and interact with messages known as tweets.',\n",
       " 'Before entering politics, Donald Trump was a domineering businessman and a television personality.',\n",
       " 'The 2018 FIFA World Cup is the 21st FIFA World Cup, an international football tournament contested once every four years.',\n",
       " 'This is the first World Cup to be held in Eastern Europe and the 11th time that it has been held in Europe.',\n",
       " 'Show me the cheapest round trips from Dallas to Atlanta',\n",
       " 'I would like to see flights from Denver to Philadelphia.',\n",
       " 'Show me the price of the flights leaving Atlanta at about 3 in the afternoon and arriving in San Francisco.',\n",
       " 'NASA invited social media users to experience the launch of ICESAT-2 Satellite.']"
      ]
     },
     "execution_count": 25,
     "metadata": {},
     "output_type": "execute_result"
    }
   ],
   "source": [
    "#Strip the special characters and empty strings in the list file\n",
    "test_lines =[sent.rstrip() for sent in lines if sent.rstrip()!='']\n",
    "test_lines"
   ]
  },
  {
   "cell_type": "code",
   "execution_count": 26,
   "metadata": {},
   "outputs": [
    {
     "data": {
      "text/plain": [
       "[[('sold', 'VERB'), (('*-107', 'ADV'), ('*-107', 'X'))],\n",
       " [('raise', 'VERB'), (('about', 'ADP'), ('about', 'ADV'))],\n",
       " [('in', 'ADP'), (('maturing', 'ADV'), ('maturing', 'VERB'))],\n",
       " [('maturing', 'VERB'), (('notes', 'VERB'), ('notes', 'NOUN'))],\n",
       " [('by', 'ADP'), (('train', 'VERB'), ('train', 'NOUN'))],\n",
       " [('the', 'DET'), (('port', 'ADV'), ('port', 'NOUN'))],\n",
       " [('the', 'DET'), (('future', 'ADJ'), ('future', 'NOUN'))],\n",
       " [('.', '.'), (('Per-share', 'ADV'), ('Per-share', 'ADJ'))],\n",
       " [('Per-share', 'ADJ'), (('net', 'ADJ'), ('net', 'NOUN'))],\n",
       " [('to', 'PRT'), (('7.84', 'ADV'), ('7.84', 'NUM'))],\n",
       " [('from', 'ADP'), (('6.53', 'ADV'), ('6.53', 'NUM'))],\n",
       " [('.', '.'), (('Individual', 'ADV'), ('Individual', 'ADJ'))],\n",
       " [('$', '.'), (('2.95', 'ADV'), ('2.95', 'NUM'))],\n",
       " [('and', 'CONJ'), (('yearly', 'ADV'), ('yearly', 'ADJ'))],\n",
       " [('.', '.'), (('BRIEFS', 'ADV'), ('BRIEFS', 'NOUN'))],\n",
       " [('as', 'ADP'), (('athletic', 'ADV'), ('athletic', 'ADJ'))],\n",
       " [('*-2', 'X'), (('to', 'PRT'), ('to', 'ADJ'))],\n",
       " [('to', 'ADJ'), (('appeal', 'VERB'), ('appeal', 'NOUN'))],\n",
       " [('*', 'X'), (('SWITCHING', 'ADV'), ('SWITCHING', 'VERB'))],\n",
       " [('SWITCHING', 'VERB'), (('TO', 'ADV'), ('TO', 'PRT'))],\n",
       " [('THE', 'DET'), (('DEFENSE', 'ADV'), ('DEFENSE', 'NOUN'))],\n",
       " [('grown', 'VERB'), (('tired', 'ADV'), ('tired', 'ADJ'))],\n",
       " [('the', 'DET'), (('stigma', 'ADV'), ('stigma', 'NOUN'))],\n",
       " [('negative', 'ADJ'), (('campaigner', 'ADV'), ('campaigner', 'NOUN'))],\n",
       " [('Mark', 'NOUN'), (('Rozell', 'ADV'), ('Rozell', 'NOUN'))],\n",
       " [('.', '.'), (('Most', 'ADJ'), ('Most', 'ADV'))],\n",
       " [('has', 'VERB'), (('as', 'ADP'), ('as', 'ADV'))],\n",
       " [(',', '.'), (('decries', 'ADV'), ('decries', 'VERB'))],\n",
       " [('carrier', 'NOUN'), (('so', 'ADV'), ('so', 'ADP'))],\n",
       " [('be', 'VERB'), (('impaired', 'ADV'), ('impaired', 'VERB'))],\n",
       " [('of', 'ADP'), (('airline-related', 'ADV'), ('airline-related', 'ADJ'))],\n",
       " [('an', 'DET'), (('overriding', 'ADV'), ('overriding', 'VERB'))],\n",
       " [('overriding', 'VERB'), (('public', 'ADJ'), ('public', 'NOUN'))],\n",
       " [('.', '.'), (('Proper', 'ADV'), ('Proper', 'ADJ'))],\n",
       " [('``', '.'), (('rounds', 'ADV'), ('rounds', 'NOUN'))],\n",
       " [('the', 'DET'), (('highest-pitched', 'ADV'), ('highest-pitched', 'ADJ'))],\n",
       " [('simple', 'ADJ'), (('descending', 'ADV'), ('descending', 'VERB'))],\n",
       " [(',', '.'), (('as', 'ADP'), ('as', 'ADV'))],\n",
       " [('their', 'PRON'), (('discos', 'ADV'), ('discos', 'NOUN'))],\n",
       " [('their', 'PRON'), (('dances', 'ADV'), ('dances', 'NOUN'))],\n",
       " [('just', 'ADV'), (('drift', 'ADV'), ('drift', 'VERB'))],\n",
       " [('``', '.'), (('that', 'DET'), ('that', 'ADP'))],\n",
       " [('to', 'PRT'), (('preclude', 'ADV'), ('preclude', 'VERB'))],\n",
       " [('*', 'X'), (('disseminating', 'ADV'), ('disseminating', 'VERB'))],\n",
       " [('he', 'PRON'), (('dubbed', 'ADV'), ('dubbed', 'VERB'))],\n",
       " [('even', 'ADV'), (('more', 'ADJ'), ('more', 'ADV'))],\n",
       " [('.', '.'), (('Owner', 'ADV'), ('Owner', 'NOUN'))],\n",
       " [('Owner', 'NOUN'), (('Al', 'ADV'), ('Al', 'NOUN'))],\n",
       " [('Al', 'NOUN'), (('Brownstein', 'ADV'), ('Brownstein', 'NOUN'))],\n",
       " [('a', 'DET'), (('retailer', 'ADV'), ('retailer', 'NOUN'))],\n",
       " [('``', '.'), (('Is', 'ADV'), ('Is', 'VERB'))],\n",
       " [('Is', 'VERB'), (('that', 'ADP'), ('that', 'DET'))],\n",
       " [('that', 'DET'), (('wholesale', 'NOUN'), ('wholesale', 'ADJ'))],\n",
       " [('he', 'PRON'), (('re-thought', 'ADV'), ('re-thought', 'ADJ'))],\n",
       " [('is', 'VERB'), (('traveling', 'ADV'), ('traveling', 'VERB'))],\n",
       " [('made', 'VERB'), (('clear', 'ADJ'), ('clear', 'ADV'))],\n",
       " [('an', 'DET'), (('unofficial', 'ADV'), ('unofficial', 'ADJ'))],\n",
       " [('unofficial', 'ADJ'), (('envoy', 'ADV'), ('envoy', 'NOUN'))],\n",
       " [('.', '.'), (('Brisk', 'ADV'), ('Brisk', 'ADJ'))],\n",
       " [('pushed', 'VERB'), (('up', 'ADV'), ('up', 'PRT'))],\n",
       " [('to', 'PRT'), (('speculate', 'ADV'), ('speculate', 'VERB'))],\n",
       " [(\"'s\", 'PRT'), (('swelling', 'ADV'), ('swelling', 'VERB'))],\n",
       " [('at', 'ADP'), (('102', 'ADV'), ('102', 'NUM'))],\n",
       " [('with', 'ADP'), (('102', 'ADV'), ('102', 'NUM'))],\n",
       " [('102', 'NUM'), (('12\\\\/32', 'ADV'), ('12\\\\/32', 'NUM'))],\n",
       " [('who', 'PRON'), (('*T*-93', 'ADV'), ('*T*-93', 'X'))],\n",
       " [('they', 'PRON'), (('cared', 'ADV'), ('cared', 'VERB'))],\n",
       " [('who', 'PRON'), (('*T*-94', 'ADV'), ('*T*-94', 'X'))],\n",
       " [('--', '.'), (('unlike', 'ADP'), ('unlike', 'ADJ'))],\n",
       " [('earlier', 'ADJ'), (('built-from-kit', 'ADV'), ('built-from-kit', 'ADJ'))],\n",
       " [('the', 'DET'), (('Altair', 'ADV'), ('Altair', 'NOUN'))],\n",
       " [(',', '.'), (('Sol', 'ADV'), ('Sol', 'NOUN'))],\n",
       " [('and', 'CONJ'), (('IMSAI', 'ADV'), ('IMSAI', 'NOUN'))],\n",
       " [('had', 'VERB'), (('keyboards', 'ADV'), ('keyboards', 'NOUN'))],\n",
       " [('could', 'VERB'), (('store', 'NOUN'), ('store', 'VERB'))],\n",
       " [('could', 'VERB'), (('compel', 'ADV'), ('compel', 'VERB'))],\n",
       " [('small', 'ADJ'), (('video-viewing', 'ADV'), ('video-viewing', 'ADJ'))],\n",
       " [('video-viewing', 'ADJ'), (('parlors', 'ADV'), ('parlors', 'NOUN'))],\n",
       " [('--', '.'), (('even', 'ADV'), ('even', 'ADJ'))],\n",
       " [('attorney', 'NOUN'), (('general', 'ADJ'), ('general', 'NOUN'))],\n",
       " [('Bob', 'NOUN'), (('Goodman', 'ADV'), ('Goodman', 'NOUN'))],\n",
       " [('to', 'PRT'), (('shake', 'ADV'), ('shake', 'VERB'))],\n",
       " [(\"'s\", 'PRT'), (('support', 'VERB'), ('support', 'NOUN'))],\n",
       " [('the', 'DET'), (('very', 'ADV'), ('very', 'ADJ'))],\n",
       " [('$', '.'), (('184', 'ADV'), ('184', 'NUM'))],\n",
       " [('for', 'ADP'), (('*-30', 'ADV'), ('*-30', 'X'))],\n",
       " [('acquired', 'VERB'), (('850', 'ADV'), ('850', 'NUM'))],\n",
       " [('stand', 'VERB'), (('up', 'ADV'), ('up', 'PRT'))],\n",
       " [('is', 'VERB'), (('sufficient', 'ADV'), ('sufficient', 'ADJ'))],\n",
       " [('.', '.'), (('LANDOR', 'ADV'), ('LANDOR', 'NOUN'))],\n",
       " [('LANDOR', 'NOUN'), (('ASSOCIATES', 'ADV'), ('ASSOCIATES', 'NOUN'))],\n",
       " [('in', 'ADP'), (('fracture', 'ADV'), ('fracture', 'NOUN'))],\n",
       " [('fracture', 'NOUN'), (('healing', 'ADV'), ('healing', 'NOUN'))],\n",
       " [('with', 'ADP'), (('periodontal', 'ADV'), ('periodontal', 'ADJ'))],\n",
       " [('certain', 'ADJ'), (('cancers', 'ADV'), ('cancers', 'NOUN'))],\n",
       " [(\"'s\", 'PRT'), (('work', 'VERB'), ('work', 'NOUN'))],\n",
       " [('work', 'NOUN'), (('force', 'VERB'), ('force', 'NOUN'))],\n",
       " [('would', 'VERB'), (('like', 'ADP'), ('like', 'VERB'))],\n",
       " [('to', 'PRT'), (('combine', 'ADV'), ('combine', 'VERB'))],\n",
       " [('``', '.'), (('melt-textured', 'ADV'), ('melt-textured', 'ADJ'))],\n",
       " [('*', 'X'), (('earlier', 'ADV'), ('earlier', 'ADJ'))],\n",
       " [('*-1', 'X'), (('trading', 'NOUN'), ('trading', 'VERB'))],\n",
       " [('strong', 'ADJ'), (('livestock', 'ADV'), ('livestock', 'NOUN'))],\n",
       " [(\"'s\", 'PRT'), (('cattle', 'ADV'), ('cattle', 'NOUN'))],\n",
       " [('cattle', 'NOUN'), (('inventory', 'ADV'), ('inventory', 'NOUN'))],\n",
       " [('dropped', 'VERB'), (('close', 'VERB'), ('close', 'ADV'))],\n",
       " [('30-year', 'ADJ'), (('low', 'ADJ'), ('low', 'NOUN'))],\n",
       " [('go', 'VERB'), (('through', 'ADP'), ('through', 'PRT'))],\n",
       " [('Ms.', 'NOUN'), (('Ensrud', 'ADV'), ('Ensrud', 'NOUN'))],\n",
       " [('a', 'DET'), (('free-lance', 'ADV'), ('free-lance', 'ADJ'))],\n",
       " [('seeking', 'VERB'), (('solutions', 'ADV'), ('solutions', 'NOUN'))],\n",
       " [('cell', 'NOUN'), (('shortage', 'ADV'), ('shortage', 'NOUN'))],\n",
       " [('``', '.'), (('no', 'DET'), ('no', 'X'))],\n",
       " [('an', 'DET'), (('understanding', 'ADV'), ('understanding', 'NOUN'))],\n",
       " [('Michael', 'NOUN'), (('Farren', 'ADV'), ('Farren', 'NOUN'))],\n",
       " [('.', '.'), (('Intermec', 'ADV'), ('Intermec', 'NOUN'))],\n",
       " [(',', '.'), (('offering', 'NOUN'), ('offering', 'VERB'))],\n",
       " [('of', 'ADP'), (('1,050,000', 'ADV'), ('1,050,000', 'NUM'))],\n",
       " [('and', 'CONJ'), (('Piper', 'ADV'), ('Piper', 'NOUN'))],\n",
       " [(',', '.'), (('Jaffray', 'ADV'), ('Jaffray', 'NOUN'))],\n",
       " [('&', 'CONJ'), (('Hopwood', 'ADV'), ('Hopwood', 'NOUN'))],\n",
       " [('.', '.'), (('Composer', 'ADV'), ('Composer', 'NOUN'))],\n",
       " [('Composer', 'NOUN'), (('Marc', 'ADV'), ('Marc', 'NOUN'))],\n",
       " [('Marc', 'NOUN'), (('Marder', 'ADV'), ('Marder', 'NOUN'))],\n",
       " [('his', 'PRON'), (('living', 'VERB'), ('living', 'NOUN'))],\n",
       " [('the', 'DET'), (('double', 'VERB'), ('double', 'ADJ'))],\n",
       " [('double', 'ADJ'), (('bass', 'ADV'), ('bass', 'NOUN'))],\n",
       " [('in', 'ADP'), (('classical', 'ADV'), ('classical', 'ADJ'))],\n",
       " [('music', 'NOUN'), (('ensembles', 'ADV'), ('ensembles', 'NOUN'))],\n",
       " [('an', 'DET'), (('exciting', 'ADV'), ('exciting', 'ADJ'))],\n",
       " [(',', '.'), (('eclectic', 'ADV'), ('eclectic', 'ADJ'))],\n",
       " [('score', 'NOUN'), (('that', 'ADP'), ('that', 'DET'))],\n",
       " [('the', 'DET'), (('characters', 'ADV'), ('characters', 'NOUN'))],\n",
       " [('far', 'ADV'), (('more', 'ADJ'), ('more', 'ADV'))],\n",
       " [('than', 'ADP'), (('intertitles', 'ADV'), ('intertitles', 'NOUN'))],\n",
       " [('Parliament', 'NOUN'), (('authorized', 'ADV'), ('authorized', 'VERB'))],\n",
       " [('Minister', 'NOUN'), (('Miklos', 'ADV'), ('Miklos', 'NOUN'))],\n",
       " [('announcer', 'NOUN'), (('interjects', 'ADV'), ('interjects', 'VERB'))],\n",
       " [('be', 'VERB'), (('interrogated', 'ADV'), ('interrogated', 'VERB'))],\n",
       " [('accused', 'VERB'), (('rapists', 'ADV'), ('rapists', 'NOUN'))],\n",
       " [('the', 'DET'), (('incident', 'ADV'), ('incident', 'NOUN'))],\n",
       " [('*', 'X'), (('evaluating', 'ADV'), ('evaluating', 'VERB'))],\n",
       " [(\"'s\", 'PRT'), (('comments', 'VERB'), ('comments', 'NOUN'))],\n",
       " [(\"n't\", 'ADV'), (('discredit', 'ADV'), ('discredit', 'VERB'))],\n",
       " [('the', 'DET'), (('judiciary', 'ADV'), ('judiciary', 'NOUN'))],\n",
       " [('of', 'ADP'), (('softening', 'NOUN'), ('softening', 'VERB'))],\n",
       " [('in', 'ADP'), (('working', 'NOUN'), ('working', 'VERB'))],\n",
       " [('Buick', 'NOUN'), (('approached', 'ADV'), ('approached', 'VERB'))],\n",
       " [('approached', 'VERB'), (('American', 'ADJ'), ('American', 'NOUN'))],\n",
       " [('of', 'ADP'), (('American', 'ADJ'), ('American', 'NOUN'))],\n",
       " [('publishes', 'VERB'), (('The', 'DET'), ('The', 'NOUN'))],\n",
       " [(',', '.'), (('Barron', 'ADV'), ('Barron', 'NOUN'))],\n",
       " [('at', 'ADP'), (('2.46', 'ADV'), ('2.46', 'NUM'))],\n",
       " [('with', 'ADP'), (('2.42', 'ADV'), ('2.42', 'NUM'))],\n",
       " [('``', '.'), (('deplorable', 'ADV'), ('deplorable', 'ADJ'))],\n",
       " [('but', 'CONJ'), (('brushed', 'ADV'), ('brushed', 'VERB'))],\n",
       " [('brushed', 'VERB'), (('off', 'ADP'), ('off', 'PRT'))],\n",
       " [('*', 'X'), (('renewing', 'ADV'), ('renewing', 'VERB'))],\n",
       " [('the', 'DET'), (('insurgents', 'ADV'), ('insurgents', 'NOUN'))],\n",
       " [('.', '.'), (('Compound', 'ADV'), ('Compound', 'NOUN'))],\n",
       " [('assume', 'VERB'), (('reinvestment', 'ADV'), ('reinvestment', 'NOUN'))],\n",
       " [('and', 'CONJ'), (('that', 'DET'), ('that', 'ADP'))],\n",
       " [(\"n't\", 'ADV'), (('as', 'ADP'), ('as', 'ADV'))],\n",
       " [('as', 'ADV'), (('troublesome', 'ADV'), ('troublesome', 'ADJ'))],\n",
       " [('to', 'PRT'), (('falsify', 'ADV'), ('falsify', 'VERB'))],\n",
       " [('a', 'DET'), (('several-year', 'ADV'), ('several-year', 'ADJ'))],\n",
       " [('.', '.'), (('LSI', 'ADV'), ('LSI', 'NOUN'))],\n",
       " [('LSI', 'NOUN'), (('Logic', 'ADV'), ('Logic', 'NOUN'))],\n",
       " [('*U*', 'X'), (('third-quarter', 'NOUN'), ('third-quarter', 'ADJ'))],\n",
       " [('third-quarter', 'ADJ'), (('net', 'NOUN'), ('net', 'ADJ'))],\n",
       " [('charge', 'NOUN'), (('that', 'ADP'), ('that', 'DET'))],\n",
       " [('that', 'DET'), (('*T*-145', 'ADV'), ('*T*-145', 'X'))],\n",
       " [('continuing', 'VERB'),\n",
       "  (('industry-wide', 'ADV'), ('industry-wide', 'ADJ'))],\n",
       " [('in', 'ADP'), (('semiconductor', 'ADV'), ('semiconductor', 'NOUN'))],\n",
       " [('The', 'DET'), (('American', 'ADJ'), ('American', 'NOUN'))],\n",
       " [('of', 'ADP'), (('Delegates', 'ADV'), ('Delegates', 'NOUN'))],\n",
       " [('1985', 'NUM'), (('condemning', 'ADV'), ('condemning', 'VERB'))],\n",
       " [('IRS', 'NOUN'), (('reporting', 'VERB'), ('reporting', 'NOUN'))],\n",
       " [('day', 'NOUN'), (('up', 'PRT'), ('up', 'ADV'))],\n",
       " [('-LRB-', '.'), (('56', 'ADV'), ('56', 'NUM'))],\n",
       " [('to', 'PRT'), (('1,880', 'ADV'), ('1,880', 'NUM'))],\n",
       " [('$', '.'), (('13.15', 'ADV'), ('13.15', 'NUM'))],\n",
       " [('pressure', 'NOUN'), (('tactics', 'ADV'), ('tactics', 'NOUN'))],\n",
       " [('not', 'ADV'), (('volunteer', 'ADV'), ('volunteer', 'NOUN'))],\n",
       " [('volunteer', 'NOUN'), (('work', 'VERB'), ('work', 'NOUN'))],\n",
       " [('make', 'VERB'), (('up', 'ADV'), ('up', 'PRT'))],\n",
       " [('of', 'ADP'), (('87-store', 'ADV'), ('87-store', 'ADJ'))],\n",
       " [(',', '.'), (('6.7', 'ADV'), ('6.7', 'NUM'))],\n",
       " [('.', '.'), (('Mead', 'ADV'), ('Mead', 'NOUN'))],\n",
       " [('Federal', 'NOUN'), (('Paper', 'ADV'), ('Paper', 'NOUN'))],\n",
       " [('Scott', 'NOUN'), (('Paper', 'ADV'), ('Paper', 'NOUN'))],\n",
       " [('International', 'NOUN'), (('Paper', 'ADV'), ('Paper', 'NOUN'))],\n",
       " [('and', 'CONJ'),\n",
       "  (('Louisiana-Pacific', 'ADV'), ('Louisiana-Pacific', 'NOUN'))],\n",
       " [('Gulf', 'NOUN'), (('spurns', 'ADV'), ('spurns', 'VERB'))],\n",
       " [('FEDERAL', 'NOUN'), (('NATIONAL', 'ADV'), ('NATIONAL', 'NOUN'))],\n",
       " [('MORTGAGE', 'NOUN'), (('ASSOCIATION', 'ADV'), ('ASSOCIATION', 'NOUN'))],\n",
       " [('-RRB-', '.'), (('9.75', 'ADV'), ('9.75', 'NUM'))],\n",
       " [(';', '.'), (('8.70', 'ADV'), ('8.70', 'NUM'))],\n",
       " [(',', '.'), (('6\\\\/2', 'ADV'), ('6\\\\/2', 'NUM'))],\n",
       " [('rate', 'NOUN'), (('capped', 'VERB'), ('capped', 'ADJ'))],\n",
       " [(\"n't\", 'ADV'), (('entertain', 'ADV'), ('entertain', 'VERB'))],\n",
       " [('can', 'VERB'), (('tote', 'ADV'), ('tote', 'VERB'))],\n",
       " [('tote', 'VERB'), (('as', 'ADP'), ('as', 'ADV'))],\n",
       " [('four', 'NUM'), (('cups', 'ADV'), ('cups', 'NOUN'))],\n",
       " [('the', 'DET'), (('municipality', 'ADV'), ('municipality', 'NOUN'))],\n",
       " [('misdemeanor', 'NOUN'), (('counts', 'VERB'), ('counts', 'NOUN'))],\n",
       " [('counts', 'NOUN'), (('charging', 'ADV'), ('charging', 'VERB'))],\n",
       " [('and', 'CONJ'), (('early', 'ADJ'), ('early', 'ADV'))],\n",
       " [(',', '.'), (('Calif.-based', 'ADV'), ('Calif.-based', 'ADJ'))],\n",
       " [('Calif.-based', 'ADJ'),\n",
       "  (('circuit-board', 'ADV'), ('circuit-board', 'NOUN'))],\n",
       " [('illegally', 'ADV'), (('disposed', 'ADV'), ('disposed', 'VERB'))],\n",
       " [('of', 'ADP'), (('acid', 'ADJ'), ('acid', 'NOUN'))],\n",
       " [(',', '.'), (('caustic', 'ADV'), ('caustic', 'ADJ'))],\n",
       " [('the', 'DET'), (('sewer', 'ADV'), ('sewer', 'NOUN'))],\n",
       " [('in', 'ADP'), (('leaky', 'ADV'), ('leaky', 'ADJ'))],\n",
       " [(',', '.'), (('unlabeled', 'ADV'), ('unlabeled', 'ADJ'))],\n",
       " [('or', 'CONJ'), (('open-top', 'ADV'), ('open-top', 'ADJ'))],\n",
       " [('open-top', 'ADJ'), (('containers', 'ADV'), ('containers', 'NOUN'))],\n",
       " [('receiving', 'VERB'), (('end', 'VERB'), ('end', 'NOUN'))],\n",
       " [('and', 'CONJ'), (('Maytag', 'ADV'), ('Maytag', 'NOUN'))],\n",
       " [('with', 'ADP'), (('lesser', 'ADV'), ('lesser', 'ADJ'))],\n",
       " [('lesser', 'ADJ'), (('knowns', 'ADV'), ('knowns', 'NOUN'))],\n",
       " [('like', 'ADP'), (('Trojan', 'ADV'), ('Trojan', 'NOUN'))],\n",
       " [('Valley', 'NOUN'), (('Queen', 'ADV'), ('Queen', 'NOUN'))],\n",
       " [('Queen', 'NOUN'), (('Cheese', 'ADV'), ('Cheese', 'NOUN'))],\n",
       " [(',', '.'), (('total', 'NOUN'), ('total', 'ADJ'))],\n",
       " [('ran', 'VERB'), (('about', 'ADP'), ('about', 'ADV'))],\n",
       " [('should', 'VERB'), (('veto', 'NOUN'), ('veto', 'VERB'))],\n",
       " [('appropriations', 'NOUN'), (('acts', 'VERB'), ('acts', 'NOUN'))],\n",
       " [('acts', 'NOUN'), (('that', 'ADP'), ('that', 'DET'))],\n",
       " [('The', 'DET'), (('Japanese', 'ADJ'), ('Japanese', 'NOUN'))],\n",
       " [('who', 'PRON'), (('*T*-184', 'ADV'), ('*T*-184', 'X'))],\n",
       " [('the', 'DET'), (('impending', 'ADJ'), ('impending', 'VERB'))],\n",
       " [('$', '.'), (('80.50', 'ADV'), ('80.50', 'NUM'))],\n",
       " [(',', '.'), (('off', 'ADP'), ('off', 'ADV'))],\n",
       " [('his', 'PRON'), (('only', 'ADV'), ('only', 'ADJ'))],\n",
       " [('only', 'ADJ'), (('means', 'VERB'), ('means', 'NOUN'))],\n",
       " [('The', 'DET'), (('combined', 'ADJ'), ('combined', 'VERB'))],\n",
       " [('with', 'ADP'), (('Univest', 'ADV'), ('Univest', 'NOUN'))],\n",
       " [('$', '.'), (('25.50', 'ADV'), ('25.50', 'NUM'))],\n",
       " [('with', 'ADP'), (('equity-purchase', 'ADV'), ('equity-purchase', 'ADJ'))],\n",
       " [('equity-purchase', 'ADJ'), (('warrants', 'VERB'), ('warrants', 'NOUN'))],\n",
       " [('ads', 'NOUN'), (('that', 'ADP'), ('that', 'DET'))],\n",
       " [('that', 'DET'), (('*T*-75', 'ADV'), ('*T*-75', 'X'))],\n",
       " [('1972', 'NUM'), (('that', 'ADP'), ('that', 'DET'))],\n",
       " [('that', 'DET'), (('*T*-238', 'ADV'), ('*T*-238', 'X'))],\n",
       " [('historic', 'ADJ'), (('rapprochement', 'ADV'), ('rapprochement', 'NOUN'))],\n",
       " [('officials', 'NOUN'), (('voice', 'NOUN'), ('voice', 'VERB'))],\n",
       " [(\"'s\", 'PRT'), (('enlarged', 'ADV'), ('enlarged', 'ADJ'))],\n",
       " [('also', 'ADV'), (('convey', 'ADV'), ('convey', 'VERB'))],\n",
       " [('an', 'DET'), (('undertone', 'ADV'), ('undertone', 'NOUN'))],\n",
       " [('*ICH*-1', 'X'), (('long-time', 'ADV'), ('long-time', 'ADJ'))],\n",
       " [('Jerry', 'NOUN'), (('Griffin', 'ADV'), ('Griffin', 'NOUN'))],\n",
       " [('at', 'ADP'), (('WTD', 'ADV'), ('WTD', 'NOUN'))],\n",
       " [('totaled', 'VERB'), (('154.2', 'ADV'), ('154.2', 'NUM'))],\n",
       " [('by', 'ADP'), (('about', 'ADP'), ('about', 'ADV'))],\n",
       " [('to', 'PRT'), (('8.75', 'ADV'), ('8.75', 'NUM'))],\n",
       " [('has', 'VERB'), (('shown', 'ADV'), ('shown', 'VERB'))],\n",
       " [('.', '.'), (('Individuals', 'ADV'), ('Individuals', 'NOUN'))],\n",
       " [('that', 'ADP'), (('Justice', 'NOUN'), ('Justice', 'ADJ'))],\n",
       " [('receive', 'VERB'), (('1\\\\/10th', 'ADV'), ('1\\\\/10th', 'NOUN'))],\n",
       " [('the', 'DET'), (('redemption', 'ADV'), ('redemption', 'NOUN'))],\n",
       " [('designers', 'NOUN'), (('renew', 'ADV'), ('renew', 'VERB'))],\n",
       " [('A', 'DET'), (('nickname', 'ADV'), ('nickname', 'NOUN'))],\n",
       " [('A', 'DET'), (('disaffected', 'ADV'), ('disaffected', 'ADJ'))],\n",
       " [(',', '.'), (('hard-drinking', 'ADV'), ('hard-drinking', 'ADJ'))],\n",
       " [(',', '.'), (('nearly-30', 'ADV'), ('nearly-30', 'ADJ'))],\n",
       " [('hero', 'NOUN'), (('sets', 'NOUN'), ('sets', 'VERB'))],\n",
       " [('for', 'ADP'), (('snow', 'ADV'), ('snow', 'NOUN'))],\n",
       " [('in', 'ADP'), (('search', 'ADV'), ('search', 'NOUN'))],\n",
       " [('an', 'DET'), (('elusive', 'ADV'), ('elusive', 'ADJ'))],\n",
       " [('elusive', 'ADJ'), (('sheep', 'ADV'), ('sheep', 'NOUN'))],\n",
       " [('its', 'PRON'), (('back', 'ADV'), ('back', 'NOUN'))],\n",
       " [('the', 'DET'), (('behest', 'ADV'), ('behest', 'NOUN'))],\n",
       " [('a', 'DET'), (('sinister', 'ADV'), ('sinister', 'ADJ'))],\n",
       " [(',', '.'), (('erudite', 'ADV'), ('erudite', 'ADJ'))],\n",
       " [('erudite', 'ADJ'), (('mobster', 'ADV'), ('mobster', 'NOUN'))],\n",
       " [('is', 'VERB'), (('sweeping', 'ADJ'), ('sweeping', 'VERB'))],\n",
       " [('.', '.'), (('GRAINS', 'ADV'), ('GRAINS', 'NOUN'))],\n",
       " [('GRAINS', 'NOUN'), (('AND', 'ADV'), ('AND', 'NOUN'))],\n",
       " [('AND', 'NOUN'), (('SOYBEANS', 'ADV'), ('SOYBEANS', 'NOUN'))],\n",
       " [(':', '.'), (('Change-ringing', 'ADV'), ('Change-ringing', 'NOUN'))],\n",
       " [('a', 'DET'), (('mind-boggling', 'ADV'), ('mind-boggling', 'ADJ'))],\n",
       " [('mind-boggling', 'ADJ'), (('exercise', 'VERB'), ('exercise', 'NOUN'))],\n",
       " [('*T*-1', 'X'), (('380', 'ADV'), ('380', 'NUM'))],\n",
       " [('years', 'NOUN'), (('ago', 'ADP'), ('ago', 'ADV'))],\n",
       " [('physical', 'ADJ'), (('dexterity', 'ADV'), ('dexterity', 'NOUN'))],\n",
       " [('weigh', 'VERB'), (('more', 'ADV'), ('more', 'ADJ'))],\n",
       " [('mental', 'ADJ'), (('concentration', 'ADV'), ('concentration', 'NOUN'))],\n",
       " [('not', 'ADV'), (('profit', 'VERB'), ('profit', 'NOUN'))],\n",
       " [('point', 'NOUN'), (('higher', 'ADJ'), ('higher', 'ADV'))],\n",
       " [('moderate', 'ADJ'), (('trading', 'NOUN'), ('trading', 'VERB'))],\n",
       " [('the', 'DET'), (('gloomy', 'ADV'), ('gloomy', 'ADJ'))],\n",
       " [('gloomy', 'ADJ'), (('forecast', 'VERB'), ('forecast', 'NOUN'))],\n",
       " [('*U*', 'X'), (('so', 'ADV'), ('so', 'ADP'))],\n",
       " [('so', 'ADP'), (('far', 'ADV'), ('far', 'ADP'))],\n",
       " [('to', 'PRT'), (('last', 'ADJ'), ('last', 'VERB'))],\n",
       " [('U.S.', 'NOUN'), (('Generalized', 'ADV'), ('Generalized', 'NOUN'))],\n",
       " [('of', 'ADP'), (('Preferences', 'ADV'), ('Preferences', 'NOUN'))],\n",
       " [('*', 'X'), (('tapping', 'ADV'), ('tapping', 'VERB'))],\n",
       " [('of', 'ADP'), (('Tiger', 'ADV'), ('Tiger', 'NOUN'))],\n",
       " [('.', '.'), (('Private', 'NOUN'), ('Private', 'ADJ'))],\n",
       " [('purchase', 'NOUN'), (('plans', 'VERB'), ('plans', 'NOUN'))],\n",
       " [('John', 'NOUN'), (('Deere', 'ADV'), ('Deere', 'NOUN'))],\n",
       " [('for', 'ADP'), (('midsized', 'VERB'), ('midsized', 'ADJ'))],\n",
       " [('not', 'ADV'), (('sit', 'ADV'), ('sit', 'VERB'))],\n",
       " [('some', 'DET'), (('clerics', 'ADV'), ('clerics', 'NOUN'))],\n",
       " [('.', '.'), (('Above', 'ADV'), ('Above', 'ADP'))],\n",
       " [('extremely', 'ADV'), (('confused', 'ADJ'), ('confused', 'VERB'))],\n",
       " [('buy', 'VERB'), (('more', 'ADV'), ('more', 'ADJ'))],\n",
       " [('about', 'ADP'), (('108', 'ADV'), ('108', 'NUM'))],\n",
       " [(',', '.'), (('R.I.', 'ADV'), ('R.I.', 'NOUN'))],\n",
       " [(';', '.'), (('Raleigh', 'ADV'), ('Raleigh', 'NOUN'))],\n",
       " [(',', '.'), (('Ky.', 'ADV'), ('Ky.', 'NOUN'))],\n",
       " [('not', 'ADV'), (('renew', 'ADV'), ('renew', 'VERB'))],\n",
       " [('a', 'DET'), (('public-relations', 'ADV'), ('public-relations', 'NOUN'))],\n",
       " [('machine', 'NOUN'), (('that', 'ADP'), ('that', 'DET'))],\n",
       " [('*T*-2', 'X'), (('sends', 'ADV'), ('sends', 'VERB'))],\n",
       " [('you', 'PRON'), (('stuff', 'ADV'), ('stuff', 'NOUN'))],\n",
       " [('rarely', 'ADV'), (('acted', 'ADV'), ('acted', 'VERB'))],\n",
       " [('.', '.'), (('Customers', 'ADV'), ('Customers', 'NOUN'))],\n",
       " [(\"'s\", 'PRT'), (('undelivered', 'ADV'), ('undelivered', 'ADJ'))],\n",
       " [('subscribe', 'VERB'), (('most', 'ADV'), ('most', 'ADJ'))],\n",
       " [('remaining', 'VERB'), (('170', 'ADV'), ('170', 'NUM'))],\n",
       " [('In', 'ADP'), (('1973', 'ADV'), ('1973', 'NUM'))],\n",
       " [(',', '.'), (('Wells', 'ADV'), ('Wells', 'NOUN'))],\n",
       " [('Wells', 'NOUN'), (('Fargo', 'ADV'), ('Fargo', 'NOUN'))],\n",
       " [('which', 'DET'), (('*T*-198', 'ADV'), ('*T*-198', 'X'))],\n",
       " [(',', '.'), (('safe-deposit', 'ADV'), ('safe-deposit', 'ADJ'))],\n",
       " [('and', 'CONJ'), (('travelers', 'ADV'), ('travelers', 'NOUN'))],\n",
       " [('a', 'DET'), (('Helsinki', 'ADV'), ('Helsinki', 'NOUN'))],\n",
       " [('*-1', 'X'), (('Encouraged', 'ADV'), ('Encouraged', 'ADJ'))],\n",
       " [('taught', 'VERB'), (('honor', 'VERB'), ('honor', 'NOUN'))],\n",
       " [('D.', 'NOUN'), (('Carney', 'ADV'), ('Carney', 'NOUN'))],\n",
       " [('third-quarter', 'NOUN'), (('net', 'NOUN'), ('net', 'ADJ'))],\n",
       " [(',', '.'), (('versus', 'ADV'), ('versus', 'CONJ'))],\n",
       " [('$', '.'), (('5.3', 'ADV'), ('5.3', 'NUM'))],\n",
       " [('$', '.'), (('1.61', 'ADV'), ('1.61', 'NUM'))],\n",
       " [('year', 'NOUN'), (('earlier', 'ADV'), ('earlier', 'ADJ'))],\n",
       " [('returns', 'NOUN'), (('compare', 'ADV'), ('compare', 'VERB'))],\n",
       " [('%', 'NOUN'), (('total', 'NOUN'), ('total', 'ADJ'))],\n",
       " [(':', '.'), (('Can', 'ADV'), ('Can', 'VERB'))],\n",
       " [('like', 'ADP'), (('hard-charging', 'ADV'), ('hard-charging', 'ADJ'))],\n",
       " [('hard-charging', 'ADJ'), (('Teddy', 'ADV'), ('Teddy', 'NOUN'))],\n",
       " [('Teddy', 'NOUN'), (('Roosevelt', 'ADV'), ('Roosevelt', 'NOUN'))],\n",
       " [('to', 'PRT'), (('offer', 'NOUN'), ('offer', 'VERB'))],\n",
       " [('a', 'DET'), (('cost-sharing', 'NOUN'), ('cost-sharing', 'ADJ'))],\n",
       " [('mechanism', 'NOUN'), (('that', 'ADP'), ('that', 'DET'))],\n",
       " [('*-3', 'X'), (('subsidize', 'ADV'), ('subsidize', 'VERB'))],\n",
       " [('the', 'DET'), (('clean-up', 'ADV'), ('clean-up', 'ADJ'))],\n",
       " [('clean-up', 'ADJ'), (('costs', 'VERB'), ('costs', 'NOUN'))],\n",
       " [('dirtiest', 'ADJ'), (('coal-fired', 'ADV'), ('coal-fired', 'ADJ'))],\n",
       " [('*-3', 'X'), (('sparing', 'ADV'), ('sparing', 'VERB'))],\n",
       " [('from', 'ADP'), (('exorbitant', 'ADV'), ('exorbitant', 'ADJ'))],\n",
       " [('exorbitant', 'ADJ'), (('jumps', 'ADV'), ('jumps', 'NOUN'))],\n",
       " [('G.', 'NOUN'), (('Kuhns', 'ADV'), ('Kuhns', 'NOUN'))],\n",
       " [('and', 'CONJ'), (('chief', 'NOUN'), ('chief', 'ADJ'))],\n",
       " [('chief', 'ADJ'), (('executive', 'NOUN'), ('executive', 'ADJ'))],\n",
       " [('a', 'DET'), (('shortage', 'ADV'), ('shortage', 'NOUN'))],\n",
       " [('of', 'ADP'), (('nonfat', 'ADV'), ('nonfat', 'ADJ'))],\n",
       " [('already', 'ADV'), (('own', 'ADJ'), ('own', 'VERB'))],\n",
       " [('succeeds', 'VERB'), (('Terrence', 'ADV'), ('Terrence', 'NOUN'))],\n",
       " [('D.', 'NOUN'), (('Daniels', 'ADV'), ('Daniels', 'NOUN'))],\n",
       " [('East', 'NOUN'), (('bloc', 'ADV'), ('bloc', 'NOUN'))],\n",
       " [(\"'s\", 'PRT'), (('Nomenklatura', 'ADV'), ('Nomenklatura', 'NOUN'))],\n",
       " [('anything', 'NOUN'), (('change', 'NOUN'), ('change', 'VERB'))],\n",
       " [('not', 'ADV'), (('concern', 'NOUN'), ('concern', 'VERB'))],\n",
       " [('turning', 'VERB'), (('in', 'ADP'), ('in', 'PRT'))],\n",
       " [('funded', 'VERB'),\n",
       "  (('tissue-transplant', 'ADV'), ('tissue-transplant', 'ADJ'))],\n",
       " [('research', 'NOUN'), (('that', 'ADP'), ('that', 'DET'))],\n",
       " [('that', 'DET'), (('*T*-111', 'ADV'), ('*T*-111', 'X'))],\n",
       " [('*EXP*-1', 'X'), ((\"'s\", 'PRT'), (\"'s\", 'VERB'))],\n",
       " [('from', 'ADP'), (('unfounded', 'ADV'), ('unfounded', 'ADJ'))],\n",
       " [('unfounded', 'ADJ'), (('interrogation', 'ADV'), ('interrogation', 'NOUN'))],\n",
       " [('into', 'ADP'), (('oblivion', 'ADV'), ('oblivion', 'NOUN'))],\n",
       " [('one', 'NUM'), (('aspect', 'ADV'), ('aspect', 'NOUN'))],\n",
       " [('with', 'ADP'), (('operating', 'NOUN'), ('operating', 'VERB'))],\n",
       " [('$', '.'), (('132.9', 'ADV'), ('132.9', 'NUM'))],\n",
       " [('year', 'NOUN'), (('earlier', 'ADV'), ('earlier', 'ADJ'))],\n",
       " [('he', 'PRON'), (('argues', 'ADV'), ('argues', 'VERB'))],\n",
       " [('.', '.'), (('No', 'DET'), ('No', 'ADV'))],\n",
       " [('a', 'DET'), (('Washington-based', 'ADV'), ('Washington-based', 'ADJ'))],\n",
       " [('Mr.', 'NOUN'), (('Baris', 'ADV'), ('Baris', 'NOUN'))],\n",
       " [('the', 'DET'), (('gamut', 'ADV'), ('gamut', 'NOUN'))],\n",
       " [('a', 'DET'), (('blender', 'ADV'), ('blender', 'NOUN'))],\n",
       " [('to', 'PRT'), (('chairs', 'ADV'), ('chairs', 'NOUN'))],\n",
       " [('with', 'ADP'), (('even', 'ADV'), ('even', 'ADJ'))],\n",
       " [('Argentina', 'NOUN'), (('aspires', 'ADV'), ('aspires', 'VERB'))],\n",
       " [('its', 'PRON'), (('external', 'ADV'), ('external', 'ADJ'))],\n",
       " [(',', '.'), (('Miguel', 'ADV'), ('Miguel', 'NOUN'))],\n",
       " [('Miguel', 'NOUN'), (('Alurralde', 'ADV'), ('Alurralde', 'NOUN'))],\n",
       " [('the', 'DET'), (('particulars', 'ADV'), ('particulars', 'NOUN'))],\n",
       " [(\"'s\", 'PRT'), (('offense', 'ADV'), ('offense', 'NOUN'))],\n",
       " [(\"n't\", 'ADV'), (('mind', 'NOUN'), ('mind', 'VERB'))],\n",
       " [('*-1', 'X'), (('traveling', 'ADV'), ('traveling', 'VERB'))],\n",
       " [('will', 'VERB'), (('likely', 'ADJ'), ('likely', 'ADV'))],\n",
       " [('likely', 'ADV'), (('trim', 'ADV'), ('trim', 'VERB'))],\n",
       " [('about', 'ADP'), (('275', 'ADV'), ('275', 'NUM'))],\n",
       " [('to', 'PRT'), (('350', 'ADV'), ('350', 'NUM'))],\n",
       " [('than', 'ADP'), (('21,000', 'ADV'), ('21,000', 'NUM'))],\n",
       " [('a', 'DET'), (('vitriolic', 'ADV'), ('vitriolic', 'ADJ'))],\n",
       " [('temporarily', 'ADV'), (('mollified', 'ADV'), ('mollified', 'VERB'))],\n",
       " [('.', '.'), (('Interviews', 'ADV'), ('Interviews', 'NOUN'))],\n",
       " [('that', 'ADP'), (('Southeast', 'NOUN'), ('Southeast', 'ADJ'))],\n",
       " [('in', 'ADP'), (('fits', 'ADV'), ('fits', 'NOUN'))],\n",
       " [('and', 'CONJ'), (('starts', 'VERB'), ('starts', 'NOUN'))],\n",
       " [('The', 'DET'), (('American', 'ADJ'), ('American', 'NOUN'))],\n",
       " [('Market', 'NOUN'), (('Value', 'ADV'), ('Value', 'NOUN'))],\n",
       " [('gained', 'VERB'), (('1.56', 'ADV'), ('1.56', 'NUM'))],\n",
       " [('to', 'PRT'), (('372.14', 'ADV'), ('372.14', 'NUM'))],\n",
       " [('Salon', 'NOUN'), (('le', 'ADV'), ('le', 'DET'))],\n",
       " [('also', 'ADV'), (('empowers', 'ADV'), ('empowers', 'VERB'))],\n",
       " [('have', 'VERB'), (('Power', 'ADV'), ('Power', 'NOUN'))],\n",
       " [('fill', 'VERB'), (('up', 'ADV'), ('up', 'PRT'))],\n",
       " [('all', 'DET'), (('Vacancies', 'ADV'), ('Vacancies', 'NOUN'))],\n",
       " [('Vacancies', 'NOUN'), (('that', 'ADP'), ('that', 'DET'))],\n",
       " [('the', 'DET'), (('Recess', 'ADV'), ('Recess', 'NOUN'))],\n",
       " [('*-2', 'X'), (('granting', 'ADV'), ('granting', 'VERB'))],\n",
       " [('granting', 'VERB'), (('Commissions', 'ADV'), ('Commissions', 'NOUN'))],\n",
       " [('the', 'DET'), (('End', 'ADV'), ('End', 'NOUN'))],\n",
       " [('next', 'ADJ'), (('Session', 'ADV'), ('Session', 'NOUN'))],\n",
       " [('To', 'PRT'), (('profit', 'NOUN'), ('profit', 'VERB'))],\n",
       " [('who', 'PRON'), (('*T*-75', 'ADV'), ('*T*-75', 'X'))],\n",
       " [('who', 'PRON'), (('earlier', 'ADJ'), ('earlier', 'ADV'))],\n",
       " [(',', '.'), (('net', 'ADJ'), ('net', 'NOUN'))],\n",
       " [('$', '.'), (('306', 'ADV'), ('306', 'NUM'))],\n",
       " [('Some', 'DET'), (('long-tenured', 'ADV'), ('long-tenured', 'ADJ'))],\n",
       " [('who', 'PRON'), (('*T*-132', 'ADV'), ('*T*-132', 'X'))],\n",
       " [(\"'s\", 'PRT'), (('grand', 'ADV'), ('grand', 'ADJ'))],\n",
       " [('are', 'VERB'), (('prohibited', 'ADV'), ('prohibited', 'VERB'))],\n",
       " [('of', 'ADP'), (('ethics', 'ADV'), ('ethics', 'NOUN'))],\n",
       " [('*-1', 'X'), (('disclosing', 'ADV'), ('disclosing', 'VERB'))],\n",
       " [('court', 'NOUN'), (('orders', 'NOUN'), ('orders', 'VERB'))],\n",
       " [('*-4', 'X'), (('committing', 'ADV'), ('committing', 'VERB'))],\n",
       " [('act', 'NOUN'), (('that', 'ADP'), ('that', 'DET'))],\n",
       " [('The', 'DET'), (('following', 'NOUN'), ('following', 'VERB'))],\n",
       " [(\"'s\", 'PRT'), (('offerings', 'ADV'), ('offerings', 'NOUN'))],\n",
       " [('and', 'CONJ'), (('pricings', 'ADV'), ('pricings', 'NOUN'))],\n",
       " [('and', 'CONJ'), (('non-U.S.', 'ADV'), ('non-U.S.', 'NOUN'))],\n",
       " [('and', 'CONJ'), (('syndicate', 'ADV'), ('syndicate', 'NOUN'))],\n",
       " [('one', 'NUM'), (('feature', 'ADV'), ('feature', 'NOUN'))],\n",
       " [('``', '.'), (('In', 'ADP'), ('In', 'NOUN'))],\n",
       " [('editors', 'NOUN'), (('point', 'NOUN'), ('point', 'VERB'))],\n",
       " [('they', 'PRON'), (('deem', 'ADV'), ('deem', 'VERB'))],\n",
       " [('more', 'ADJ'), (('progressive', 'ADV'), ('progressive', 'ADJ'))],\n",
       " [('language', 'NOUN'), ((\"'\", 'PRT'), (\"'\", '.'))],\n",
       " [(\"'s\", 'PRT'), (('Prof', 'ADV'), ('Prof', 'NOUN'))],\n",
       " [('-LCB-', '.'), (('Ethel', 'ADV'), ('Ethel', 'NOUN'))],\n",
       " [('-RCB-', '.'), (('Klein', 'ADV'), ('Klein', 'NOUN'))],\n",
       " [('have', 'VERB'), (('much', 'ADV'), ('much', 'ADJ'))],\n",
       " [('much', 'ADJ'), (('sympathy', 'ADV'), ('sympathy', 'NOUN'))],\n",
       " [('The', 'DET'), (('most', 'ADJ'), ('most', 'ADV'))],\n",
       " [('bill', 'NOUN'), (('funding', 'NOUN'), ('funding', 'VERB'))],\n",
       " [('Commerce', 'NOUN'), (('departments', 'ADV'), ('departments', 'NOUN'))],\n",
       " [('the', 'DET'), (('1980s', 'NOUN'), ('1980s', 'NUM'))],\n",
       " [('the', 'DET'), (('more', 'ADJ'), ('more', 'ADV'))],\n",
       " [('the', 'DET'), (('1990s', 'NOUN'), ('1990s', 'NUM'))],\n",
       " [('owns', 'VERB'), (('about', 'ADP'), ('about', 'ADV'))],\n",
       " [(',', '.'), (('most', 'ADV'), ('most', 'ADJ'))],\n",
       " [('at', 'ADP'), (('nominal', 'ADV'), ('nominal', 'ADJ'))],\n",
       " [('to', 'PRT'), (('gain', 'NOUN'), ('gain', 'VERB'))],\n",
       " [('sold', 'VERB'), (('*-115', 'ADV'), ('*-115', 'X'))],\n",
       " [('But', 'CONJ'), (('much', 'ADJ'), ('much', 'ADV'))],\n",
       " [('also', 'ADV'), (('fetching', 'ADV'), ('fetching', 'VERB'))],\n",
       " [('*T*-1', 'X'), (('Miles', 'ADV'), ('Miles', 'NOUN'))],\n",
       " [('Miles', 'NOUN'), (('Barth', 'ADV'), ('Barth', 'NOUN'))],\n",
       " [('of', 'ADP'), (('Photography', 'ADV'), ('Photography', 'NOUN'))],\n",
       " [('the', 'DET'), (('Underwoods', 'ADV'), ('Underwoods', 'NOUN'))],\n",
       " [('at', 'ADP'), (('closing', 'ADJ'), ('closing', 'NOUN'))],\n",
       " [(\"'s\", 'PRT'), (('gut-wrenching', 'ADV'), ('gut-wrenching', 'ADJ'))],\n",
       " [('gut-wrenching', 'ADJ'), (('190-point', 'ADV'), ('190-point', 'ADJ'))],\n",
       " [('190-point', 'ADJ'), (('drop', 'VERB'), ('drop', 'NOUN'))],\n",
       " [(\"'s\", 'PRT'), (('1,400', 'ADV'), ('1,400', 'NUM'))],\n",
       " [('and', 'CONJ'), (('letter-writing', 'ADV'), ('letter-writing', 'ADJ'))],\n",
       " [('*', 'X'), (('quashing', 'ADV'), ('quashing', 'VERB'))],\n",
       " [('a', 'DET'), (('much', 'ADJ'), ('much', 'ADV'))],\n",
       " [('much', 'ADV'), (('more', 'ADJ'), ('more', 'ADV'))],\n",
       " [('sophisticated', 'ADJ'),\n",
       "  (('understanding', 'ADV'), ('understanding', 'NOUN'))],\n",
       " [('currently', 'ADV'), (('possess', 'ADV'), ('possess', 'VERB'))],\n",
       " [('an', 'DET'), (('understanding', 'ADV'), ('understanding', 'NOUN'))],\n",
       " [('understanding', 'NOUN'), (('that', 'ADP'), ('that', 'DET'))],\n",
       " [(',', '.'), (('portray', 'ADV'), ('portray', 'VERB'))],\n",
       " [('portray', 'VERB'), (('old-fashioned', 'ADV'), ('old-fashioned', 'ADJ'))],\n",
       " [('the', 'DET'), (('Neanderthals', 'ADV'), ('Neanderthals', 'NOUN'))],\n",
       " [('Susan', 'NOUN'), (('Del', 'ADV'), ('Del', 'NOUN'))],\n",
       " [('Del', 'NOUN'), (('Signore', 'ADV'), ('Signore', 'NOUN'))],\n",
       " [('-RCB-', '.'), (('speculator', 'ADV'), ('speculator', 'NOUN'))],\n",
       " [('*-2', 'X'), (('punishing', 'ADV'), ('punishing', 'VERB'))],\n",
       " [('or', 'CONJ'), (('retaliating', 'ADV'), ('retaliating', 'VERB'))],\n",
       " [(',', '.'), (('Colonsville', 'ADV'), ('Colonsville', 'NOUN'))],\n",
       " [('Gerard', 'NOUN'), (('Dompierre', 'ADV'), ('Dompierre', 'NOUN'))],\n",
       " [(',', '.'), (('Valrico', 'ADV'), ('Valrico', 'NOUN'))],\n",
       " [('$', '.'), (('16,072', 'ADV'), ('16,072', 'NUM'))],\n",
       " [(';', '.'), (('Marion', 'ADV'), ('Marion', 'NOUN'))],\n",
       " [('Marion', 'NOUN'), (('Stewart', 'ADV'), ('Stewart', 'NOUN'))],\n",
       " [('Stewart', 'NOUN'), (('Spitler', 'ADV'), ('Spitler', 'NOUN'))],\n",
       " [('$', '.'), (('18,444', 'ADV'), ('18,444', 'NUM'))],\n",
       " [('.', '.'), (('Yet', 'CONJ'), ('Yet', 'ADV'))],\n",
       " [('in', 'ADP'), (('rankings', 'ADV'), ('rankings', 'NOUN'))],\n",
       " [('on', 'ADP'), (('subscription', 'ADV'), ('subscription', 'NOUN'))],\n",
       " [('subscription', 'NOUN'), (('revenues', 'ADV'), ('revenues', 'NOUN'))],\n",
       " [('$', '.'), (('214', 'ADV'), ('214', 'NUM'))],\n",
       " [('%', 'NOUN'), (('rise', 'VERB'), ('rise', 'NOUN'))],\n",
       " [(',', '.'), (('reports', 'NOUN'), ('reports', 'VERB'))]]"
      ]
     },
     "execution_count": 26,
     "metadata": {},
     "output_type": "execute_result"
    }
   ],
   "source": [
    "\n",
    "#Get the words in the test set which are incorrectly classified\n",
    "incorrect_tagged_cases = [[test_run_base[i-1],j] for i, j in enumerate(zip(tagged_seq, test_run_base)) if j[0]!=j[1]]\n",
    "incorrect_tagged_cases"
   ]
  },
  {
   "cell_type": "code",
   "execution_count": 27,
   "metadata": {},
   "outputs": [
    {
     "data": {
      "text/plain": [
       "[('Android', 'ADV'),\n",
       " ('is', 'VERB'),\n",
       " ('a', 'DET'),\n",
       " ('mobile', 'ADJ'),\n",
       " ('operating', 'NOUN'),\n",
       " ('system', 'NOUN'),\n",
       " ('developed', 'VERB'),\n",
       " ('by', 'ADP'),\n",
       " ('Google', 'ADV'),\n",
       " ('.', '.'),\n",
       " ('Android', 'ADV'),\n",
       " ('has', 'VERB'),\n",
       " ('been', 'VERB'),\n",
       " ('the', 'DET'),\n",
       " ('best-selling', 'ADJ'),\n",
       " ('OS', 'ADV'),\n",
       " ('worldwide', 'ADV'),\n",
       " ('on', 'ADP'),\n",
       " ('smartphones', 'ADV'),\n",
       " ('since', 'ADP'),\n",
       " ('2011', 'ADV'),\n",
       " ('and', 'CONJ'),\n",
       " ('on', 'ADP'),\n",
       " ('tablets', 'NOUN'),\n",
       " ('since', 'ADP'),\n",
       " ('2013', 'ADV'),\n",
       " ('.', '.'),\n",
       " ('Google', 'ADV'),\n",
       " ('and', 'CONJ'),\n",
       " ('Twitter', 'ADV'),\n",
       " ('made', 'VERB'),\n",
       " ('a', 'DET'),\n",
       " ('deal', 'NOUN'),\n",
       " ('in', 'ADP'),\n",
       " ('2015', 'ADV'),\n",
       " ('that', 'ADP'),\n",
       " ('gave', 'VERB'),\n",
       " ('Google', 'ADV'),\n",
       " ('access', 'NOUN'),\n",
       " ('to', 'PRT'),\n",
       " ('Twitter', 'ADV'),\n",
       " (\"'s\", 'PRT'),\n",
       " ('firehose', 'ADV'),\n",
       " ('.', '.'),\n",
       " ('Twitter', 'ADV'),\n",
       " ('is', 'VERB'),\n",
       " ('an', 'DET'),\n",
       " ('online', 'ADV'),\n",
       " ('news', 'NOUN'),\n",
       " ('and', 'CONJ'),\n",
       " ('social', 'ADJ'),\n",
       " ('networking', 'NOUN'),\n",
       " ('service', 'NOUN'),\n",
       " ('on', 'ADP'),\n",
       " ('which', 'DET'),\n",
       " ('users', 'NOUN'),\n",
       " ('post', 'NOUN'),\n",
       " ('and', 'CONJ'),\n",
       " ('interact', 'ADV'),\n",
       " ('with', 'ADP'),\n",
       " ('messages', 'ADV'),\n",
       " ('known', 'VERB'),\n",
       " ('as', 'ADP'),\n",
       " ('tweets', 'ADV'),\n",
       " ('.', '.'),\n",
       " ('Before', 'ADP'),\n",
       " ('entering', 'VERB'),\n",
       " ('politics', 'NOUN'),\n",
       " (',', '.'),\n",
       " ('Donald', 'NOUN'),\n",
       " ('Trump', 'NOUN'),\n",
       " ('was', 'VERB'),\n",
       " ('a', 'DET'),\n",
       " ('domineering', 'ADV'),\n",
       " ('businessman', 'NOUN'),\n",
       " ('and', 'CONJ'),\n",
       " ('a', 'DET'),\n",
       " ('television', 'NOUN'),\n",
       " ('personality', 'ADV'),\n",
       " ('.', '.'),\n",
       " ('The', 'DET'),\n",
       " ('2018', 'ADV'),\n",
       " ('FIFA', 'ADV'),\n",
       " ('World', 'NOUN'),\n",
       " ('Cup', 'ADV'),\n",
       " ('is', 'VERB'),\n",
       " ('the', 'DET'),\n",
       " ('21st', 'ADV'),\n",
       " ('FIFA', 'ADV'),\n",
       " ('World', 'NOUN'),\n",
       " ('Cup', 'ADV'),\n",
       " (',', '.'),\n",
       " ('an', 'DET'),\n",
       " ('international', 'ADJ'),\n",
       " ('football', 'NOUN'),\n",
       " ('tournament', 'ADV'),\n",
       " ('contested', 'ADV'),\n",
       " ('once', 'ADV'),\n",
       " ('every', 'DET'),\n",
       " ('four', 'NUM'),\n",
       " ('years', 'NOUN'),\n",
       " ('.', '.'),\n",
       " ('This', 'DET'),\n",
       " ('is', 'VERB'),\n",
       " ('the', 'DET'),\n",
       " ('first', 'ADJ'),\n",
       " ('World', 'NOUN'),\n",
       " ('Cup', 'ADV'),\n",
       " ('to', 'PRT'),\n",
       " ('be', 'VERB'),\n",
       " ('held', 'VERB'),\n",
       " ('in', 'ADP'),\n",
       " ('Eastern', 'NOUN'),\n",
       " ('Europe', 'NOUN'),\n",
       " ('and', 'CONJ'),\n",
       " ('the', 'DET'),\n",
       " ('11th', 'ADJ'),\n",
       " ('time', 'NOUN'),\n",
       " ('that', 'ADP'),\n",
       " ('it', 'PRON'),\n",
       " ('has', 'VERB'),\n",
       " ('been', 'VERB'),\n",
       " ('held', 'VERB'),\n",
       " ('in', 'ADP'),\n",
       " ('Europe', 'NOUN'),\n",
       " ('.', '.'),\n",
       " ('Show', 'NOUN'),\n",
       " ('me', 'PRON'),\n",
       " ('the', 'DET'),\n",
       " ('cheapest', 'ADJ'),\n",
       " ('round', 'NOUN'),\n",
       " ('trips', 'ADV'),\n",
       " ('from', 'ADP'),\n",
       " ('Dallas', 'NOUN'),\n",
       " ('to', 'PRT'),\n",
       " ('Atlanta', 'NOUN'),\n",
       " ('I', 'PRON'),\n",
       " ('would', 'VERB'),\n",
       " ('like', 'ADP'),\n",
       " ('to', 'PRT'),\n",
       " ('see', 'VERB'),\n",
       " ('flights', 'NOUN'),\n",
       " ('from', 'ADP'),\n",
       " ('Denver', 'NOUN'),\n",
       " ('to', 'PRT'),\n",
       " ('Philadelphia', 'NOUN'),\n",
       " ('.', '.'),\n",
       " ('Show', 'NOUN'),\n",
       " ('me', 'PRON'),\n",
       " ('the', 'DET'),\n",
       " ('price', 'NOUN'),\n",
       " ('of', 'ADP'),\n",
       " ('the', 'DET'),\n",
       " ('flights', 'NOUN'),\n",
       " ('leaving', 'VERB'),\n",
       " ('Atlanta', 'NOUN'),\n",
       " ('at', 'ADP'),\n",
       " ('about', 'ADP'),\n",
       " ('3', 'NUM'),\n",
       " ('in', 'ADP'),\n",
       " ('the', 'DET'),\n",
       " ('afternoon', 'NOUN'),\n",
       " ('and', 'CONJ'),\n",
       " ('arriving', 'ADV'),\n",
       " ('in', 'ADP'),\n",
       " ('San', 'NOUN'),\n",
       " ('Francisco', 'NOUN'),\n",
       " ('.', '.'),\n",
       " ('NASA', 'ADV'),\n",
       " ('invited', 'ADV'),\n",
       " ('social', 'ADJ'),\n",
       " ('media', 'NOUN'),\n",
       " ('users', 'NOUN'),\n",
       " ('to', 'PRT'),\n",
       " ('experience', 'NOUN'),\n",
       " ('the', 'DET'),\n",
       " ('launch', 'NOUN'),\n",
       " ('of', 'ADP'),\n",
       " ('ICESAT-2', 'ADV'),\n",
       " ('Satellite', 'ADV'),\n",
       " ('.', '.')]"
      ]
     },
     "execution_count": 27,
     "metadata": {},
     "output_type": "execute_result"
    }
   ],
   "source": [
    "#Get the predictions on the test sentences\n",
    "sample_pred_list =[]\n",
    "for line in test_lines:\n",
    "    sample_pred_list=sample_pred_list+list(Viterbi(word_tokenize(line)))\n",
    "sample_pred_list"
   ]
  },
  {
   "cell_type": "code",
   "execution_count": 28,
   "metadata": {},
   "outputs": [],
   "source": [
    "#Get the tokens in the test file\n",
    "sample_words=[tokens for line in test_lines for tokens in word_tokenize(line)]"
   ]
  },
  {
   "cell_type": "code",
   "execution_count": 29,
   "metadata": {},
   "outputs": [
    {
     "data": {
      "text/plain": [
       "['2013',\n",
       " 'Google',\n",
       " 'OS',\n",
       " 'tournament',\n",
       " 'domineering',\n",
       " 'Android',\n",
       " 'FIFA',\n",
       " 'ICESAT-2',\n",
       " 'NASA',\n",
       " 'personality',\n",
       " 'trips',\n",
       " 'online',\n",
       " 'arriving',\n",
       " 'firehose',\n",
       " 'smartphones',\n",
       " 'Cup',\n",
       " 'Satellite',\n",
       " 'invited',\n",
       " 'worldwide',\n",
       " 'tweets',\n",
       " 'interact',\n",
       " 'contested',\n",
       " '2011',\n",
       " '21st',\n",
       " 'messages',\n",
       " '2015',\n",
       " '2018',\n",
       " 'Twitter']"
      ]
     },
     "execution_count": 29,
     "metadata": {},
     "output_type": "execute_result"
    }
   ],
   "source": [
    "#Get the list of words which are present in test lines but not in the training corpus\n",
    "words_not_in_corpus = list(set(sample_words) - set(tokens))\n",
    "words_not_in_corpus"
   ]
  },
  {
   "cell_type": "code",
   "execution_count": 30,
   "metadata": {},
   "outputs": [
    {
     "data": {
      "text/plain": [
       "[('Android', 'ADV'),\n",
       " ('Google', 'ADV'),\n",
       " ('Android', 'ADV'),\n",
       " ('OS', 'ADV'),\n",
       " ('worldwide', 'ADV'),\n",
       " ('smartphones', 'ADV'),\n",
       " ('2011', 'ADV'),\n",
       " ('2013', 'ADV'),\n",
       " ('Google', 'ADV'),\n",
       " ('Twitter', 'ADV'),\n",
       " ('2015', 'ADV'),\n",
       " ('Google', 'ADV'),\n",
       " ('Twitter', 'ADV'),\n",
       " ('firehose', 'ADV'),\n",
       " ('Twitter', 'ADV'),\n",
       " ('online', 'ADV'),\n",
       " ('interact', 'ADV'),\n",
       " ('messages', 'ADV'),\n",
       " ('tweets', 'ADV'),\n",
       " ('domineering', 'ADV'),\n",
       " ('personality', 'ADV'),\n",
       " ('2018', 'ADV'),\n",
       " ('FIFA', 'ADV'),\n",
       " ('Cup', 'ADV'),\n",
       " ('21st', 'ADV'),\n",
       " ('FIFA', 'ADV'),\n",
       " ('Cup', 'ADV'),\n",
       " ('tournament', 'ADV'),\n",
       " ('contested', 'ADV'),\n",
       " ('Cup', 'ADV'),\n",
       " ('trips', 'ADV'),\n",
       " ('arriving', 'ADV'),\n",
       " ('NASA', 'ADV'),\n",
       " ('invited', 'ADV'),\n",
       " ('ICESAT-2', 'ADV'),\n",
       " ('Satellite', 'ADV')]"
      ]
     },
     "execution_count": 30,
     "metadata": {},
     "output_type": "execute_result"
    }
   ],
   "source": [
    "#Get the tags predicted for unknown words\n",
    "[tup for tup in sample_pred_list for word in words_not_in_corpus if tup[0]==word ]"
   ]
  },
  {
   "cell_type": "code",
   "execution_count": 31,
   "metadata": {},
   "outputs": [
    {
     "data": {
      "text/plain": [
       "Counter({'DET': 8310,\n",
       "         'NOUN': 27418,\n",
       "         'ADP': 9388,\n",
       "         '.': 11156,\n",
       "         'NUM': 3368,\n",
       "         'X': 6284,\n",
       "         'ADV': 3008,\n",
       "         'VERB': 12891,\n",
       "         'ADJ': 6113,\n",
       "         'CONJ': 2144,\n",
       "         'PRON': 2595,\n",
       "         'PRT': 3051})"
      ]
     },
     "execution_count": 31,
     "metadata": {},
     "output_type": "execute_result"
    }
   ],
   "source": [
    "tag_counts = Counter(pair[1] for pair in train_tagged_words)\n",
    "tag_counts"
   ]
  },
  {
   "cell_type": "code",
   "execution_count": 32,
   "metadata": {},
   "outputs": [
    {
     "data": {
      "text/plain": [
       "[('NOUN', 27418), ('VERB', 12891), ('.', 11156), ('ADP', 9388), ('DET', 8310)]"
      ]
     },
     "execution_count": 32,
     "metadata": {},
     "output_type": "execute_result"
    }
   ],
   "source": [
    "tag_counts.most_common(5)\n"
   ]
  },
  {
   "cell_type": "code",
   "execution_count": 33,
   "metadata": {},
   "outputs": [
    {
     "data": {
      "text/plain": [
       "Counter({'ADV': 371,\n",
       "         'ADP': 28,\n",
       "         'VERB': 28,\n",
       "         'ADJ': 32,\n",
       "         'PRT': 4,\n",
       "         'DET': 5,\n",
       "         'NOUN': 35,\n",
       "         'CONJ': 1})"
      ]
     },
     "execution_count": 33,
     "metadata": {},
     "output_type": "execute_result"
    }
   ],
   "source": [
    "#Lets see count of incorrectly classfied words for each tag\n",
    "wrong_tag_counts = Counter(pair[1][0][1] for pair in incorrect_tagged_cases)\n",
    "wrong_tag_counts"
   ]
  },
  {
   "cell_type": "code",
   "execution_count": 34,
   "metadata": {},
   "outputs": [
    {
     "name": "stdout",
     "output_type": "stream",
     "text": [
      "0.2078194088899232\n"
     ]
    },
    {
     "data": {
      "text/plain": [
       "[('contacted', 'VERB'),\n",
       " ('believed', 'VERB'),\n",
       " ('compared', 'VERB'),\n",
       " ('compared', 'VERB'),\n",
       " ('reduced', 'VERB'),\n",
       " ('booked', 'VERB'),\n",
       " ('collapsed', 'VERB'),\n",
       " ('succeed', 'VERB'),\n",
       " ('chaired', 'VERB'),\n",
       " ('urged', 'VERB'),\n",
       " ('stimulated', 'VERB'),\n",
       " ('advanced', 'VERB'),\n",
       " ('ranged', 'VERB'),\n",
       " ('ruled', 'VERB'),\n",
       " ('launched', 'VERB'),\n",
       " ('quipped', 'VERB'),\n",
       " ('contained', 'VERB'),\n",
       " ('called', 'VERB'),\n",
       " ('scheduled', 'VERB'),\n",
       " ('fixed', 'VERB')]"
      ]
     },
     "execution_count": 34,
     "metadata": {},
     "output_type": "execute_result"
    }
   ],
   "source": [
    "# Let us see the percentage of verbs which are classifed as 'verb which end with 'ed'\n",
    "verbs = [pair for pair in train_tagged_words if pair[1]=='VERB']\n",
    "ed_verbs = [pair for pair in verbs if pair[0].endswith('ed')]\n",
    "print(len(ed_verbs) / len(verbs))\n",
    "ed_verbs[:20]"
   ]
  },
  {
   "cell_type": "code",
   "execution_count": 35,
   "metadata": {},
   "outputs": [
    {
     "name": "stdout",
     "output_type": "stream",
     "text": [
      "0.10837018074625708\n"
     ]
    },
    {
     "data": {
      "text/plain": [
       "[('coming', 'VERB'),\n",
       " ('Being', 'VERB'),\n",
       " ('facing', 'VERB'),\n",
       " ('seeking', 'VERB'),\n",
       " ('financing', 'VERB'),\n",
       " ('stemming', 'VERB'),\n",
       " ('lessening', 'VERB'),\n",
       " ('facing', 'VERB'),\n",
       " ('striving', 'VERB'),\n",
       " ('taking', 'VERB'),\n",
       " ('going', 'VERB'),\n",
       " ('going', 'VERB'),\n",
       " ('bring', 'VERB'),\n",
       " ('inquiring', 'VERB'),\n",
       " ('proposing', 'VERB'),\n",
       " ('thumbing', 'VERB'),\n",
       " ('starting', 'VERB'),\n",
       " ('gaining', 'VERB'),\n",
       " ('forecasting', 'VERB'),\n",
       " ('cutting', 'VERB')]"
      ]
     },
     "execution_count": 35,
     "metadata": {},
     "output_type": "execute_result"
    }
   ],
   "source": [
    "\n",
    "# Let us see the percentage of verbs which are classifed as 'verb which end with 'ing'\n",
    "verbs = [pair for pair in train_tagged_words if pair[1]=='VERB']\n",
    "ing_verbs = [pair for pair in verbs if pair[0].endswith('ing')]\n",
    "print(len(ing_verbs) / len(verbs))\n",
    "ing_verbs[:20]"
   ]
  },
  {
   "cell_type": "code",
   "execution_count": 36,
   "metadata": {},
   "outputs": [
    {
     "name": "stdout",
     "output_type": "stream",
     "text": [
      "6113\n",
      "4284\n",
      "0.7008015704236872\n"
     ]
    }
   ],
   "source": [
    "\n",
    "#Lets see percentage of Adjective tags followed by nouns\n",
    "# create a list of all tags (without the words)\n",
    "tags = [pair[1] for pair in train_tagged_words]\n",
    "\n",
    "# create a list of Adj tags\n",
    "adj_tags = [t for t in tags if t == 'ADJ']\n",
    "\n",
    "# create a list of (ADJ, Noun) tags\n",
    "adj_noun_tags = [(t, tags[index+1]) for index, t in enumerate(tags) \n",
    "              if t=='ADJ' and tags[index+1]=='NOUN']\n",
    "\n",
    "print(len(adj_tags))\n",
    "print(len(adj_noun_tags))\n",
    "print(len(adj_noun_tags) / len(adj_tags))"
   ]
  },
  {
   "cell_type": "code",
   "execution_count": 37,
   "metadata": {},
   "outputs": [
    {
     "name": "stdout",
     "output_type": "stream",
     "text": [
      "8310\n",
      "5283\n",
      "0.6357400722021661\n"
     ]
    }
   ],
   "source": [
    "\n",
    "#Lets see percentage of Determinent tags followed by nouns\n",
    "dt_tags = [t for t in tags if t == 'DET']\n",
    "dt_noun_tags = [(t, tags[index+1]) for index, t in enumerate(tags) \n",
    "              if t=='DET' and tags[index+1]=='NOUN']\n",
    "\n",
    "print(len(dt_tags))\n",
    "print(len(dt_noun_tags))\n",
    "print(len(dt_noun_tags) / len(dt_tags))"
   ]
  },
  {
   "cell_type": "code",
   "execution_count": 38,
   "metadata": {},
   "outputs": [
    {
     "name": "stdout",
     "output_type": "stream",
     "text": [
      "3008\n",
      "1031\n",
      "0.3427526595744681\n"
     ]
    }
   ],
   "source": [
    "#Lets see percentage of Adverbs tags followed by Verbs\n",
    "adv_tags = [t for t in tags if t == 'ADV']\n",
    "adv_vb_tags = [(t, tags[index+1]) for index, t in enumerate(tags) \n",
    "              if t=='ADV' and tags[index+1]=='VERB']\n",
    "\n",
    "print(len(adv_tags))\n",
    "print(len(adv_vb_tags))\n",
    "print(len(adv_vb_tags) / len(adv_tags))"
   ]
  },
  {
   "cell_type": "code",
   "execution_count": 39,
   "metadata": {},
   "outputs": [],
   "source": [
    "# specify patterns for tagging\n",
    "patterns = [\n",
    "    (r'.*ing$', 'VERB'),              # gerund\n",
    "    (r'.*ed$', 'VERB'),               # past tense verbs\n",
    "    (r'.*es$', 'VERB'),               # singular present verbs\n",
    "    (r'.*ould$', 'VERB'),              # modal verbs\n",
    "    (r'.*\\'s$', 'NOUN'),              # possessive nouns\n",
    "    (r'.*s$', 'NOUN'),                # plural nouns\n",
    "    (r'^-?[0-9]+(.[0-9]+)?$', 'NUM'), # cardinal numbers\n",
    "    (r'(The|the|A|a|An|an)$', 'DET'),   # articles or determinants\n",
    "    (r'.*able$', 'ADJ'),                # adjectives\n",
    "    (r'.*ness$', 'NOUN'),                # nouns formed from adjectives\n",
    "    (r'.*ly$', 'ADV'),                  # adverbs\n",
    "    (r'.*', 'NOUN')                    # nouns\n",
    "]"
   ]
  },
  {
   "cell_type": "code",
   "execution_count": 40,
   "metadata": {},
   "outputs": [
    {
     "data": {
      "text/plain": [
       "0.943030303030303"
      ]
     },
     "execution_count": 40,
     "metadata": {},
     "output_type": "execute_result"
    }
   ],
   "source": [
    "# rule based tagger\n",
    "rule_based_tagger = nltk.RegexpTagger(patterns)\n",
    "\n",
    "# lexicon backed up by the rule-based tagger\n",
    "lexicon_tagger = nltk.UnigramTagger(train_set, backoff=rule_based_tagger)\n",
    "\n",
    "lexicon_tagger.evaluate(test_set)"
   ]
  },
  {
   "cell_type": "markdown",
   "metadata": {},
   "source": [
    "#### Evaluating tagging accuracy"
   ]
  },
  {
   "cell_type": "code",
   "execution_count": 41,
   "metadata": {},
   "outputs": [],
   "source": [
    "#Trigram tagger backed by Bigram backed by Unigram which is backed by rule based tagger\n",
    "t0 = nltk.RegexpTagger(patterns)\n",
    "t1 = nltk.UnigramTagger(train_set, backoff=t0)\n",
    "t2 = nltk.BigramTagger(train_set, backoff=t1)\n",
    "t3 = nltk.TrigramTagger(train_set, backoff=t2)"
   ]
  },
  {
   "cell_type": "code",
   "execution_count": 42,
   "metadata": {},
   "outputs": [],
   "source": [
    "#Clear existing templates if any\n",
    "Template._cleartemplates()\n",
    "\n",
    "#Load the fntbl37 template\n",
    "templates = fntbl37()\n",
    " \n",
    "#Train the Brill model\n",
    "trainer = BrillTaggerTrainer(t3, templates)\n",
    "brill_tagger = trainer.train(train_set, max_rules=100, min_score=3)"
   ]
  },
  {
   "cell_type": "code",
   "execution_count": 43,
   "metadata": {},
   "outputs": [],
   "source": [
    "# Viterbi Heuristic\n",
    "def Viterbi_updated(words, train_bag = train_tagged_words):\n",
    "    state = []\n",
    "    T = list(set([pair[1] for pair in train_bag]))\n",
    "    \n",
    "    for key, word in enumerate(words):\n",
    "        #initialise list of probability column for a given observation\n",
    "        p = [] \n",
    "        for tag in T:\n",
    "            if key == 0:\n",
    "                transition_p = tags_df.loc['.', tag]\n",
    "            else:\n",
    "                transition_p = tags_df.loc[state[-1], tag]\n",
    "                \n",
    "            # compute emission and state probabilities\n",
    "            emission_p = word_given_tag(words[key], tag)[0]/word_given_tag(words[key], tag)[1]\n",
    "            state_probability = emission_p * transition_p    \n",
    "            p.append(state_probability)\n",
    "            \n",
    "        pmax = max(p)\n",
    "       \n",
    "        #Check if state probability is zero\n",
    "        if(pmax==0.0):\n",
    "            #If state probability is zero i.e if the word is unknown if updates the tag based on the brill tagger\n",
    "            state_max = brill_tagger.tag([word])[0][1]\n",
    "        else:\n",
    "            # getting state for which probability is maximum\n",
    "            state_max = T[p.index(pmax)] \n",
    "        state.append(state_max)\n",
    "    return list(zip(words, state))"
   ]
  },
  {
   "cell_type": "markdown",
   "metadata": {},
   "source": [
    "### Compare the tagging accuracies of the modifications with the vanilla Viterbi algorithm"
   ]
  },
  {
   "cell_type": "code",
   "execution_count": 44,
   "metadata": {},
   "outputs": [
    {
     "name": "stdout",
     "output_type": "stream",
     "text": [
      "412.6380400657654\n"
     ]
    }
   ],
   "source": [
    "# tagging the test sentences with the updated Viterbi algorithm\n",
    "start = time.time()\n",
    "updated_tagged_seq = Viterbi_updated(test_tagged_words)\n",
    "end = time.time()\n",
    "difference = end-start\n",
    "#Print total time taken to train the algorithm\n",
    "print(difference)"
   ]
  },
  {
   "cell_type": "code",
   "execution_count": 45,
   "metadata": {},
   "outputs": [
    {
     "data": {
      "text/plain": [
       "0.9444444444444444"
      ]
     },
     "execution_count": 45,
     "metadata": {},
     "output_type": "execute_result"
    }
   ],
   "source": [
    "# Calculate the accuracy for the updated Viterbi algorithm\n",
    "check = [i for i, j in zip(updated_tagged_seq, test_run_base) if i == j] \n",
    "accuracy = len(check)/len(updated_tagged_seq)\n",
    "accuracy"
   ]
  },
  {
   "cell_type": "markdown",
   "metadata": {},
   "source": [
    "### List down cases which were incorrectly tagged by original POS tagger and got corrected by your modifications"
   ]
  },
  {
   "cell_type": "code",
   "execution_count": 46,
   "metadata": {},
   "outputs": [
    {
     "name": "stdout",
     "output_type": "stream",
     "text": [
      "[('Android', 'ADV'), ('is', 'VERB'), ('a', 'DET'), ('mobile', 'ADJ'), ('operating', 'NOUN'), ('system', 'NOUN'), ('developed', 'VERB'), ('by', 'ADP'), ('Google', 'ADV'), ('.', '.')]\n",
      "[('Android', 'ADV'), ('has', 'VERB'), ('been', 'VERB'), ('the', 'DET'), ('best-selling', 'ADJ'), ('OS', 'ADV'), ('worldwide', 'ADV'), ('on', 'ADP'), ('smartphones', 'ADV'), ('since', 'ADP'), ('2011', 'ADV'), ('and', 'CONJ'), ('on', 'ADP'), ('tablets', 'NOUN'), ('since', 'ADP'), ('2013', 'ADV'), ('.', '.')]\n",
      "[('Google', 'ADV'), ('and', 'CONJ'), ('Twitter', 'ADV'), ('made', 'VERB'), ('a', 'DET'), ('deal', 'NOUN'), ('in', 'ADP'), ('2015', 'ADV'), ('that', 'ADP'), ('gave', 'VERB'), ('Google', 'ADV'), ('access', 'NOUN'), ('to', 'PRT'), ('Twitter', 'ADV'), (\"'s\", 'PRT'), ('firehose', 'ADV'), ('.', '.')]\n",
      "[('Twitter', 'ADV'), ('is', 'VERB'), ('an', 'DET'), ('online', 'ADV'), ('news', 'NOUN'), ('and', 'CONJ'), ('social', 'ADJ'), ('networking', 'NOUN'), ('service', 'NOUN'), ('on', 'ADP'), ('which', 'DET'), ('users', 'NOUN'), ('post', 'NOUN'), ('and', 'CONJ'), ('interact', 'ADV'), ('with', 'ADP'), ('messages', 'ADV'), ('known', 'VERB'), ('as', 'ADP'), ('tweets', 'ADV'), ('.', '.')]\n",
      "[('Before', 'ADP'), ('entering', 'VERB'), ('politics', 'NOUN'), (',', '.'), ('Donald', 'NOUN'), ('Trump', 'NOUN'), ('was', 'VERB'), ('a', 'DET'), ('domineering', 'ADV'), ('businessman', 'NOUN'), ('and', 'CONJ'), ('a', 'DET'), ('television', 'NOUN'), ('personality', 'ADV'), ('.', '.')]\n",
      "[('The', 'DET'), ('2018', 'ADV'), ('FIFA', 'ADV'), ('World', 'NOUN'), ('Cup', 'ADV'), ('is', 'VERB'), ('the', 'DET'), ('21st', 'ADV'), ('FIFA', 'ADV'), ('World', 'NOUN'), ('Cup', 'ADV'), (',', '.'), ('an', 'DET'), ('international', 'ADJ'), ('football', 'NOUN'), ('tournament', 'ADV'), ('contested', 'ADV'), ('once', 'ADV'), ('every', 'DET'), ('four', 'NUM'), ('years', 'NOUN'), ('.', '.')]\n",
      "[('This', 'DET'), ('is', 'VERB'), ('the', 'DET'), ('first', 'ADJ'), ('World', 'NOUN'), ('Cup', 'ADV'), ('to', 'PRT'), ('be', 'VERB'), ('held', 'VERB'), ('in', 'ADP'), ('Eastern', 'NOUN'), ('Europe', 'NOUN'), ('and', 'CONJ'), ('the', 'DET'), ('11th', 'ADJ'), ('time', 'NOUN'), ('that', 'ADP'), ('it', 'PRON'), ('has', 'VERB'), ('been', 'VERB'), ('held', 'VERB'), ('in', 'ADP'), ('Europe', 'NOUN'), ('.', '.')]\n",
      "[('Show', 'NOUN'), ('me', 'PRON'), ('the', 'DET'), ('cheapest', 'ADJ'), ('round', 'NOUN'), ('trips', 'ADV'), ('from', 'ADP'), ('Dallas', 'NOUN'), ('to', 'PRT'), ('Atlanta', 'NOUN')]\n",
      "[('I', 'PRON'), ('would', 'VERB'), ('like', 'ADP'), ('to', 'PRT'), ('see', 'VERB'), ('flights', 'NOUN'), ('from', 'ADP'), ('Denver', 'NOUN'), ('to', 'PRT'), ('Philadelphia', 'NOUN'), ('.', '.')]\n",
      "[('Show', 'NOUN'), ('me', 'PRON'), ('the', 'DET'), ('price', 'NOUN'), ('of', 'ADP'), ('the', 'DET'), ('flights', 'NOUN'), ('leaving', 'VERB'), ('Atlanta', 'NOUN'), ('at', 'ADP'), ('about', 'ADP'), ('3', 'NUM'), ('in', 'ADP'), ('the', 'DET'), ('afternoon', 'NOUN'), ('and', 'CONJ'), ('arriving', 'ADV'), ('in', 'ADP'), ('San', 'NOUN'), ('Francisco', 'NOUN'), ('.', '.')]\n",
      "[('NASA', 'ADV'), ('invited', 'ADV'), ('social', 'ADJ'), ('media', 'NOUN'), ('users', 'NOUN'), ('to', 'PRT'), ('experience', 'NOUN'), ('the', 'DET'), ('launch', 'NOUN'), ('of', 'ADP'), ('ICESAT-2', 'ADV'), ('Satellite', 'ADV'), ('.', '.')]\n"
     ]
    }
   ],
   "source": [
    "\n",
    "#Let us print the test lines with the initial Viterbi algorithm\n",
    "for line in test_lines:\n",
    "    print(list(Viterbi(word_tokenize(line))))"
   ]
  },
  {
   "cell_type": "code",
   "execution_count": 47,
   "metadata": {},
   "outputs": [
    {
     "name": "stdout",
     "output_type": "stream",
     "text": [
      "[('Android', 'NOUN'), ('is', 'VERB'), ('a', 'DET'), ('mobile', 'ADJ'), ('operating', 'NOUN'), ('system', 'NOUN'), ('developed', 'VERB'), ('by', 'ADP'), ('Google', 'NOUN'), ('.', '.')]\n",
      "[('Android', 'NOUN'), ('has', 'VERB'), ('been', 'VERB'), ('the', 'DET'), ('best-selling', 'ADJ'), ('OS', 'NOUN'), ('worldwide', 'NOUN'), ('on', 'ADP'), ('smartphones', 'VERB'), ('since', 'ADP'), ('2011', 'NUM'), ('and', 'CONJ'), ('on', 'ADP'), ('tablets', 'NOUN'), ('since', 'ADP'), ('2013', 'NUM'), ('.', '.')]\n",
      "[('Google', 'NOUN'), ('and', 'CONJ'), ('Twitter', 'NOUN'), ('made', 'VERB'), ('a', 'DET'), ('deal', 'NOUN'), ('in', 'ADP'), ('2015', 'NUM'), ('that', 'ADP'), ('gave', 'VERB'), ('Google', 'NOUN'), ('access', 'NOUN'), ('to', 'PRT'), ('Twitter', 'NOUN'), (\"'s\", 'PRT'), ('firehose', 'NOUN'), ('.', '.')]\n",
      "[('Twitter', 'NOUN'), ('is', 'VERB'), ('an', 'DET'), ('online', 'NOUN'), ('news', 'NOUN'), ('and', 'CONJ'), ('social', 'ADJ'), ('networking', 'NOUN'), ('service', 'NOUN'), ('on', 'ADP'), ('which', 'DET'), ('users', 'NOUN'), ('post', 'NOUN'), ('and', 'CONJ'), ('interact', 'NOUN'), ('with', 'ADP'), ('messages', 'VERB'), ('known', 'VERB'), ('as', 'ADP'), ('tweets', 'NOUN'), ('.', '.')]\n",
      "[('Before', 'ADP'), ('entering', 'VERB'), ('politics', 'NOUN'), (',', '.'), ('Donald', 'NOUN'), ('Trump', 'NOUN'), ('was', 'VERB'), ('a', 'DET'), ('domineering', 'VERB'), ('businessman', 'NOUN'), ('and', 'CONJ'), ('a', 'DET'), ('television', 'NOUN'), ('personality', 'NOUN'), ('.', '.')]\n",
      "[('The', 'DET'), ('2018', 'NUM'), ('FIFA', 'NOUN'), ('World', 'NOUN'), ('Cup', 'NOUN'), ('is', 'VERB'), ('the', 'DET'), ('21st', 'NOUN'), ('FIFA', 'NOUN'), ('World', 'NOUN'), ('Cup', 'NOUN'), (',', '.'), ('an', 'DET'), ('international', 'ADJ'), ('football', 'NOUN'), ('tournament', 'NOUN'), ('contested', 'VERB'), ('once', 'ADV'), ('every', 'DET'), ('four', 'NUM'), ('years', 'NOUN'), ('.', '.')]\n",
      "[('This', 'DET'), ('is', 'VERB'), ('the', 'DET'), ('first', 'ADJ'), ('World', 'NOUN'), ('Cup', 'NOUN'), ('to', 'PRT'), ('be', 'VERB'), ('held', 'VERB'), ('in', 'ADP'), ('Eastern', 'NOUN'), ('Europe', 'NOUN'), ('and', 'CONJ'), ('the', 'DET'), ('11th', 'ADJ'), ('time', 'NOUN'), ('that', 'ADP'), ('it', 'PRON'), ('has', 'VERB'), ('been', 'VERB'), ('held', 'VERB'), ('in', 'ADP'), ('Europe', 'NOUN'), ('.', '.')]\n",
      "[('Show', 'NOUN'), ('me', 'PRON'), ('the', 'DET'), ('cheapest', 'ADJ'), ('round', 'NOUN'), ('trips', 'NOUN'), ('from', 'ADP'), ('Dallas', 'NOUN'), ('to', 'PRT'), ('Atlanta', 'NOUN')]\n",
      "[('I', 'PRON'), ('would', 'VERB'), ('like', 'ADP'), ('to', 'PRT'), ('see', 'VERB'), ('flights', 'NOUN'), ('from', 'ADP'), ('Denver', 'NOUN'), ('to', 'PRT'), ('Philadelphia', 'NOUN'), ('.', '.')]\n",
      "[('Show', 'NOUN'), ('me', 'PRON'), ('the', 'DET'), ('price', 'NOUN'), ('of', 'ADP'), ('the', 'DET'), ('flights', 'NOUN'), ('leaving', 'VERB'), ('Atlanta', 'NOUN'), ('at', 'ADP'), ('about', 'ADP'), ('3', 'NUM'), ('in', 'ADP'), ('the', 'DET'), ('afternoon', 'NOUN'), ('and', 'CONJ'), ('arriving', 'VERB'), ('in', 'ADP'), ('San', 'NOUN'), ('Francisco', 'NOUN'), ('.', '.')]\n",
      "[('NASA', 'NOUN'), ('invited', 'VERB'), ('social', 'ADJ'), ('media', 'NOUN'), ('users', 'NOUN'), ('to', 'PRT'), ('experience', 'NOUN'), ('the', 'DET'), ('launch', 'NOUN'), ('of', 'ADP'), ('ICESAT-2', 'NOUN'), ('Satellite', 'NOUN'), ('.', '.')]\n"
     ]
    }
   ],
   "source": [
    "\n",
    "#Let us print the test lines with the updated Viterbi algorithm\n",
    "for line in test_lines:\n",
    "    print(list(Viterbi_updated(word_tokenize(line))))"
   ]
  },
  {
   "cell_type": "code",
   "execution_count": 48,
   "metadata": {},
   "outputs": [],
   "source": [
    "\n",
    "# Viterbi Heuristic\n",
    "def Viterbi_updated2(words, train_bag = train_tagged_words):\n",
    "    state = []\n",
    "    T = list(set([pair[1] for pair in train_bag]))\n",
    "    \n",
    "    for key, word in enumerate(words):\n",
    "        #initialise list of probability column for a given observation\n",
    "        p = [] \n",
    "        for tag in T:\n",
    "            if key == 0:\n",
    "                transition_p = tags_df.loc['.', tag]\n",
    "            else:\n",
    "                transition_p = tags_df.loc[state[-1], tag]\n",
    "                \n",
    "            # compute emission and state probabilities\n",
    "            emission_p = word_given_tag(words[key], tag)[0]/word_given_tag(words[key], tag)[1]\n",
    "            state_probability = emission_p * transition_p    \n",
    "            p.append(state_probability)\n",
    "            \n",
    "        pmax = max(p)\n",
    "       \n",
    "        #Check if state probability is zero\n",
    "        if(pmax<0.001):\n",
    "            #If state probability is zero i.e if the word is unknown if updates the tag based on the brill tagger\n",
    "            state_max = brill_tagger.tag([word])[0][1]\n",
    "        else:\n",
    "            # getting state for which probability is maximum\n",
    "            state_max = T[p.index(pmax)] \n",
    "        state.append(state_max)\n",
    "    return list(zip(words, state))"
   ]
  },
  {
   "cell_type": "code",
   "execution_count": 49,
   "metadata": {},
   "outputs": [
    {
     "name": "stdout",
     "output_type": "stream",
     "text": [
      "418.41751885414124\n"
     ]
    }
   ],
   "source": [
    "# tagging the test sentences with the updated Viterbi algorithm\n",
    "start = time.time()\n",
    "updated_tagged_seq = Viterbi_updated2(test_tagged_words)\n",
    "end = time.time()\n",
    "difference = end-start\n",
    "#Print total time taken to train the algorithm\n",
    "print(difference)"
   ]
  },
  {
   "cell_type": "code",
   "execution_count": 50,
   "metadata": {},
   "outputs": [
    {
     "data": {
      "text/plain": [
       "0.9416161616161616"
      ]
     },
     "execution_count": 50,
     "metadata": {},
     "output_type": "execute_result"
    }
   ],
   "source": [
    "# Calculate the accuracy for the updated Viterbi algorithm\n",
    "check = [i for i, j in zip(updated_tagged_seq, test_run_base) if i == j] \n",
    "accuracy = len(check)/len(updated_tagged_seq)\n",
    "accuracy"
   ]
  },
  {
   "cell_type": "code",
   "execution_count": null,
   "metadata": {},
   "outputs": [],
   "source": []
  },
  {
   "cell_type": "code",
   "execution_count": null,
   "metadata": {},
   "outputs": [],
   "source": []
  }
 ],
 "metadata": {
  "kernelspec": {
   "display_name": "Python 3",
   "language": "python",
   "name": "python3"
  },
  "language_info": {
   "codemirror_mode": {
    "name": "ipython",
    "version": 3
   },
   "file_extension": ".py",
   "mimetype": "text/x-python",
   "name": "python",
   "nbconvert_exporter": "python",
   "pygments_lexer": "ipython3",
   "version": "3.7.7"
  }
 },
 "nbformat": 4,
 "nbformat_minor": 2
}
