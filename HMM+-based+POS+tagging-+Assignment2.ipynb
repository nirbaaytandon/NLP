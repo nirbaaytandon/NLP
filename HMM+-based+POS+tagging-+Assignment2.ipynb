{
 "cells": [
  {
   "cell_type": "markdown",
   "metadata": {},
   "source": [
    "## POS tagging using modified Viterbi"
   ]
  },
  {
   "cell_type": "markdown",
   "metadata": {},
   "source": [
    "### Data Preparation"
   ]
  },
  {
   "cell_type": "code",
   "execution_count": 1,
   "metadata": {},
   "outputs": [],
   "source": [
    "#Importing libraries\n",
    "import nltk, re, pprint\n",
    "import numpy as np\n",
    "import pandas as pd\n",
    "import requests\n",
    "import matplotlib.pyplot as plt\n",
    "import seaborn as sns\n",
    "import pprint, time\n",
    "import random\n",
    "from sklearn.model_selection import train_test_split\n",
    "from nltk.tokenize import word_tokenize\n",
    "import codecs\n",
    "import nltk.tag\n",
    "from nltk.tag import brill\n",
    "from nltk.tag.brill import *\n",
    "from nltk.tbl.template import Template\n",
    "from nltk.tag import BrillTaggerTrainer\n",
    "from collections import Counter\n"
   ]
  },
  {
   "cell_type": "code",
   "execution_count": 2,
   "metadata": {},
   "outputs": [
    {
     "name": "stderr",
     "output_type": "stream",
     "text": [
      "[nltk_data] Downloading package universal_tagset to\n",
      "[nltk_data]     /home/nirbhay/nltk_data...\n",
      "[nltk_data]   Package universal_tagset is already up-to-date!\n"
     ]
    },
    {
     "data": {
      "text/plain": [
       "True"
      ]
     },
     "execution_count": 2,
     "metadata": {},
     "output_type": "execute_result"
    }
   ],
   "source": [
    "nltk.download('universal_tagset')"
   ]
  },
  {
   "cell_type": "code",
   "execution_count": 3,
   "metadata": {},
   "outputs": [],
   "source": [
    "# reading the Treebank tagged sentences\n",
    "nltk_data = list(nltk.corpus.treebank.tagged_sents(tagset='universal'))"
   ]
  },
  {
   "cell_type": "code",
   "execution_count": 4,
   "metadata": {},
   "outputs": [
    {
     "name": "stdout",
     "output_type": "stream",
     "text": [
      "[[('Pierre', 'NOUN'), ('Vinken', 'NOUN'), (',', '.'), ('61', 'NUM'), ('years', 'NOUN'), ('old', 'ADJ'), (',', '.'), ('will', 'VERB'), ('join', 'VERB'), ('the', 'DET'), ('board', 'NOUN'), ('as', 'ADP'), ('a', 'DET'), ('nonexecutive', 'ADJ'), ('director', 'NOUN'), ('Nov.', 'NOUN'), ('29', 'NUM'), ('.', '.')], [('Mr.', 'NOUN'), ('Vinken', 'NOUN'), ('is', 'VERB'), ('chairman', 'NOUN'), ('of', 'ADP'), ('Elsevier', 'NOUN'), ('N.V.', 'NOUN'), (',', '.'), ('the', 'DET'), ('Dutch', 'NOUN'), ('publishing', 'VERB'), ('group', 'NOUN'), ('.', '.')], [('Rudolph', 'NOUN'), ('Agnew', 'NOUN'), (',', '.'), ('55', 'NUM'), ('years', 'NOUN'), ('old', 'ADJ'), ('and', 'CONJ'), ('former', 'ADJ'), ('chairman', 'NOUN'), ('of', 'ADP'), ('Consolidated', 'NOUN'), ('Gold', 'NOUN'), ('Fields', 'NOUN'), ('PLC', 'NOUN'), (',', '.'), ('was', 'VERB'), ('named', 'VERB'), ('*-1', 'X'), ('a', 'DET'), ('nonexecutive', 'ADJ'), ('director', 'NOUN'), ('of', 'ADP'), ('this', 'DET'), ('British', 'ADJ'), ('industrial', 'ADJ'), ('conglomerate', 'NOUN'), ('.', '.')]]\n"
     ]
    }
   ],
   "source": [
    "#First three sentences in the dataset\n",
    "print(nltk_data[:3])"
   ]
  },
  {
   "cell_type": "code",
   "execution_count": 5,
   "metadata": {},
   "outputs": [],
   "source": [
    "#set the random seed\n",
    "random.seed(1234)\n",
    "\n",
    "#Divide the data into training and test sets\n",
    "train_set, test_set = train_test_split(nltk_data,train_size=0.95, test_size=0.05,random_state = 101)"
   ]
  },
  {
   "cell_type": "code",
   "execution_count": 6,
   "metadata": {},
   "outputs": [
    {
     "name": "stdout",
     "output_type": "stream",
     "text": [
      "Length of training set:  3718\n",
      "Length of test set:  196\n"
     ]
    }
   ],
   "source": [
    "#Get the length of training and test sets\n",
    "print(\"Length of training set: \",len(train_set))\n",
    "print(\"Length of test set: \",len(test_set))"
   ]
  },
  {
   "cell_type": "code",
   "execution_count": 7,
   "metadata": {},
   "outputs": [
    {
     "data": {
      "text/plain": [
       "95547"
      ]
     },
     "execution_count": 7,
     "metadata": {},
     "output_type": "execute_result"
    }
   ],
   "source": [
    "# Getting list of tagged words in training set\n",
    "train_tagged_words = [tup for sent in train_set for tup in sent]\n",
    "#Get the length of the total tagged words in training set\n",
    "len(train_tagged_words)"
   ]
  },
  {
   "cell_type": "code",
   "execution_count": 8,
   "metadata": {},
   "outputs": [
    {
     "data": {
      "text/plain": [
       "['Reliance',\n",
       " 'confirmed',\n",
       " 'the',\n",
       " 'filing',\n",
       " 'but',\n",
       " 'would',\n",
       " \"n't\",\n",
       " 'elaborate',\n",
       " '.',\n",
       " '*']"
      ]
     },
     "execution_count": 8,
     "metadata": {},
     "output_type": "execute_result"
    }
   ],
   "source": [
    "# View the first 10 tokens/words in the training set\n",
    "tokens = [pair[0] for pair in train_tagged_words]\n",
    "tokens[:10]"
   ]
  },
  {
   "cell_type": "code",
   "execution_count": 9,
   "metadata": {},
   "outputs": [
    {
     "data": {
      "text/plain": [
       "[('confirmed', 'VERB'), ('the', 'DET'), ('filing', 'NOUN'), ('but', 'CONJ')]"
      ]
     },
     "execution_count": 9,
     "metadata": {},
     "output_type": "execute_result"
    }
   ],
   "source": [
    "# check some of the tagged words.\n",
    "train_tagged_words[1:5]"
   ]
  },
  {
   "cell_type": "code",
   "execution_count": 10,
   "metadata": {},
   "outputs": [
    {
     "name": "stdout",
     "output_type": "stream",
     "text": [
      "12100\n"
     ]
    }
   ],
   "source": [
    "# Get the total unique words in the training set\n",
    "V = set(tokens)\n",
    "print(len(V))"
   ]
  },
  {
   "cell_type": "code",
   "execution_count": 11,
   "metadata": {},
   "outputs": [
    {
     "name": "stdout",
     "output_type": "stream",
     "text": [
      "12\n",
      "{'ADP', 'CONJ', 'PRT', 'NUM', 'X', 'ADJ', 'PRON', 'DET', '.', 'NOUN', 'ADV', 'VERB'}\n"
     ]
    }
   ],
   "source": [
    "# number of pos tags in the training corpus\n",
    "T = set([pair[1] for pair in train_tagged_words])\n",
    "print(len(T))\n",
    "print(T)"
   ]
  },
  {
   "cell_type": "markdown",
   "metadata": {},
   "source": [
    "### Build the vanilla Viterbi based POS tagger"
   ]
  },
  {
   "cell_type": "code",
   "execution_count": 12,
   "metadata": {},
   "outputs": [],
   "source": [
    "# Create numpy array of no of pos tags by total vocabulary\n",
    "t = len(T)\n",
    "v = len(V)\n",
    "w_given_t = np.zeros((t, v))"
   ]
  },
  {
   "cell_type": "code",
   "execution_count": 13,
   "metadata": {},
   "outputs": [],
   "source": [
    "\n",
    "# compute word given tag: Emission Probability\n",
    "def word_given_tag(word, tag, train_bag = train_tagged_words):\n",
    "    tag_list = [pair for pair in train_bag if pair[1]==tag]\n",
    "    count_tag = len(tag_list)\n",
    "    w_given_tag_list = [pair[0] for pair in tag_list if pair[0]==word]\n",
    "    count_w_given_tag = len(w_given_tag_list)\n",
    "    \n",
    "    return (count_w_given_tag, count_tag)"
   ]
  },
  {
   "cell_type": "code",
   "execution_count": 14,
   "metadata": {},
   "outputs": [],
   "source": [
    "# compute tag given tag: tag2(t2) given tag1 (t1), i.e. Transition Probability\n",
    "\n",
    "def t2_given_t1(t2, t1, train_bag = train_tagged_words):\n",
    "    tags = [pair[1] for pair in train_bag]\n",
    "    count_t1 = len([t for t in tags if t==t1])\n",
    "    count_t2_t1 = 0\n",
    "    for index in range(len(tags)-1):\n",
    "        if tags[index]==t1 and tags[index+1] == t2:\n",
    "            count_t2_t1 += 1\n",
    "    return (count_t2_t1, count_t1)"
   ]
  },
  {
   "cell_type": "code",
   "execution_count": 15,
   "metadata": {},
   "outputs": [],
   "source": [
    "# creating t x t (pos tags x pos tags)transition matrix of tags\n",
    "# each column is t2, each row is t1\n",
    "# thus M(i, j) represents P(tj given ti)\n",
    "\n",
    "tags_matrix = np.zeros((len(T), len(T)), dtype='float32')\n",
    "for i, t1 in enumerate(list(T)):\n",
    "    for j, t2 in enumerate(list(T)): \n",
    "        tags_matrix[i, j] = t2_given_t1(t2, t1)[0]/t2_given_t1(t2, t1)[1]"
   ]
  },
  {
   "cell_type": "code",
   "execution_count": 16,
   "metadata": {},
   "outputs": [
    {
     "data": {
      "text/html": [
       "<div>\n",
       "<style scoped>\n",
       "    .dataframe tbody tr th:only-of-type {\n",
       "        vertical-align: middle;\n",
       "    }\n",
       "\n",
       "    .dataframe tbody tr th {\n",
       "        vertical-align: top;\n",
       "    }\n",
       "\n",
       "    .dataframe thead th {\n",
       "        text-align: right;\n",
       "    }\n",
       "</style>\n",
       "<table border=\"1\" class=\"dataframe\">\n",
       "  <thead>\n",
       "    <tr style=\"text-align: right;\">\n",
       "      <th></th>\n",
       "      <th>ADP</th>\n",
       "      <th>CONJ</th>\n",
       "      <th>PRT</th>\n",
       "      <th>NUM</th>\n",
       "      <th>X</th>\n",
       "      <th>ADJ</th>\n",
       "      <th>PRON</th>\n",
       "      <th>DET</th>\n",
       "      <th>.</th>\n",
       "      <th>NOUN</th>\n",
       "      <th>ADV</th>\n",
       "      <th>VERB</th>\n",
       "    </tr>\n",
       "  </thead>\n",
       "  <tbody>\n",
       "    <tr>\n",
       "      <th>ADP</th>\n",
       "      <td>0.016893</td>\n",
       "      <td>0.000962</td>\n",
       "      <td>0.001390</td>\n",
       "      <td>0.062226</td>\n",
       "      <td>0.034427</td>\n",
       "      <td>0.107024</td>\n",
       "      <td>0.070031</td>\n",
       "      <td>0.324709</td>\n",
       "      <td>0.039025</td>\n",
       "      <td>0.320967</td>\n",
       "      <td>0.014006</td>\n",
       "      <td>0.008340</td>\n",
       "    </tr>\n",
       "    <tr>\n",
       "      <th>CONJ</th>\n",
       "      <td>0.052534</td>\n",
       "      <td>0.000465</td>\n",
       "      <td>0.004649</td>\n",
       "      <td>0.039981</td>\n",
       "      <td>0.008833</td>\n",
       "      <td>0.118085</td>\n",
       "      <td>0.058113</td>\n",
       "      <td>0.121339</td>\n",
       "      <td>0.034868</td>\n",
       "      <td>0.349140</td>\n",
       "      <td>0.055323</td>\n",
       "      <td>0.156671</td>\n",
       "    </tr>\n",
       "    <tr>\n",
       "      <th>PRT</th>\n",
       "      <td>0.020099</td>\n",
       "      <td>0.002306</td>\n",
       "      <td>0.001647</td>\n",
       "      <td>0.056672</td>\n",
       "      <td>0.013509</td>\n",
       "      <td>0.083031</td>\n",
       "      <td>0.017792</td>\n",
       "      <td>0.097858</td>\n",
       "      <td>0.043822</td>\n",
       "      <td>0.247776</td>\n",
       "      <td>0.010214</td>\n",
       "      <td>0.405272</td>\n",
       "    </tr>\n",
       "    <tr>\n",
       "      <th>NUM</th>\n",
       "      <td>0.036033</td>\n",
       "      <td>0.013699</td>\n",
       "      <td>0.026504</td>\n",
       "      <td>0.184932</td>\n",
       "      <td>0.210542</td>\n",
       "      <td>0.034247</td>\n",
       "      <td>0.001489</td>\n",
       "      <td>0.003276</td>\n",
       "      <td>0.117332</td>\n",
       "      <td>0.350208</td>\n",
       "      <td>0.002978</td>\n",
       "      <td>0.018761</td>\n",
       "    </tr>\n",
       "    <tr>\n",
       "      <th>X</th>\n",
       "      <td>0.142584</td>\n",
       "      <td>0.010662</td>\n",
       "      <td>0.185232</td>\n",
       "      <td>0.002864</td>\n",
       "      <td>0.076384</td>\n",
       "      <td>0.017187</td>\n",
       "      <td>0.055538</td>\n",
       "      <td>0.054742</td>\n",
       "      <td>0.163590</td>\n",
       "      <td>0.062381</td>\n",
       "      <td>0.024984</td>\n",
       "      <td>0.203851</td>\n",
       "    </tr>\n",
       "    <tr>\n",
       "      <th>ADJ</th>\n",
       "      <td>0.078267</td>\n",
       "      <td>0.016971</td>\n",
       "      <td>0.010710</td>\n",
       "      <td>0.021256</td>\n",
       "      <td>0.021091</td>\n",
       "      <td>0.066403</td>\n",
       "      <td>0.000330</td>\n",
       "      <td>0.004943</td>\n",
       "      <td>0.063931</td>\n",
       "      <td>0.699621</td>\n",
       "      <td>0.004778</td>\n",
       "      <td>0.011699</td>\n",
       "    </tr>\n",
       "    <tr>\n",
       "      <th>PRON</th>\n",
       "      <td>0.022971</td>\n",
       "      <td>0.005360</td>\n",
       "      <td>0.013017</td>\n",
       "      <td>0.006508</td>\n",
       "      <td>0.089969</td>\n",
       "      <td>0.073124</td>\n",
       "      <td>0.007657</td>\n",
       "      <td>0.009954</td>\n",
       "      <td>0.040965</td>\n",
       "      <td>0.210949</td>\n",
       "      <td>0.034074</td>\n",
       "      <td>0.485452</td>\n",
       "    </tr>\n",
       "    <tr>\n",
       "      <th>DET</th>\n",
       "      <td>0.009540</td>\n",
       "      <td>0.000483</td>\n",
       "      <td>0.000242</td>\n",
       "      <td>0.022220</td>\n",
       "      <td>0.045405</td>\n",
       "      <td>0.204323</td>\n",
       "      <td>0.003744</td>\n",
       "      <td>0.005676</td>\n",
       "      <td>0.017993</td>\n",
       "      <td>0.638087</td>\n",
       "      <td>0.012438</td>\n",
       "      <td>0.039850</td>\n",
       "    </tr>\n",
       "    <tr>\n",
       "      <th>.</th>\n",
       "      <td>0.091342</td>\n",
       "      <td>0.057538</td>\n",
       "      <td>0.002427</td>\n",
       "      <td>0.081003</td>\n",
       "      <td>0.026971</td>\n",
       "      <td>0.043963</td>\n",
       "      <td>0.066349</td>\n",
       "      <td>0.173335</td>\n",
       "      <td>0.093320</td>\n",
       "      <td>0.222242</td>\n",
       "      <td>0.052324</td>\n",
       "      <td>0.089095</td>\n",
       "    </tr>\n",
       "    <tr>\n",
       "      <th>NOUN</th>\n",
       "      <td>0.176514</td>\n",
       "      <td>0.042666</td>\n",
       "      <td>0.043397</td>\n",
       "      <td>0.009542</td>\n",
       "      <td>0.029175</td>\n",
       "      <td>0.012248</td>\n",
       "      <td>0.004607</td>\n",
       "      <td>0.012942</td>\n",
       "      <td>0.240604</td>\n",
       "      <td>0.263564</td>\n",
       "      <td>0.017074</td>\n",
       "      <td>0.147667</td>\n",
       "    </tr>\n",
       "    <tr>\n",
       "      <th>ADV</th>\n",
       "      <td>0.118582</td>\n",
       "      <td>0.006956</td>\n",
       "      <td>0.014243</td>\n",
       "      <td>0.030474</td>\n",
       "      <td>0.023186</td>\n",
       "      <td>0.129182</td>\n",
       "      <td>0.014906</td>\n",
       "      <td>0.069891</td>\n",
       "      <td>0.137131</td>\n",
       "      <td>0.031467</td>\n",
       "      <td>0.080490</td>\n",
       "      <td>0.343491</td>\n",
       "    </tr>\n",
       "    <tr>\n",
       "      <th>VERB</th>\n",
       "      <td>0.092022</td>\n",
       "      <td>0.005577</td>\n",
       "      <td>0.030674</td>\n",
       "      <td>0.022851</td>\n",
       "      <td>0.217506</td>\n",
       "      <td>0.064988</td>\n",
       "      <td>0.035786</td>\n",
       "      <td>0.134392</td>\n",
       "      <td>0.034934</td>\n",
       "      <td>0.110070</td>\n",
       "      <td>0.081952</td>\n",
       "      <td>0.169249</td>\n",
       "    </tr>\n",
       "  </tbody>\n",
       "</table>\n",
       "</div>"
      ],
      "text/plain": [
       "           ADP      CONJ       PRT       NUM         X       ADJ      PRON  \\\n",
       "ADP   0.016893  0.000962  0.001390  0.062226  0.034427  0.107024  0.070031   \n",
       "CONJ  0.052534  0.000465  0.004649  0.039981  0.008833  0.118085  0.058113   \n",
       "PRT   0.020099  0.002306  0.001647  0.056672  0.013509  0.083031  0.017792   \n",
       "NUM   0.036033  0.013699  0.026504  0.184932  0.210542  0.034247  0.001489   \n",
       "X     0.142584  0.010662  0.185232  0.002864  0.076384  0.017187  0.055538   \n",
       "ADJ   0.078267  0.016971  0.010710  0.021256  0.021091  0.066403  0.000330   \n",
       "PRON  0.022971  0.005360  0.013017  0.006508  0.089969  0.073124  0.007657   \n",
       "DET   0.009540  0.000483  0.000242  0.022220  0.045405  0.204323  0.003744   \n",
       ".     0.091342  0.057538  0.002427  0.081003  0.026971  0.043963  0.066349   \n",
       "NOUN  0.176514  0.042666  0.043397  0.009542  0.029175  0.012248  0.004607   \n",
       "ADV   0.118582  0.006956  0.014243  0.030474  0.023186  0.129182  0.014906   \n",
       "VERB  0.092022  0.005577  0.030674  0.022851  0.217506  0.064988  0.035786   \n",
       "\n",
       "           DET         .      NOUN       ADV      VERB  \n",
       "ADP   0.324709  0.039025  0.320967  0.014006  0.008340  \n",
       "CONJ  0.121339  0.034868  0.349140  0.055323  0.156671  \n",
       "PRT   0.097858  0.043822  0.247776  0.010214  0.405272  \n",
       "NUM   0.003276  0.117332  0.350208  0.002978  0.018761  \n",
       "X     0.054742  0.163590  0.062381  0.024984  0.203851  \n",
       "ADJ   0.004943  0.063931  0.699621  0.004778  0.011699  \n",
       "PRON  0.009954  0.040965  0.210949  0.034074  0.485452  \n",
       "DET   0.005676  0.017993  0.638087  0.012438  0.039850  \n",
       ".     0.173335  0.093320  0.222242  0.052324  0.089095  \n",
       "NOUN  0.012942  0.240604  0.263564  0.017074  0.147667  \n",
       "ADV   0.069891  0.137131  0.031467  0.080490  0.343491  \n",
       "VERB  0.134392  0.034934  0.110070  0.081952  0.169249  "
      ]
     },
     "execution_count": 16,
     "metadata": {},
     "output_type": "execute_result"
    }
   ],
   "source": [
    "# convert the matrix to a df for better readability\n",
    "tags_df = pd.DataFrame(tags_matrix, columns = list(T), index=list(T))\n",
    "tags_df"
   ]
  },
  {
   "cell_type": "code",
   "execution_count": 17,
   "metadata": {},
   "outputs": [
    {
     "data": {
      "image/png": "[encoded data removed]",
      "text/plain": [
       "<Figure size 1296x864 with 2 Axes>"
      ]
     },
     "metadata": {
      "needs_background": "light"
     },
     "output_type": "display_data"
    }
   ],
   "source": [
    "\n",
    "# heatmap of tags matrix\n",
    "# T(i, j) indicates P(tag j given tag i)\n",
    "plt.figure(figsize=(18, 12))\n",
    "sns.heatmap(tags_df)\n",
    "plt.show()"
   ]
  },
  {
   "cell_type": "code",
   "execution_count": 18,
   "metadata": {},
   "outputs": [
    {
     "data": {
      "image/png": "[encoded data removed]",
      "text/plain": [
       "<Figure size 1296x864 with 2 Axes>"
      ]
     },
     "metadata": {
      "needs_background": "light"
     },
     "output_type": "display_data"
    }
   ],
   "source": [
    "\n",
    "# frequent tags\n",
    "# filter the df to get P(t2, t1) > 0.5\n",
    "tags_frequent = tags_df[tags_df>0.5]\n",
    "plt.figure(figsize=(18, 12))\n",
    "sns.heatmap(tags_frequent)\n",
    "plt.show()"
   ]
  },
  {
   "cell_type": "code",
   "execution_count": 19,
   "metadata": {},
   "outputs": [
    {
     "data": {
      "text/plain": [
       "95547"
      ]
     },
     "execution_count": 19,
     "metadata": {},
     "output_type": "execute_result"
    }
   ],
   "source": [
    "#Get the total length of tagged words in training corpus\n",
    "len(train_tagged_words)"
   ]
  },
  {
   "cell_type": "code",
   "execution_count": 20,
   "metadata": {},
   "outputs": [],
   "source": [
    "\n",
    "# Viterbi Heuristic\n",
    "def Viterbi(words, train_bag = train_tagged_words):\n",
    "    state = []\n",
    "    T = list(set([pair[1] for pair in train_bag]))\n",
    "    \n",
    "    for key, word in enumerate(words):\n",
    "        #initialise list of probability column for a given observation\n",
    "        p = [] \n",
    "        for tag in T:\n",
    "            if key == 0:\n",
    "                transition_p = tags_df.loc['.', tag]\n",
    "            else:\n",
    "                transition_p = tags_df.loc[state[-1], tag]\n",
    "                \n",
    "            # compute emission and state probabilities\n",
    "            emission_p = word_given_tag(words[key], tag)[0]/word_given_tag(words[key], tag)[1]\n",
    "            state_probability = emission_p * transition_p    \n",
    "            p.append(state_probability)\n",
    "            \n",
    "        pmax = max(p)\n",
    "        # getting state for which probability is maximum\n",
    "        state_max = T[p.index(pmax)] \n",
    "        state.append(state_max)\n",
    "    return list(zip(words, state))"
   ]
  },
  {
   "cell_type": "code",
   "execution_count": 21,
   "metadata": {},
   "outputs": [],
   "source": [
    "\n",
    "# Running on entire test dataset would take more than 3-4hrs. \n",
    "# Let's test our Viterbi algorithm on a few sample sentences of test dataset\n",
    "\n",
    "\n",
    "# list of tagged words in test set\n",
    "test_run_base = [tup for sent in test_set for tup in sent]\n",
    "\n",
    "# list of  words which are untagged in test set\n",
    "test_tagged_words = [tup[0] for sent in test_set for tup in sent]"
   ]
  },
  {
   "cell_type": "code",
   "execution_count": 22,
   "metadata": {},
   "outputs": [],
   "source": [
    "# tagging the test sentences\n",
    "start = time.time()\n",
    "tagged_seq = Viterbi(test_tagged_words)\n",
    "end = time.time()\n",
    "difference = end-start"
   ]
  },
  {
   "cell_type": "code",
   "execution_count": 23,
   "metadata": {},
   "outputs": [
    {
     "name": "stdout",
     "output_type": "stream",
     "text": [
      "440.14880418777466\n"
     ]
    }
   ],
   "source": [
    "#Print total time taken to train the algorithm\n",
    "print(difference)"
   ]
  },
  {
   "cell_type": "code",
   "execution_count": 24,
   "metadata": {},
   "outputs": [
    {
     "name": "stdout",
     "output_type": "stream",
     "text": [
      "0.9093390524468707\n"
     ]
    }
   ],
   "source": [
    "\n",
    "# Get accuracy of model\n",
    "check = [i for i, j in zip(tagged_seq, test_run_base) if i == j] \n",
    "accuracy = len(check)/len(tagged_seq)\n",
    "print(accuracy)"
   ]
  },
  {
   "cell_type": "code",
   "execution_count": 25,
   "metadata": {},
   "outputs": [
    {
     "name": "stdout",
     "output_type": "stream",
     "text": [
      "Android is a mobile operating system developed by Google.\n",
      "\n",
      "Android has been the best-selling OS worldwide on smartphones since 2011 and on tablets since 2013.\n",
      "\n",
      "Google and Twitter made a deal in 2015 that gave Google access to Twitter's firehose.\n",
      "\n",
      "Twitter is an online news and social networking service on which users post and interact with messages known as tweets.\n",
      "\n",
      "Before entering politics, Donald Trump was a domineering businessman and a television personality.\n",
      "\n",
      "The 2018 FIFA World Cup is the 21st FIFA World Cup, an international football tournament contested once every four years.\n",
      "\n",
      "This is the first World Cup to be held in Eastern Europe and the 11th time that it has been held in Europe.\n",
      "\n",
      "Show me the cheapest round trips from Dallas to Atlanta\n",
      "\n",
      "I would like to see flights from Denver to Philadelphia.\n",
      "\n",
      "Show me the price of the flights leaving Atlanta at about 3 in the afternoon and arriving in San Francisco.\n",
      "\n",
      "NASA invited social media users to experience the launch of ICESAT-2 Satellite.\n",
      "\n",
      "\n",
      "\n"
     ]
    }
   ],
   "source": [
    "#Read the text file\n",
    "lines=[]\n",
    "f = codecs.open(\"test_sentences.txt\", encoding='utf-8')\n",
    "for line in f:\n",
    "    print(line)\n",
    "    lines.append(line)"
   ]
  },
  {
   "cell_type": "code",
   "execution_count": null,
   "metadata": {},
   "outputs": [],
   "source": []
  },
  {
   "cell_type": "markdown",
   "metadata": {},
   "source": [
    "### Solve the problem of unknown words"
   ]
  },
  {
   "cell_type": "code",
   "execution_count": 26,
   "metadata": {},
   "outputs": [
    {
     "data": {
      "text/plain": [
       "['Android is a mobile operating system developed by Google.\\n',\n",
       " 'Android has been the best-selling OS worldwide on smartphones since 2011 and on tablets since 2013.\\n',\n",
       " \"Google and Twitter made a deal in 2015 that gave Google access to Twitter's firehose.\\n\",\n",
       " 'Twitter is an online news and social networking service on which users post and interact with messages known as tweets.\\n',\n",
       " 'Before entering politics, Donald Trump was a domineering businessman and a television personality.\\n',\n",
       " 'The 2018 FIFA World Cup is the 21st FIFA World Cup, an international football tournament contested once every four years.\\n',\n",
       " 'This is the first World Cup to be held in Eastern Europe and the 11th time that it has been held in Europe.\\n',\n",
       " 'Show me the cheapest round trips from Dallas to Atlanta\\n',\n",
       " 'I would like to see flights from Denver to Philadelphia.\\n',\n",
       " 'Show me the price of the flights leaving Atlanta at about 3 in the afternoon and arriving in San Francisco.\\n',\n",
       " 'NASA invited social media users to experience the launch of ICESAT-2 Satellite.\\n',\n",
       " '\\n']"
      ]
     },
     "execution_count": 26,
     "metadata": {},
     "output_type": "execute_result"
    }
   ],
   "source": [
    "lines\n"
   ]
  },
  {
   "cell_type": "code",
   "execution_count": 27,
   "metadata": {},
   "outputs": [
    {
     "data": {
      "text/plain": [
       "['Android is a mobile operating system developed by Google.',\n",
       " 'Android has been the best-selling OS worldwide on smartphones since 2011 and on tablets since 2013.',\n",
       " \"Google and Twitter made a deal in 2015 that gave Google access to Twitter's firehose.\",\n",
       " 'Twitter is an online news and social networking service on which users post and interact with messages known as tweets.',\n",
       " 'Before entering politics, Donald Trump was a domineering businessman and a television personality.',\n",
       " 'The 2018 FIFA World Cup is the 21st FIFA World Cup, an international football tournament contested once every four years.',\n",
       " 'This is the first World Cup to be held in Eastern Europe and the 11th time that it has been held in Europe.',\n",
       " 'Show me the cheapest round trips from Dallas to Atlanta',\n",
       " 'I would like to see flights from Denver to Philadelphia.',\n",
       " 'Show me the price of the flights leaving Atlanta at about 3 in the afternoon and arriving in San Francisco.',\n",
       " 'NASA invited social media users to experience the launch of ICESAT-2 Satellite.']"
      ]
     },
     "execution_count": 27,
     "metadata": {},
     "output_type": "execute_result"
    }
   ],
   "source": [
    "#Strip the special characters and empty strings in the list file\n",
    "test_lines =[sent.rstrip() for sent in lines if sent.rstrip()!='']\n",
    "test_lines"
   ]
  },
  {
   "cell_type": "code",
   "execution_count": 28,
   "metadata": {},
   "outputs": [
    {
     "data": {
      "text/plain": [
       "[[('John', 'NOUN'), (('Deere', 'ADP'), ('Deere', 'NOUN'))],\n",
       " [('for', 'ADP'), (('midsized', 'VERB'), ('midsized', 'ADJ'))],\n",
       " [(',', '.'), (('traced', 'ADP'), ('traced', 'VERB'))],\n",
       " [('another', 'DET'), (('wave', 'ADP'), ('wave', 'NOUN'))],\n",
       " [('its', 'PRON'), (('Eveready', 'ADP'), ('Eveready', 'NOUN'))],\n",
       " [('A', 'DET'), (('nickname', 'ADP'), ('nickname', 'NOUN'))],\n",
       " [('to', 'PRT'), (('glamorize', 'ADP'), ('glamorize', 'VERB'))],\n",
       " [(\"'s\", 'PRT'), (('vagabond', 'ADP'), ('vagabond', 'NOUN'))],\n",
       " [('vagabond', 'NOUN'), (('existence', 'ADP'), ('existence', 'NOUN'))],\n",
       " [('Parliament', 'NOUN'), (('authorized', 'ADP'), ('authorized', 'VERB'))],\n",
       " [('Minister', 'NOUN'), (('Miklos', 'ADP'), ('Miklos', 'NOUN'))],\n",
       " [('Miklos', 'NOUN'), (('Nemeth', 'ADP'), ('Nemeth', 'NOUN'))],\n",
       " [('was', 'VERB'), (('2,303,328', 'ADP'), ('2,303,328', 'NUM'))],\n",
       " [('down', 'ADV'), (('2.6', 'ADP'), ('2.6', 'NUM'))],\n",
       " [('an', 'DET'), (('eight-count', 'ADP'), ('eight-count', 'ADJ'))],\n",
       " [('eight-count', 'ADJ'), (('indictment', 'ADP'), ('indictment', 'NOUN'))],\n",
       " [('its', 'PRON'), (('Vice', 'ADP'), ('Vice', 'NOUN'))],\n",
       " [('T.', 'NOUN'), (('Sherwin', 'ADP'), ('Sherwin', 'NOUN'))],\n",
       " [('to', 'PRT'), (('manipulate', 'ADP'), ('manipulate', 'VERB'))],\n",
       " [('Union', 'NOUN'), (('Carbide', 'ADP'), ('Carbide', 'NOUN'))],\n",
       " [(\"'s\", 'PRT'), (('planned', 'VERB'), ('planned', 'ADJ'))],\n",
       " [('lobbyists', 'NOUN'), (('as', 'ADP'), ('as', 'ADV'))],\n",
       " [('emissions', 'NOUN'), (('that', 'ADP'), ('that', 'DET'))],\n",
       " [('$', '.'), (('737.5', 'ADP'), ('737.5', 'NUM'))],\n",
       " [('$', '.'), (('3.01', 'ADP'), ('3.01', 'NUM'))],\n",
       " [('be', 'VERB'), (('centralized', 'ADP'), ('centralized', 'VERB'))],\n",
       " [('an', 'DET'), (('ethanol', 'ADP'), ('ethanol', 'NOUN'))],\n",
       " [('to', 'PRT'), (('fuel', 'NOUN'), ('fuel', 'VERB'))],\n",
       " [('national', 'ADJ'), (('fleet', 'ADP'), ('fleet', 'NOUN'))],\n",
       " [('of', 'ADP'), (('Mount', 'ADP'), ('Mount', 'NOUN'))],\n",
       " [('Mount', 'NOUN'), (('Clemens', 'ADP'), ('Clemens', 'NOUN'))],\n",
       " [('-LRB-', '.'), (('NYSE', 'ADP'), ('NYSE', 'NOUN'))],\n",
       " [(';', '.'), (('Symbol', 'ADP'), ('Symbol', 'NOUN'))],\n",
       " [(':', '.'), (('CSV', 'ADP'), ('CSV', 'NOUN'))],\n",
       " [('-RRB-', '.'), (('Ketchum', 'ADP'), ('Ketchum', 'NOUN'))],\n",
       " [(',', '.'), (('Pittsburgh', 'ADP'), ('Pittsburgh', 'NOUN'))],\n",
       " [('acquired', 'VERB'), (('Braun', 'ADP'), ('Braun', 'NOUN'))],\n",
       " [('Angeles', 'NOUN'),\n",
       "  (('investor-relations', 'ADP'), ('investor-relations', 'NOUN'))],\n",
       " [('and', 'CONJ'),\n",
       "  (('marketing-communications', 'ADP'), ('marketing-communications', 'NOUN'))],\n",
       " [('police', 'NOUN'), (('escort', 'ADP'), ('escort', 'NOUN'))],\n",
       " [(',', '.'), (('busloads', 'ADP'), ('busloads', 'NOUN'))],\n",
       " [('their', 'PRON'), (('wives', 'ADP'), ('wives', 'NOUN'))],\n",
       " [('wives', 'NOUN'), (('raced', 'ADP'), ('raced', 'VERB'))],\n",
       " [('Motor', 'NOUN'), (('Speedway', 'ADP'), ('Speedway', 'NOUN'))],\n",
       " [('*-1', 'X'), (('unimpeded', 'ADP'), ('unimpeded', 'ADJ'))],\n",
       " [('by', 'ADP'), (('traffic', 'ADP'), ('traffic', 'NOUN'))],\n",
       " [('*', 'X'), (('labeling', 'ADP'), ('labeling', 'VERB'))],\n",
       " [('contract', 'NOUN'), (('reopened', 'ADP'), ('reopened', 'VERB'))],\n",
       " [('the', 'DET'), (('subsequent', 'ADP'), ('subsequent', 'ADJ'))],\n",
       " [('subsequent', 'ADJ'), (('flood', 'ADP'), ('flood', 'NOUN'))],\n",
       " [('orders', 'NOUN'), (('that', 'ADP'), ('that', 'DET'))],\n",
       " [('that', 'DET'), (('*T*-211', 'ADP'), ('*T*-211', 'X'))],\n",
       " [('quickly', 'ADV'), (('knocked', 'ADP'), ('knocked', 'VERB'))],\n",
       " [('contract', 'NOUN'), (('down', 'ADP'), ('down', 'PRT'))],\n",
       " [('the', 'DET'), (('intermediate', 'ADP'), ('intermediate', 'ADJ'))],\n",
       " [('needed', 'VERB'), (('*-128', 'ADP'), ('*-128', 'X'))],\n",
       " [('*-128', 'X'), (('*-128', 'ADP'), ('*-128', 'X'))],\n",
       " [('prices', 'NOUN'), (('synchronized', 'ADP'), ('synchronized', 'VERB'))],\n",
       " [('.', '.'), (('Proper', 'ADP'), ('Proper', 'ADJ'))],\n",
       " [('Proper', 'ADJ'), (('English', 'NOUN'), ('English', 'ADJ'))],\n",
       " [('``', '.'), (('rounds', 'ADP'), ('rounds', 'NOUN'))],\n",
       " [('the', 'DET'), (('highest-pitched', 'ADP'), ('highest-pitched', 'ADJ'))],\n",
       " [('simple', 'ADJ'), (('descending', 'ADP'), ('descending', 'VERB'))],\n",
       " [(',', '.'), (('as', 'ADP'), ('as', 'ADV'))],\n",
       " [('the', 'DET'), (('Soviet', 'ADJ'), ('Soviet', 'NOUN'))],\n",
       " [('the', 'DET'), (('verge', 'ADP'), ('verge', 'NOUN'))],\n",
       " [('most', 'ADV'), (('favored', 'VERB'), ('favored', 'ADJ'))],\n",
       " [('the', 'DET'), (('absolute', 'ADP'), ('absolute', 'ADJ'))],\n",
       " [('to', 'PRT'), (('disseminate', 'ADP'), ('disseminate', 'VERB'))],\n",
       " [('the', 'DET'), (('scholarly', 'ADP'), ('scholarly', 'ADJ'))],\n",
       " [('a', 'DET'), (('memo', 'ADP'), ('memo', 'NOUN'))],\n",
       " [('.', '.'), (('Federal', 'NOUN'), ('Federal', 'ADJ'))],\n",
       " [('$', '.'), (('89,500', 'ADP'), ('89,500', 'NUM'))],\n",
       " [('bill', 'NOUN'), (('that', 'ADP'), ('that', 'DET'))],\n",
       " [('their', 'PRON'), (('pay', 'VERB'), ('pay', 'NOUN'))],\n",
       " [('*-1', 'X'), (('Bucking', 'ADP'), ('Bucking', 'VERB'))],\n",
       " [('apparently', 'ADV'), (('drew', 'ADP'), ('drew', 'VERB'))],\n",
       " [('The', 'DET'), (('Chinese', 'ADJ'), ('Chinese', 'NOUN'))],\n",
       " [('equally', 'ADV'), (('undiplomatic', 'ADP'), ('undiplomatic', 'ADJ'))],\n",
       " [('undiplomatic', 'ADJ'), (('fashion', 'ADP'), ('fashion', 'NOUN'))],\n",
       " [('The', 'DET'), (('Soviet', 'ADJ'), ('Soviet', 'NOUN'))],\n",
       " [('crops', 'NOUN'), (('earlier', 'ADV'), ('earlier', 'ADJ'))],\n",
       " [('way', 'NOUN'), (('sky', 'ADP'), ('sky', 'NOUN'))],\n",
       " [('sky', 'NOUN'), (('high', 'ADJ'), ('high', 'ADV'))],\n",
       " [('%', 'NOUN'), (('boosts', 'VERB'), ('boosts', 'NOUN'))],\n",
       " [('--', '.'), (('complicated', 'ADJ'), ('complicated', 'ADP'))],\n",
       " [('.', '.'), (('New', 'NOUN'), ('New', 'ADJ'))],\n",
       " [('rules', 'NOUN'), (('force', 'NOUN'), ('force', 'VERB'))],\n",
       " [('write', 'VERB'), (('down', 'ADV'), ('down', 'PRT'))],\n",
       " [('500', 'NUM'), (('railcar', 'ADP'), ('railcar', 'NOUN'))],\n",
       " [('railcar', 'NOUN'), (('platforms', 'ADP'), ('platforms', 'NOUN'))],\n",
       " [('to', 'PRT'), (('Trailer', 'ADP'), ('Trailer', 'NOUN'))],\n",
       " [('Trailer', 'NOUN'), (('Train', 'ADP'), ('Train', 'NOUN'))],\n",
       " [('months', 'NOUN'), (('ago', 'ADP'), ('ago', 'ADV'))],\n",
       " [('come', 'VERB'), (('up', 'ADV'), ('up', 'PRT'))],\n",
       " [('the', 'DET'), (('resumption', 'ADP'), ('resumption', 'NOUN'))],\n",
       " [('space', 'NOUN'), (('shuttle', 'ADP'), ('shuttle', 'NOUN'))],\n",
       " [('for', 'ADP'), (('expendable', 'ADP'), ('expendable', 'ADJ'))],\n",
       " [('expendable', 'ADJ'),\n",
       "  (('launch-vehicle', 'ADP'), ('launch-vehicle', 'NOUN'))],\n",
       " [('launch-vehicle', 'NOUN'), (('engines', 'ADP'), ('engines', 'NOUN'))],\n",
       " [('.', '.'), (('Net', 'ADJ'), ('Net', 'NOUN'))],\n",
       " [('from', 'ADP'), (('12.82', 'ADP'), ('12.82', 'NUM'))],\n",
       " [('year', 'NOUN'), (('earlier', 'ADV'), ('earlier', 'ADJ'))],\n",
       " [('was', 'VERB'), (('such', 'ADJ'), ('such', 'DET'))],\n",
       " [('$', '.'), (('133.7', 'ADP'), ('133.7', 'NUM'))],\n",
       " [('$', '.'), (('94', 'ADP'), ('94', 'NUM'))],\n",
       " [('be', 'VERB'), (('delisted', 'ADP'), ('delisted', 'VERB'))],\n",
       " [('$', '.'), (('23.25', 'ADP'), ('23.25', 'NUM'))],\n",
       " [(',', '.'), (('off', 'ADP'), ('off', 'ADV'))],\n",
       " [('.', '.'), (('TREASURY', 'ADP'), ('TREASURY', 'NOUN'))],\n",
       " [('TREASURY', 'NOUN'), (('BILLS', 'ADP'), ('BILLS', 'NOUN'))],\n",
       " [(':', '.'), (('Results', 'ADP'), ('Results', 'NOUN'))],\n",
       " [(':', '.'), (('7.78', 'ADP'), ('7.78', 'NUM'))],\n",
       " [(';', '.'), (('7.62', 'ADP'), ('7.62', 'NUM'))],\n",
       " [('a', 'DET'), (('gigantic', 'ADP'), ('gigantic', 'ADJ'))],\n",
       " [('gigantic', 'ADJ'), (('crapshoot', 'ADP'), ('crapshoot', 'NOUN'))],\n",
       " [('year', 'NOUN'), (('earlier', 'ADV'), ('earlier', 'ADJ'))],\n",
       " [('law', 'NOUN'), (('that', 'ADP'), ('that', 'DET'))],\n",
       " [('who', 'PRON'), (('*T*-126', 'ADP'), ('*T*-126', 'X'))],\n",
       " [('*T*-126', 'X'), (('receives', 'ADP'), ('receives', 'VERB'))],\n",
       " [('a', 'DET'), (('document', 'ADP'), ('document', 'NOUN'))],\n",
       " [('document', 'NOUN'), (('known', 'ADJ'), ('known', 'VERB'))],\n",
       " [('as', 'ADP'), (('Form', 'ADP'), ('Form', 'NOUN'))],\n",
       " [('Form', 'NOUN'), (('8300', 'ADJ'), ('8300', 'NUM'))],\n",
       " [('That', 'DET'), (('builds', 'ADP'), ('builds', 'VERB'))],\n",
       " [(',', '.'), (('self', 'ADP'), ('self', 'NOUN'))],\n",
       " [('self', 'NOUN'), (('sufficiency', 'ADP'), ('sufficiency', 'NOUN'))],\n",
       " [('mention', 'VERB'), (('critical', 'ADP'), ('critical', 'ADJ'))],\n",
       " [('regulatory', 'ADJ'), (('net', 'ADJ'), ('net', 'NOUN'))],\n",
       " [(\"''\", '.'), (('Payouts', 'ADP'), ('Payouts', 'NOUN'))],\n",
       " [('.', '.'), (('Excision', 'ADP'), ('Excision', 'NOUN'))],\n",
       " [('appropriations', 'NOUN'), (('riders', 'ADP'), ('riders', 'NOUN'))],\n",
       " [('*T*-1', 'X'), (('trespass', 'ADP'), ('trespass', 'VERB'))],\n",
       " [('and', 'CONJ'), (('prerogative', 'ADP'), ('prerogative', 'NOUN'))],\n",
       " [('.', '.'), (('Demand', 'ADP'), ('Demand', 'NOUN'))],\n",
       " [('but', 'CONJ'), (('due', 'ADJ'), ('due', 'ADV'))],\n",
       " [(',', '.'), (('overseas', 'ADV'), ('overseas', 'ADJ'))],\n",
       " [('which', 'DET'), (('*T*-236', 'ADP'), ('*T*-236', 'X'))],\n",
       " [('systems', 'NOUN'), (('any', 'DET'), ('any', 'ADV'))],\n",
       " [('to', 'PRT'), (('audit', 'NOUN'), ('audit', 'VERB'))],\n",
       " [('and', 'CONJ'), (('refund', 'NOUN'), ('refund', 'VERB'))],\n",
       " [('the', 'DET'), (('inside', 'ADP'), ('inside', 'NOUN'))],\n",
       " [('the', 'DET'), (('outside', 'ADJ'), ('outside', 'NOUN'))],\n",
       " [(\"''\", '.'), (('Spending', 'ADP'), ('Spending', 'NOUN'))],\n",
       " [(',', '.'), (('nonresidential', 'ADP'), ('nonresidential', 'ADJ'))],\n",
       " [('was', 'VERB'), (('off', 'PRT'), ('off', 'ADJ'))],\n",
       " [('off', 'ADJ'), (('2.6', 'ADP'), ('2.6', 'NUM'))],\n",
       " [('$', '.'), (('99.1', 'ADP'), ('99.1', 'NUM'))],\n",
       " [('``', '.'), (('So', 'ADV'), ('So', 'ADP'))],\n",
       " [('other', 'ADJ'), (('fixed-income', 'ADP'), ('fixed-income', 'ADJ'))],\n",
       " [('was', 'VERB'), (('muted', 'ADP'), ('muted', 'VERB'))],\n",
       " [('the', 'DET'), (('observance', 'ADP'), ('observance', 'NOUN'))],\n",
       " [('of', 'ADP'), (('All', 'DET'), ('All', 'NOUN'))],\n",
       " [('All', 'NOUN'), (('Saints', 'ADP'), ('Saints', 'NOUN'))],\n",
       " [('Saints', 'NOUN'), ((\"'\", '.'), (\"'\", 'PRT'))],\n",
       " [(\"'\", 'PRT'), (('Day', 'ADP'), ('Day', 'NOUN'))],\n",
       " [('to', 'PRT'), (('oust', 'ADP'), ('oust', 'VERB'))],\n",
       " [('of', 'ADP'), (('Datapoint', 'ADP'), ('Datapoint', 'NOUN'))],\n",
       " [('Each', 'DET'), (('variation', 'ADP'), ('variation', 'NOUN'))],\n",
       " [('rules', 'NOUN'), (('state', 'NOUN'), ('state', 'VERB'))],\n",
       " [('$', '.'), (('240,000', 'ADP'), ('240,000', 'NUM'))],\n",
       " [('Poland', 'NOUN'), (('contrasts', 'ADP'), ('contrasts', 'VERB'))],\n",
       " [('the', 'DET'), (('underlying', 'ADJ'), ('underlying', 'VERB'))],\n",
       " [('already', 'ADV'), (('provoked', 'ADP'), ('provoked', 'VERB'))],\n",
       " [('Chairman', 'NOUN'), (('Asher', 'ADP'), ('Asher', 'NOUN'))],\n",
       " [('from', 'ADP'), (('16.2', 'ADP'), ('16.2', 'NUM'))],\n",
       " [('a', 'DET'), (('run', 'VERB'), ('run', 'NOUN'))],\n",
       " [('the', 'DET'),\n",
       "  (('computer-services', 'ADP'), ('computer-services', 'NOUN'))],\n",
       " [('the', 'DET'), (('busiest', 'ADP'), ('busiest', 'ADJ'))],\n",
       " [('so', 'ADV'), (('far', 'ADV'), ('far', 'ADJ'))],\n",
       " [('volume', 'NOUN'), (('averaged', 'ADP'), ('averaged', 'VERB'))],\n",
       " [('10', 'NUM'), (('citizen-sparked', 'ADP'), ('citizen-sparked', 'ADJ'))],\n",
       " [('state', 'NOUN'), (('ballots', 'ADP'), ('ballots', 'NOUN'))],\n",
       " [('any', 'DET'), (('odd-year', 'ADP'), ('odd-year', 'ADJ'))],\n",
       " [('be', 'VERB'), (('relaunched', 'ADP'), ('relaunched', 'VERB'))],\n",
       " [(',', '.'), (('as', 'ADP'), ('as', 'ADV'))],\n",
       " [('as', 'ADV'), (('early', 'ADJ'), ('early', 'ADV'))],\n",
       " [(',', '.'), (('most', 'ADV'), ('most', 'ADJ'))],\n",
       " [('the', 'DET'), (('building', 'NOUN'), ('building', 'VERB'))],\n",
       " [('building', 'VERB'), (('schemes', 'ADP'), ('schemes', 'NOUN'))],\n",
       " [('political', 'ADJ'), (('pharaohs', 'ADP'), ('pharaohs', 'NOUN'))],\n",
       " [('money', 'NOUN'), (('erect', 'ADP'), ('erect', 'VERB'))],\n",
       " [('these', 'DET'), (('playgrounds', 'ADP'), ('playgrounds', 'NOUN'))],\n",
       " [('public', 'ADJ'), (('passions', 'ADP'), ('passions', 'NOUN'))],\n",
       " [('to', 'PRT'), (('present', 'ADJ'), ('present', 'VERB'))],\n",
       " [('to', 'PRT'), (('appease', 'ADP'), ('appease', 'VERB'))],\n",
       " [('from', 'ADP'), (('high-polluting', 'ADP'), ('high-polluting', 'ADJ'))],\n",
       " [('on', 'ADP'), (('cost-sharing', 'ADJ'), ('cost-sharing', 'NOUN'))],\n",
       " [('Not', 'ADV'), (('counting', 'ADP'), ('counting', 'VERB'))],\n",
       " [('has', 'VERB'), (('much', 'ADV'), ('much', 'ADJ'))],\n",
       " [('$', '.'), (('126.1', 'ADP'), ('126.1', 'NUM'))],\n",
       " [(\"n't\", 'ADV'), (('endorse', 'ADP'), ('endorse', 'VERB'))],\n",
       " [('a', 'DET'), (('cosmetic', 'NOUN'), ('cosmetic', 'ADJ'))],\n",
       " [('S.', 'NOUN'), (('Gelles', 'ADP'), ('Gelles', 'NOUN'))],\n",
       " [('of', 'ADP'), (('Wertheim', 'ADP'), ('Wertheim', 'NOUN'))],\n",
       " [('Wertheim', 'NOUN'), (('Schroder', 'ADP'), ('Schroder', 'NOUN'))],\n",
       " [('two', 'NUM'), (('octogenarians', 'ADP'), ('octogenarians', 'NOUN'))],\n",
       " [('who', 'PRON'), (('*T*-222', 'ADP'), ('*T*-222', 'X'))],\n",
       " [('a', 'DET'),\n",
       "  (('sometimes-exhausting', 'ADP'), ('sometimes-exhausting', 'ADJ'))],\n",
       " [('bells', 'NOUN'), (('sounding', 'ADP'), ('sounding', 'VERB'))],\n",
       " [('many', 'ADJ'), (('belfries', 'ADP'), ('belfries', 'NOUN'))],\n",
       " [('East', 'NOUN'), (('Anglia', 'ADP'), ('Anglia', 'NOUN'))],\n",
       " [('dividend', 'NOUN'), (('yield', 'VERB'), ('yield', 'NOUN'))],\n",
       " [('level', 'NOUN'), (('that', 'ADP'), ('that', 'DET'))],\n",
       " [('that', 'DET'), (('*T*-232', 'ADP'), ('*T*-232', 'X'))],\n",
       " [('and', 'CONJ'), (('unenticing', 'ADP'), ('unenticing', 'ADJ'))],\n",
       " [('simply', 'ADV'), (('nullified', 'ADP'), ('nullified', 'VERB'))],\n",
       " [('an', 'DET'), (('opposite', 'ADP'), ('opposite', 'ADJ'))],\n",
       " [('to', 'PRT'), (('colder', 'ADP'), ('colder', 'ADJ'))],\n",
       " [('the', 'DET'), (('American', 'ADJ'), ('American', 'NOUN'))],\n",
       " [('to', 'PRT'), (('planting', 'ADP'), ('planting', 'NOUN'))],\n",
       " [('of', 'ADP'), (('orange', 'ADP'), ('orange', 'ADJ'))],\n",
       " [('orange', 'ADJ'), (('trees', 'ADP'), ('trees', 'NOUN'))],\n",
       " [('areas', 'NOUN'), (('that', 'ADP'), ('that', 'DET'))],\n",
       " [('for', 'ADP'), (('cane', 'ADP'), ('cane', 'NOUN'))],\n",
       " [('expected', 'VERB'), (('*-129', 'ADP'), ('*-129', 'X'))],\n",
       " [('the', 'DET'), (('key', 'ADJ'), ('key', 'NOUN'))],\n",
       " [('must', 'VERB'), (('fundamentally', 'ADP'), ('fundamentally', 'ADV'))],\n",
       " [('fundamentally', 'ADV'), (('increase', 'NOUN'), ('increase', 'VERB'))],\n",
       " [('or', 'CONJ'), (('decrease', 'NOUN'), ('decrease', 'VERB'))],\n",
       " [('prices', 'NOUN'), (('move', 'NOUN'), ('move', 'VERB'))],\n",
       " [('Italy', 'NOUN'), (('there', 'DET'), ('there', 'ADV'))],\n",
       " [('is', 'VERB'), (('Angelo', 'ADP'), ('Angelo', 'NOUN'))],\n",
       " [('Angelo', 'NOUN'), (('Gaja', 'ADP'), ('Gaja', 'NOUN'))],\n",
       " [('Gaja', 'NOUN'), (('Barbaresco', 'ADP'), ('Barbaresco', 'NOUN'))],\n",
       " [(',', '.'), (('Piero', 'ADP'), ('Piero', 'NOUN'))],\n",
       " [('Piero', 'NOUN'), (('Antinori', 'ADP'), ('Antinori', 'NOUN'))],\n",
       " [('La', 'NOUN'), (('Solaia', 'ADP'), ('Solaia', 'NOUN'))],\n",
       " [('The', 'DET'), (('most', 'ADJ'), ('most', 'ADV'))],\n",
       " [('&', 'CONJ'), (('poor', 'ADJ'), ('poor', 'NOUN'))],\n",
       " [('a', 'DET'), (('20-stock', 'ADP'), ('20-stock', 'ADJ'))],\n",
       " [('index', 'NOUN'), (('that', 'ADP'), ('that', 'DET'))],\n",
       " [('*T*-1', 'X'), (('mimics', 'ADP'), ('mimics', 'VERB'))],\n",
       " [('the', 'DET'), (('chicago', 'ADP'), ('chicago', 'NOUN'))],\n",
       " [(\"'\", 'PRT'), (('report', 'VERB'), ('report', 'NOUN'))],\n",
       " [('by', 'ADP'), (('more', 'ADJ'), ('more', 'ADV'))],\n",
       " [('The', 'DET'), (('British', 'ADJ'), ('British', 'NOUN'))],\n",
       " [('.', '.'), (('Legislation', 'ADP'), ('Legislation', 'NOUN'))],\n",
       " [('is', 'VERB'), (('ensnarled', 'ADP'), ('ensnarled', 'VERB'))],\n",
       " [('cutting', 'VERB'), (('capital-gains', 'NOUN'), ('capital-gains', 'ADJ'))],\n",
       " [(\"'s\", 'PRT'), (('909', 'ADP'), ('909', 'NUM'))],\n",
       " [('covers', 'VERB'), (('only', 'ADV'), ('only', 'ADJ'))],\n",
       " [('who', 'PRON'), (('*T*-260', 'ADP'), ('*T*-260', 'X'))],\n",
       " [('will', 'VERB'), (('learn', 'ADP'), ('learn', 'VERB'))],\n",
       " [('learn', 'VERB'), (('more', 'ADJ'), ('more', 'ADV'))],\n",
       " [('*-1', 'X'), (('Starting', 'ADP'), ('Starting', 'VERB'))],\n",
       " [('with', 'ADP'), (('Congressman', 'ADP'), ('Congressman', 'NOUN'))],\n",
       " [('Congressman', 'NOUN'), (('Mario', 'ADP'), ('Mario', 'NOUN'))],\n",
       " [('Mario', 'NOUN'), (('Biaggi', 'ADP'), ('Biaggi', 'NOUN'))],\n",
       " [('jail', 'NOUN'), (('sentence', 'ADP'), ('sentence', 'NOUN'))],\n",
       " [('*', 'X'), (('bribing', 'ADP'), ('bribing', 'VERB'))],\n",
       " [('local', 'ADJ'), (('public', 'NOUN'), ('public', 'ADJ'))],\n",
       " [('those', 'DET'), (('close', 'NOUN'), ('close', 'ADJ'))],\n",
       " [(',', '.'), (('right', 'NOUN'), ('right', 'ADV'))],\n",
       " [('right', 'ADV'), (('up', 'PRT'), ('up', 'ADP'))],\n",
       " [('Robert', 'NOUN'), (('Wallach', 'ADP'), ('Wallach', 'NOUN'))],\n",
       " [(',', '.'), (('close', 'NOUN'), ('close', 'ADJ'))],\n",
       " [('former', 'ADJ'), (('Attorney', 'ADP'), ('Attorney', 'NOUN'))],\n",
       " [('Ed', 'NOUN'), (('Meese', 'ADP'), ('Meese', 'NOUN'))],\n",
       " [('While', 'ADP'), (('worry', 'VERB'), ('worry', 'NOUN'))],\n",
       " [('for', 'ADP'), (('alleged', 'ADJ'), ('alleged', 'VERB'))],\n",
       " [('John', 'NOUN'), (('Morrell', 'ADP'), ('Morrell', 'NOUN'))],\n",
       " [('a', 'DET'), (('meatpacking', 'ADP'), ('meatpacking', 'NOUN'))],\n",
       " [('United', 'NOUN'), (('Brands', 'ADP'), ('Brands', 'NOUN'))],\n",
       " [('took', 'VERB'), (('over', 'ADP'), ('over', 'PRT'))],\n",
       " [(\"'s\", 'PRT'), (('seventh', 'ADP'), ('seventh', 'ADJ'))],\n",
       " [('to', 'PRT'), (('counteract', 'ADP'), ('counteract', 'VERB'))],\n",
       " [('also', 'ADV'), (('notched', 'ADP'), ('notched', 'VERB'))],\n",
       " [('market-makers', 'NOUN'), (('searched', 'ADP'), ('searched', 'VERB'))],\n",
       " [('defensive', 'ADJ'), (('qualities', 'ADP'), ('qualities', 'NOUN'))],\n",
       " [(',', '.'), (('petroleum', 'ADP'), ('petroleum', 'NOUN'))],\n",
       " [('The', 'DET'), (('Contra', 'ADP'), ('Contra', 'NOUN'))],\n",
       " [('military', 'ADJ'), (('command', 'VERB'), ('command', 'NOUN'))],\n",
       " [('from', 'ADP'), (('Honduras', 'ADP'), ('Honduras', 'NOUN'))],\n",
       " [('0', 'X'), (('Sandinista', 'ADP'), ('Sandinista', 'NOUN'))],\n",
       " [('major', 'ADJ'), (('offensive', 'ADP'), ('offensive', 'NOUN'))],\n",
       " [('the', 'DET'), (('rebel', 'ADP'), ('rebel', 'NOUN'))],\n",
       " [('to', 'PRT'), (('phase', 'ADP'), ('phase', 'VERB'))],\n",
       " [('phase', 'VERB'), (('out', 'ADP'), ('out', 'PRT'))],\n",
       " [('make', 'VERB'), (('appropriate', 'ADP'), ('appropriate', 'ADJ'))],\n",
       " [('Mr.', 'NOUN'), (('Nemeth', 'ADP'), ('Nemeth', 'NOUN'))],\n",
       " [('the', 'DET'), (('twin', 'ADP'), ('twin', 'NOUN'))],\n",
       " [('twin', 'NOUN'), (('dams', 'ADP'), ('dams', 'NOUN'))],\n",
       " [('.', '.'), (('Customers', 'ADP'), ('Customers', 'NOUN'))],\n",
       " [('Customers', 'NOUN'), (('holding', 'NOUN'), ('holding', 'VERB'))],\n",
       " [(\"'s\", 'PRT'), (('undelivered', 'ADP'), ('undelivered', 'ADJ'))],\n",
       " [('subscribe', 'VERB'), (('most', 'ADV'), ('most', 'ADJ'))],\n",
       " [('remaining', 'VERB'), (('170', 'ADP'), ('170', 'NUM'))],\n",
       " [('will', 'VERB'), (('personally', 'ADP'), ('personally', 'ADV'))],\n",
       " [('personally', 'ADV'), (('direct', 'ADJ'), ('direct', 'VERB'))],\n",
       " [('*-1', 'X'), (('assisted', 'ADP'), ('assisted', 'VERB'))],\n",
       " [('by', 'ADP'), (('Manfred', 'ADP'), ('Manfred', 'NOUN'))],\n",
       " [('Manfred', 'NOUN'), (('Gingl', 'ADP'), ('Gingl', 'NOUN'))],\n",
       " [('and', 'CONJ'), (('Taittinger', 'ADP'), ('Taittinger', 'NOUN'))],\n",
       " [(\"'s\", 'PRT'), (('Comtes', 'ADP'), ('Comtes', 'NOUN'))],\n",
       " [('Comtes', 'NOUN'), (('de', 'X'), ('de', 'ADP'))],\n",
       " [('is', 'VERB'), (('encroaching', 'ADP'), ('encroaching', 'VERB'))],\n",
       " [('see', 'VERB'), (('more', 'ADV'), ('more', 'ADJ'))],\n",
       " [('*T*-2', 'X'), (('Andrea', 'ADP'), ('Andrea', 'NOUN'))],\n",
       " [('of', 'ADP'), (('American', 'ADJ'), ('American', 'NOUN'))],\n",
       " [('software', 'NOUN'), (('tutorials', 'ADP'), ('tutorials', 'NOUN'))],\n",
       " [('$', '.'), (('46.1', 'ADP'), ('46.1', 'NUM'))],\n",
       " [('$', '.'), (('1.85', 'ADP'), ('1.85', 'NUM'))],\n",
       " [('$', '.'), (('1.85', 'ADP'), ('1.85', 'NUM'))],\n",
       " [(\"'s\", 'PRT'), (('swelling', 'ADP'), ('swelling', 'VERB'))],\n",
       " [('and', 'CONJ'), (('that', 'DET'), ('that', 'ADP'))],\n",
       " [('fellow', 'ADJ'), (('Texan', 'ADP'), ('Texan', 'NOUN'))],\n",
       " [('Sen.', 'NOUN'), (('Lloyd', 'ADP'), ('Lloyd', 'NOUN'))],\n",
       " [('Lloyd', 'NOUN'), (('Bentsen', 'ADP'), ('Bentsen', 'NOUN'))],\n",
       " [('to', 'PRT'), (('highlight', 'ADP'), ('highlight', 'VERB'))],\n",
       " [('who', 'PRON'), (('*T*-185', 'ADP'), ('*T*-185', 'X'))],\n",
       " [('``', '.'), (('oversight', 'ADP'), ('oversight', 'NOUN'))],\n",
       " [(',', '.'), (('tight', 'ADV'), ('tight', 'ADJ'))],\n",
       " [('tight', 'ADJ'), (('facial', 'ADP'), ('facial', 'ADJ'))],\n",
       " [('*-37', 'X'), (('out', 'PRT'), ('out', 'ADP'))],\n",
       " [('power', 'NOUN'), (('that', 'ADP'), ('that', 'DET'))],\n",
       " [('to', 'PRT'), (('wield', 'ADP'), ('wield', 'VERB'))],\n",
       " [('sizable', 'ADJ'), (('West', 'NOUN'), ('West', 'ADJ'))],\n",
       " [('West', 'ADJ'), (('German', 'NOUN'), ('German', 'ADJ'))],\n",
       " [('German', 'ADJ'), (('refinery', 'ADP'), ('refinery', 'NOUN'))],\n",
       " [('*', 'X'), (('tightening', 'ADP'), ('tightening', 'VERB'))],\n",
       " [('divisions', 'NOUN'), (('that', 'ADP'), ('that', 'DET'))],\n",
       " [(\"n't\", 'ADV'), (('wish', 'VERB'), ('wish', 'NOUN'))],\n",
       " [('owns', 'VERB'), (('about', 'ADP'), ('about', 'ADV'))],\n",
       " [(',', '.'), (('most', 'ADV'), ('most', 'ADJ'))],\n",
       " [('at', 'ADP'), (('nominal', 'ADP'), ('nominal', 'ADJ'))],\n",
       " [('to', 'PRT'), (('gain', 'NOUN'), ('gain', 'VERB'))],\n",
       " [('sold', 'VERB'), (('*-115', 'ADP'), ('*-115', 'X'))],\n",
       " [('.', '.'), (('Dick', 'ADP'), ('Dick', 'NOUN'))],\n",
       " [('Dick', 'NOUN'), (('Lobo', 'ADP'), ('Lobo', 'NOUN'))],\n",
       " [('of', 'ADP'), (('WTVJ', 'ADP'), ('WTVJ', 'NOUN'))],\n",
       " [('the', 'DET'), (('NBC-owned', 'ADP'), ('NBC-owned', 'ADJ'))],\n",
       " [('add', 'VERB'), (('two-sevenths', 'ADP'), ('two-sevenths', 'NOUN'))],\n",
       " [('and', 'CONJ'), (('three-sevenths', 'ADP'), ('three-sevenths', 'NOUN'))],\n",
       " [('at', 'ADP'), (('60.36', 'ADP'), ('60.36', 'NUM'))],\n",
       " [('.', '.'), (('Showa', 'ADP'), ('Showa', 'NOUN'))],\n",
       " [('Showa', 'NOUN'), (('Shell', 'ADP'), ('Shell', 'NOUN'))],\n",
       " [('to', 'PRT'), (('1,570', 'ADP'), ('1,570', 'NUM'))],\n",
       " [(\"'s\", 'PRT'), (('Pittsburgh', 'ADP'), ('Pittsburgh', 'NOUN'))],\n",
       " [(',', '.'), (('Advanced', 'ADP'), ('Advanced', 'NOUN'))],\n",
       " [(',', '.'), (('executes', 'ADP'), ('executes', 'VERB'))],\n",
       " [('not', 'ADV'), (('unethical', 'ADP'), ('unethical', 'ADJ'))],\n",
       " [('a', 'DET'), (('higher-salaried', 'ADP'), ('higher-salaried', 'ADJ'))],\n",
       " [('an', 'DET'), (('affordable', 'ADP'), ('affordable', 'ADJ'))],\n",
       " [('$', '.'), (('1,298', 'ADP'), ('1,298', 'NUM'))],\n",
       " [('A', 'DET'), (('shift', 'ADP'), ('shift', 'NOUN'))],\n",
       " [('producing', 'VERB'), (('more', 'ADV'), ('more', 'ADJ'))],\n",
       " [('a', 'DET'), (('more', 'ADJ'), ('more', 'ADV'))],\n",
       " [('more', 'ADV'), (('drastic', 'ADP'), ('drastic', 'ADJ'))],\n",
       " [('drastic', 'ADJ'), (('shift', 'ADP'), ('shift', 'NOUN'))],\n",
       " [(\"'s\", 'PRT'), (('Beige', 'ADP'), ('Beige', 'NOUN'))],\n",
       " [('Beige', 'NOUN'), (('Book', 'ADP'), ('Book', 'NOUN'))],\n",
       " [('gave', 'VERB'), (('up', 'ADV'), ('up', 'PRT'))],\n",
       " [('The', 'DET'), (('downgrading', 'ADP'), ('downgrading', 'NOUN'))],\n",
       " [('sent', 'VERB'), (('shivers', 'ADP'), ('shivers', 'NOUN'))],\n",
       " [('0', 'X'), (('export', 'VERB'), ('export', 'NOUN'))],\n",
       " [('month', 'NOUN'), (('before', 'ADP'), ('before', 'ADV'))],\n",
       " [('for', 'ADP'), (('witches', 'ADP'), ('witches', 'NOUN'))],\n",
       " [('convenient', 'ADJ'), (('boogieman', 'ADP'), ('boogieman', 'NOUN'))],\n",
       " [('of', 'ADP'), (('Advanced', 'ADP'), ('Advanced', 'NOUN'))],\n",
       " [('a', 'DET'), (('Pittsburgh', 'ADP'), ('Pittsburgh', 'NOUN'))],\n",
       " [('firm', 'NOUN'), (('that', 'ADP'), ('that', 'DET'))],\n",
       " [('*U*', 'X'), (('fund', 'VERB'), ('fund', 'NOUN'))],\n",
       " [('fund', 'NOUN'), (('that', 'ADP'), ('that', 'DET'))],\n",
       " [('This', 'DET'), (('species', 'ADP'), ('species', 'NOUN'))],\n",
       " [('is', 'VERB'), (('predicated', 'ADP'), ('predicated', 'VERB'))],\n",
       " [('clause', 'NOUN'), (('that', 'ADP'), ('that', 'DET'))],\n",
       " [('is', 'VERB'), (('erroneous', 'ADP'), ('erroneous', 'ADJ'))],\n",
       " [('what', 'PRON'), (('*T*-252', 'ADP'), ('*T*-252', 'X'))],\n",
       " [('*-1', 'X'), (('complaining', 'ADP'), ('complaining', 'VERB'))],\n",
       " [('ended', 'VERB'), (('up', 'ADV'), ('up', 'PRT'))],\n",
       " [('among', 'ADP'), (('American', 'ADJ'), ('American', 'NOUN'))],\n",
       " [('an', 'DET'), (('American', 'ADJ'), ('American', 'NOUN'))],\n",
       " [('and', 'CONJ'), (('that', 'DET'), ('that', 'ADP'))],\n",
       " [('of', 'ADP'), (('Clarence', 'ADP'), ('Clarence', 'NOUN'))],\n",
       " [('the', 'DET'), (('American', 'ADJ'), ('American', 'NOUN'))],\n",
       " [('American', 'NOUN'), (('Bar', 'ADP'), ('Bar', 'NOUN'))],\n",
       " [('``', '.'), (('qualified', 'VERB'), ('qualified', 'ADJ'))],\n",
       " [('Cooper', 'NOUN'), (('Tire', 'ADP'), ('Tire', 'NOUN'))],\n",
       " [('Tire', 'NOUN'), (('&', 'CONJ'), ('&', 'X'))],\n",
       " [('&', 'X'), (('Rubber', 'ADP'), ('Rubber', 'NOUN'))],\n",
       " [('and', 'CONJ'), (('related', 'VERB'), ('related', 'ADJ'))],\n",
       " [('in', 'ADP'), (('Albany', 'ADP'), ('Albany', 'NOUN'))],\n",
       " [('.', '.'), (('Packaging', 'ADP'), ('Packaging', 'NOUN'))],\n",
       " [('some', 'DET'), (('drawbacks', 'ADP'), ('drawbacks', 'NOUN'))],\n",
       " [('``', '.'), (('deplorable', 'ADP'), ('deplorable', 'ADJ'))],\n",
       " [('but', 'CONJ'), (('brushed', 'ADP'), ('brushed', 'VERB'))],\n",
       " [('brushed', 'VERB'), (('off', 'ADP'), ('off', 'PRT'))],\n",
       " [('*', 'X'), (('renewing', 'ADP'), ('renewing', 'VERB'))],\n",
       " [('the', 'DET'), (('insurgents', 'ADP'), ('insurgents', 'NOUN'))],\n",
       " [('What', 'PRON'), (('*T*-164', 'ADP'), ('*T*-164', 'X'))],\n",
       " [('*T*-164', 'X'), ((\"'s\", 'PRT'), (\"'s\", 'VERB'))],\n",
       " [('is', 'VERB'), (('happening', 'ADP'), ('happening', 'VERB'))],\n",
       " [('the', 'DET'), (('public', 'ADJ'), ('public', 'NOUN'))],\n",
       " [('.', '.'), (('Net', 'ADJ'), ('Net', 'NOUN'))],\n",
       " [('Net', 'NOUN'), (('advanced', 'ADJ'), ('advanced', 'VERB'))],\n",
       " [('$', '.'), (('94.2', 'ADP'), ('94.2', 'NUM'))],\n",
       " [('or', 'CONJ'), (('83', 'ADP'), ('83', 'NUM'))],\n",
       " [('including', 'VERB'), (('net', 'ADJ'), ('net', 'NOUN'))],\n",
       " [('PC', 'NOUN'), (('contributors', 'ADP'), ('contributors', 'NOUN'))],\n",
       " [('*EXP*-1', 'X'), ((\"'s\", 'PRT'), (\"'s\", 'VERB'))],\n",
       " [('a', 'DET'), (('17-year-old', 'ADP'), ('17-year-old', 'ADJ'))],\n",
       " [(\"'s\", 'PRT'), (('hot', 'ADP'), ('hot', 'ADJ'))],\n",
       " [('--', '.'), (('and', 'CONJ'), ('and', 'NOUN'))],\n",
       " [('what', 'PRON'), (('*T*-172', 'ADP'), ('*T*-172', 'X'))],\n",
       " [('*T*-172', 'X'), ((\"'s\", 'PRT'), (\"'s\", 'VERB'))],\n",
       " [('very', 'ADV'), (('hot', 'ADP'), ('hot', 'ADJ'))],\n",
       " [('to', 'PRT'), (('halve', 'ADP'), ('halve', 'VERB'))],\n",
       " [('the', 'DET'), (('third-highest', 'ADP'), ('third-highest', 'ADJ'))],\n",
       " [('``', '.'), (('Professional', 'NOUN'), ('Professional', 'ADJ'))],\n",
       " [('get', 'VERB'), (('enough', 'ADV'), ('enough', 'ADJ'))],\n",
       " [('morphogenetic', 'ADJ'), (('protein-1', 'ADP'), ('protein-1', 'NOUN'))],\n",
       " [('substance', 'NOUN'), (('that', 'ADP'), ('that', 'DET'))],\n",
       " [('can', 'VERB'), (('induce', 'ADP'), ('induce', 'VERB'))],\n",
       " [('induce', 'VERB'), (('formation', 'ADP'), ('formation', 'NOUN'))],\n",
       " [('the', 'DET'), (('most', 'ADJ'), ('most', 'ADV'))],\n",
       " [('*', 'X'), (('abolishing', 'ADP'), ('abolishing', 'VERB'))],\n",
       " [('its', 'PRON'), (('merits', 'ADP'), ('merits', 'NOUN'))],\n",
       " [('firms', 'NOUN'), (('championing', 'ADP'), ('championing', 'VERB'))],\n",
       " [('battle', 'NOUN'), (('opens', 'ADP'), ('opens', 'VERB'))],\n",
       " [('opens', 'VERB'), (('up', 'ADV'), ('up', 'PRT'))],\n",
       " [('0', 'X'), (('that', 'ADP'), ('that', 'DET'))],\n",
       " [('.', '.'), (('Third', 'ADP'), ('Third', 'ADJ'))],\n",
       " [('$', '.'), (('11.57', 'ADP'), ('11.57', 'NUM'))],\n",
       " [('share', 'NOUN'), (('vs.', 'ADP'), ('vs.', 'CONJ'))],\n",
       " [('vs.', 'CONJ'), (('net', 'ADJ'), ('net', 'NOUN'))],\n",
       " [('Old', 'NOUN'), (('Spaghetti', 'ADP'), ('Spaghetti', 'NOUN'))],\n",
       " [('Spaghetti', 'NOUN'), (('Warehouse', 'ADP'), ('Warehouse', 'NOUN'))],\n",
       " [(\"'s\", 'PRT'), (('editions', 'ADP'), ('editions', 'NOUN'))],\n",
       " [('.', '.'), (('Editorials', 'ADP'), ('Editorials', 'NOUN'))],\n",
       " [('being', 'VERB'), (('overused', 'ADP'), ('overused', 'VERB'))],\n",
       " [('additional', 'ADJ'), (('disruption', 'ADP'), ('disruption', 'NOUN'))],\n",
       " [('our', 'PRON'), (('borrowing', 'VERB'), ('borrowing', 'NOUN'))],\n",
       " [('borrowing', 'NOUN'), (('schedule', 'ADP'), ('schedule', 'NOUN'))],\n",
       " [('the', 'DET'), (('taxpayer', 'ADP'), ('taxpayer', 'NOUN'))],\n",
       " [('Secretary', 'NOUN'), (('Nicholas', 'ADP'), ('Nicholas', 'NOUN'))],\n",
       " [('Nicholas', 'NOUN'), (('Brady', 'ADP'), ('Brady', 'NOUN'))],\n",
       " [('paltry', 'ADJ'), (('sum', 'ADP'), ('sum', 'NOUN'))],\n",
       " [('kids', 'NOUN'), (('broke', 'ADP'), ('broke', 'VERB'))],\n",
       " [('her', 'PRON'), (('correcting', 'ADP'), ('correcting', 'VERB'))],\n",
       " [('correcting', 'VERB'), (('homework', 'ADP'), ('homework', 'NOUN'))],\n",
       " [(',', '.'), (('Fortune', 'ADP'), ('Fortune', 'NOUN'))],\n",
       " [('executives', 'NOUN'), (('drooled', 'ADP'), ('drooled', 'VERB'))],\n",
       " [('like', 'ADP'), (('schoolboys', 'ADP'), ('schoolboys', 'NOUN'))],\n",
       " [('will', 'VERB'), (('exchange', 'NOUN'), ('exchange', 'VERB'))],\n",
       " [('new', 'ADJ'), (('preferred', 'ADJ'), ('preferred', 'VERB'))],\n",
       " [('already', 'ADV'), (('own', 'ADJ'), ('own', 'VERB'))],\n",
       " [('its', 'PRON'), (('liabilities', 'ADP'), ('liabilities', 'NOUN'))],\n",
       " [('.', '.'), (('Second', 'NOUN'), ('Second', 'ADJ'))],\n",
       " [('they', 'PRON'), (('channel', 'ADP'), ('channel', 'VERB'))],\n",
       " [('settled', 'VERB'), (('pre-1917', 'ADP'), ('pre-1917', 'ADJ'))],\n",
       " [(\"'s\", 'PRT'), (('face', 'VERB'), ('face', 'NOUN'))],\n",
       " [('state-owned', 'ADJ'), (('holding', 'NOUN'), ('holding', 'VERB'))],\n",
       " [('crystal', 'NOUN'), (('changes', 'NOUN'), ('changes', 'VERB'))],\n",
       " [('apparently', 'ADV'), (('pins', 'NOUN'), ('pins', 'VERB'))],\n",
       " [('.', '.'), (('Overall', 'ADP'), ('Overall', 'ADJ'))],\n",
       " [(',', '.'), (('pretax', 'NOUN'), ('pretax', 'ADJ'))],\n",
       " [('$', '.'), (('107.9', 'ADP'), ('107.9', 'NUM'))],\n",
       " [('$', '.'), (('96.4', 'ADP'), ('96.4', 'NUM'))],\n",
       " [('The', 'DET'), (('American', 'ADJ'), ('American', 'NOUN'))],\n",
       " [('American', 'NOUN'), (('Bar', 'ADP'), ('Bar', 'NOUN'))],\n",
       " [('of', 'ADP'), (('Delegates', 'ADP'), ('Delegates', 'NOUN'))],\n",
       " [('1985', 'NUM'), (('condemning', 'ADP'), ('condemning', 'VERB'))],\n",
       " [('IRS', 'NOUN'), (('reporting', 'VERB'), ('reporting', 'NOUN'))],\n",
       " [('with', 'ADP'), (('top-level', 'ADP'), ('top-level', 'ADJ'))]]"
      ]
     },
     "execution_count": 28,
     "metadata": {},
     "output_type": "execute_result"
    }
   ],
   "source": [
    "\n",
    "#Get the words in the test set which are incorrectly classified\n",
    "incorrect_tagged_cases = [[test_run_base[i-1],j] for i, j in enumerate(zip(tagged_seq, test_run_base)) if j[0]!=j[1]]\n",
    "incorrect_tagged_cases"
   ]
  },
  {
   "cell_type": "code",
   "execution_count": 29,
   "metadata": {},
   "outputs": [
    {
     "data": {
      "text/plain": [
       "[('Android', 'ADP'),\n",
       " ('is', 'VERB'),\n",
       " ('a', 'DET'),\n",
       " ('mobile', 'ADJ'),\n",
       " ('operating', 'NOUN'),\n",
       " ('system', 'NOUN'),\n",
       " ('developed', 'VERB'),\n",
       " ('by', 'ADP'),\n",
       " ('Google', 'ADP'),\n",
       " ('.', '.'),\n",
       " ('Android', 'ADP'),\n",
       " ('has', 'VERB'),\n",
       " ('been', 'VERB'),\n",
       " ('the', 'DET'),\n",
       " ('best-selling', 'ADJ'),\n",
       " ('OS', 'ADP'),\n",
       " ('worldwide', 'ADP'),\n",
       " ('on', 'ADP'),\n",
       " ('smartphones', 'ADP'),\n",
       " ('since', 'ADP'),\n",
       " ('2011', 'ADP'),\n",
       " ('and', 'CONJ'),\n",
       " ('on', 'ADP'),\n",
       " ('tablets', 'NOUN'),\n",
       " ('since', 'ADP'),\n",
       " ('2013', 'ADP'),\n",
       " ('.', '.'),\n",
       " ('Google', 'ADP'),\n",
       " ('and', 'CONJ'),\n",
       " ('Twitter', 'ADP'),\n",
       " ('made', 'VERB'),\n",
       " ('a', 'DET'),\n",
       " ('deal', 'NOUN'),\n",
       " ('in', 'ADP'),\n",
       " ('2015', 'ADP'),\n",
       " ('that', 'DET'),\n",
       " ('gave', 'VERB'),\n",
       " ('Google', 'ADP'),\n",
       " ('access', 'NOUN'),\n",
       " ('to', 'PRT'),\n",
       " ('Twitter', 'ADP'),\n",
       " (\"'s\", 'PRT'),\n",
       " ('firehose', 'ADP'),\n",
       " ('.', '.'),\n",
       " ('Twitter', 'ADP'),\n",
       " ('is', 'VERB'),\n",
       " ('an', 'DET'),\n",
       " ('online', 'ADP'),\n",
       " ('news', 'NOUN'),\n",
       " ('and', 'CONJ'),\n",
       " ('social', 'ADJ'),\n",
       " ('networking', 'NOUN'),\n",
       " ('service', 'NOUN'),\n",
       " ('on', 'ADP'),\n",
       " ('which', 'DET'),\n",
       " ('users', 'NOUN'),\n",
       " ('post', 'NOUN'),\n",
       " ('and', 'CONJ'),\n",
       " ('interact', 'ADP'),\n",
       " ('with', 'ADP'),\n",
       " ('messages', 'ADP'),\n",
       " ('known', 'ADJ'),\n",
       " ('as', 'ADP'),\n",
       " ('tweets', 'ADP'),\n",
       " ('.', '.'),\n",
       " ('Before', 'ADP'),\n",
       " ('entering', 'VERB'),\n",
       " ('politics', 'NOUN'),\n",
       " (',', '.'),\n",
       " ('Donald', 'NOUN'),\n",
       " ('Trump', 'NOUN'),\n",
       " ('was', 'VERB'),\n",
       " ('a', 'DET'),\n",
       " ('domineering', 'ADP'),\n",
       " ('businessman', 'NOUN'),\n",
       " ('and', 'CONJ'),\n",
       " ('a', 'DET'),\n",
       " ('television', 'NOUN'),\n",
       " ('personality', 'ADP'),\n",
       " ('.', '.'),\n",
       " ('The', 'DET'),\n",
       " ('2018', 'ADP'),\n",
       " ('FIFA', 'ADP'),\n",
       " ('World', 'NOUN'),\n",
       " ('Cup', 'ADP'),\n",
       " ('is', 'VERB'),\n",
       " ('the', 'DET'),\n",
       " ('21st', 'ADP'),\n",
       " ('FIFA', 'ADP'),\n",
       " ('World', 'NOUN'),\n",
       " ('Cup', 'ADP'),\n",
       " (',', '.'),\n",
       " ('an', 'DET'),\n",
       " ('international', 'ADJ'),\n",
       " ('football', 'NOUN'),\n",
       " ('tournament', 'ADP'),\n",
       " ('contested', 'ADP'),\n",
       " ('once', 'ADV'),\n",
       " ('every', 'DET'),\n",
       " ('four', 'NUM'),\n",
       " ('years', 'NOUN'),\n",
       " ('.', '.'),\n",
       " ('This', 'DET'),\n",
       " ('is', 'VERB'),\n",
       " ('the', 'DET'),\n",
       " ('first', 'ADJ'),\n",
       " ('World', 'NOUN'),\n",
       " ('Cup', 'ADP'),\n",
       " ('to', 'PRT'),\n",
       " ('be', 'VERB'),\n",
       " ('held', 'VERB'),\n",
       " ('in', 'ADP'),\n",
       " ('Eastern', 'NOUN'),\n",
       " ('Europe', 'NOUN'),\n",
       " ('and', 'CONJ'),\n",
       " ('the', 'DET'),\n",
       " ('11th', 'ADJ'),\n",
       " ('time', 'NOUN'),\n",
       " ('that', 'ADP'),\n",
       " ('it', 'PRON'),\n",
       " ('has', 'VERB'),\n",
       " ('been', 'VERB'),\n",
       " ('held', 'VERB'),\n",
       " ('in', 'ADP'),\n",
       " ('Europe', 'NOUN'),\n",
       " ('.', '.'),\n",
       " ('Show', 'NOUN'),\n",
       " ('me', 'PRON'),\n",
       " ('the', 'DET'),\n",
       " ('cheapest', 'ADJ'),\n",
       " ('round', 'NOUN'),\n",
       " ('trips', 'ADP'),\n",
       " ('from', 'ADP'),\n",
       " ('Dallas', 'NOUN'),\n",
       " ('to', 'PRT'),\n",
       " ('Atlanta', 'NOUN'),\n",
       " ('I', 'PRON'),\n",
       " ('would', 'VERB'),\n",
       " ('like', 'ADP'),\n",
       " ('to', 'PRT'),\n",
       " ('see', 'VERB'),\n",
       " ('flights', 'NOUN'),\n",
       " ('from', 'ADP'),\n",
       " ('Denver', 'NOUN'),\n",
       " ('to', 'PRT'),\n",
       " ('Philadelphia', 'NOUN'),\n",
       " ('.', '.'),\n",
       " ('Show', 'NOUN'),\n",
       " ('me', 'PRON'),\n",
       " ('the', 'DET'),\n",
       " ('price', 'NOUN'),\n",
       " ('of', 'ADP'),\n",
       " ('the', 'DET'),\n",
       " ('flights', 'NOUN'),\n",
       " ('leaving', 'VERB'),\n",
       " ('Atlanta', 'NOUN'),\n",
       " ('at', 'ADP'),\n",
       " ('about', 'ADP'),\n",
       " ('3', 'NUM'),\n",
       " ('in', 'ADP'),\n",
       " ('the', 'DET'),\n",
       " ('afternoon', 'NOUN'),\n",
       " ('and', 'CONJ'),\n",
       " ('arriving', 'ADP'),\n",
       " ('in', 'ADP'),\n",
       " ('San', 'NOUN'),\n",
       " ('Francisco', 'NOUN'),\n",
       " ('.', '.'),\n",
       " ('NASA', 'ADP'),\n",
       " ('invited', 'ADP'),\n",
       " ('social', 'ADJ'),\n",
       " ('media', 'NOUN'),\n",
       " ('users', 'NOUN'),\n",
       " ('to', 'PRT'),\n",
       " ('experience', 'NOUN'),\n",
       " ('the', 'DET'),\n",
       " ('launch', 'NOUN'),\n",
       " ('of', 'ADP'),\n",
       " ('ICESAT-2', 'ADP'),\n",
       " ('Satellite', 'ADP'),\n",
       " ('.', '.')]"
      ]
     },
     "execution_count": 29,
     "metadata": {},
     "output_type": "execute_result"
    }
   ],
   "source": [
    "#Get the predictions on the test sentences\n",
    "sample_pred_list =[]\n",
    "for line in test_lines:\n",
    "    sample_pred_list=sample_pred_list+list(Viterbi(word_tokenize(line)))\n",
    "sample_pred_list"
   ]
  },
  {
   "cell_type": "code",
   "execution_count": 30,
   "metadata": {},
   "outputs": [],
   "source": [
    "#Get the tokens in the test file\n",
    "sample_words=[tokens for line in test_lines for tokens in word_tokenize(line)]"
   ]
  },
  {
   "cell_type": "code",
   "execution_count": 31,
   "metadata": {},
   "outputs": [
    {
     "data": {
      "text/plain": [
       "['Cup',\n",
       " '2015',\n",
       " 'personality',\n",
       " 'trips',\n",
       " 'messages',\n",
       " 'tweets',\n",
       " 'Google',\n",
       " 'arriving',\n",
       " 'interact',\n",
       " '2011',\n",
       " 'FIFA',\n",
       " 'tournament',\n",
       " 'NASA',\n",
       " 'invited',\n",
       " 'Android',\n",
       " '21st',\n",
       " 'online',\n",
       " 'domineering',\n",
       " 'smartphones',\n",
       " 'firehose',\n",
       " 'Twitter',\n",
       " '2013',\n",
       " 'ICESAT-2',\n",
       " 'Satellite',\n",
       " '2018',\n",
       " 'worldwide',\n",
       " 'OS',\n",
       " 'contested']"
      ]
     },
     "execution_count": 31,
     "metadata": {},
     "output_type": "execute_result"
    }
   ],
   "source": [
    "#Get the list of words which are present in test lines but not in the training corpus\n",
    "words_not_in_corpus = list(set(sample_words) - set(tokens))\n",
    "words_not_in_corpus"
   ]
  },
  {
   "cell_type": "code",
   "execution_count": 32,
   "metadata": {},
   "outputs": [
    {
     "data": {
      "text/plain": [
       "[('Android', 'ADP'),\n",
       " ('Google', 'ADP'),\n",
       " ('Android', 'ADP'),\n",
       " ('OS', 'ADP'),\n",
       " ('worldwide', 'ADP'),\n",
       " ('smartphones', 'ADP'),\n",
       " ('2011', 'ADP'),\n",
       " ('2013', 'ADP'),\n",
       " ('Google', 'ADP'),\n",
       " ('Twitter', 'ADP'),\n",
       " ('2015', 'ADP'),\n",
       " ('Google', 'ADP'),\n",
       " ('Twitter', 'ADP'),\n",
       " ('firehose', 'ADP'),\n",
       " ('Twitter', 'ADP'),\n",
       " ('online', 'ADP'),\n",
       " ('interact', 'ADP'),\n",
       " ('messages', 'ADP'),\n",
       " ('tweets', 'ADP'),\n",
       " ('domineering', 'ADP'),\n",
       " ('personality', 'ADP'),\n",
       " ('2018', 'ADP'),\n",
       " ('FIFA', 'ADP'),\n",
       " ('Cup', 'ADP'),\n",
       " ('21st', 'ADP'),\n",
       " ('FIFA', 'ADP'),\n",
       " ('Cup', 'ADP'),\n",
       " ('tournament', 'ADP'),\n",
       " ('contested', 'ADP'),\n",
       " ('Cup', 'ADP'),\n",
       " ('trips', 'ADP'),\n",
       " ('arriving', 'ADP'),\n",
       " ('NASA', 'ADP'),\n",
       " ('invited', 'ADP'),\n",
       " ('ICESAT-2', 'ADP'),\n",
       " ('Satellite', 'ADP')]"
      ]
     },
     "execution_count": 32,
     "metadata": {},
     "output_type": "execute_result"
    }
   ],
   "source": [
    "#Get the tags predicted for unknown words\n",
    "[tup for tup in sample_pred_list for word in words_not_in_corpus if tup[0]==word ]"
   ]
  },
  {
   "cell_type": "code",
   "execution_count": 33,
   "metadata": {},
   "outputs": [
    {
     "data": {
      "text/plain": [
       "Counter({'NOUN': 27352,\n",
       "         'VERB': 12910,\n",
       "         'DET': 8281,\n",
       "         'CONJ': 2151,\n",
       "         'ADV': 3019,\n",
       "         '.': 11123,\n",
       "         'X': 6284,\n",
       "         'ADJ': 6069,\n",
       "         'ADP': 9353,\n",
       "         'PRT': 3035,\n",
       "         'PRON': 2612,\n",
       "         'NUM': 3358})"
      ]
     },
     "execution_count": 33,
     "metadata": {},
     "output_type": "execute_result"
    }
   ],
   "source": [
    "tag_counts = Counter(pair[1] for pair in train_tagged_words)\n",
    "tag_counts"
   ]
  },
  {
   "cell_type": "code",
   "execution_count": 34,
   "metadata": {},
   "outputs": [
    {
     "data": {
      "text/plain": [
       "[('NOUN', 27352), ('VERB', 12910), ('.', 11123), ('ADP', 9353), ('DET', 8281)]"
      ]
     },
     "execution_count": 34,
     "metadata": {},
     "output_type": "execute_result"
    }
   ],
   "source": [
    "tag_counts.most_common(5)\n"
   ]
  },
  {
   "cell_type": "code",
   "execution_count": 35,
   "metadata": {},
   "outputs": [
    {
     "data": {
      "text/plain": [
       "Counter({'ADP': 344,\n",
       "         'VERB': 18,\n",
       "         'NOUN': 29,\n",
       "         'ADJ': 39,\n",
       "         'ADV': 20,\n",
       "         'DET': 5,\n",
       "         'PRT': 6,\n",
       "         '.': 1,\n",
       "         'X': 1,\n",
       "         'CONJ': 2})"
      ]
     },
     "execution_count": 35,
     "metadata": {},
     "output_type": "execute_result"
    }
   ],
   "source": [
    "#Lets see count of incorrectly classfied words for each tag\n",
    "wrong_tag_counts = Counter(pair[1][0][1] for pair in incorrect_tagged_cases)\n",
    "wrong_tag_counts"
   ]
  },
  {
   "cell_type": "code",
   "execution_count": 36,
   "metadata": {},
   "outputs": [
    {
     "name": "stdout",
     "output_type": "stream",
     "text": [
      "0.20511231603408211\n"
     ]
    },
    {
     "data": {
      "text/plain": [
       "[('confirmed', 'VERB'),\n",
       " ('seemed', 'VERB'),\n",
       " ('reported', 'VERB'),\n",
       " ('headed', 'VERB'),\n",
       " ('curbed', 'VERB'),\n",
       " ('approved', 'VERB'),\n",
       " ('handled', 'VERB'),\n",
       " ('raised', 'VERB'),\n",
       " ('contained', 'VERB'),\n",
       " ('cleaned', 'VERB'),\n",
       " ('caused', 'VERB'),\n",
       " ('structured', 'VERB'),\n",
       " ('conducted', 'VERB'),\n",
       " ('studied', 'VERB'),\n",
       " ('Used', 'VERB'),\n",
       " ('entered', 'VERB'),\n",
       " ('pleased', 'VERB'),\n",
       " ('rated', 'VERB'),\n",
       " ('qualified', 'VERB'),\n",
       " ('led', 'VERB')]"
      ]
     },
     "execution_count": 36,
     "metadata": {},
     "output_type": "execute_result"
    }
   ],
   "source": [
    "# Let us see the percentage of verbs which are classifed as 'verb which end with 'ed'\n",
    "verbs = [pair for pair in train_tagged_words if pair[1]=='VERB']\n",
    "ed_verbs = [pair for pair in verbs if pair[0].endswith('ed')]\n",
    "print(len(ed_verbs) / len(verbs))\n",
    "ed_verbs[:20]"
   ]
  },
  {
   "cell_type": "code",
   "execution_count": 37,
   "metadata": {},
   "outputs": [
    {
     "name": "stdout",
     "output_type": "stream",
     "text": [
      "0.10774593338497289\n"
     ]
    },
    {
     "data": {
      "text/plain": [
       "[('Encouraging', 'VERB'),\n",
       " ('reaching', 'VERB'),\n",
       " ('taking', 'VERB'),\n",
       " ('leaving', 'VERB'),\n",
       " ('lying', 'VERB'),\n",
       " ('resulting', 'VERB'),\n",
       " ('lending', 'VERB'),\n",
       " ('covering', 'VERB'),\n",
       " ('justifying', 'VERB'),\n",
       " ('yielding', 'VERB'),\n",
       " ('belonging', 'VERB'),\n",
       " ('trading', 'VERB'),\n",
       " ('evaluating', 'VERB'),\n",
       " ('using', 'VERB'),\n",
       " ('admitting', 'VERB'),\n",
       " ('denying', 'VERB'),\n",
       " ('preventing', 'VERB'),\n",
       " ('attempting', 'VERB'),\n",
       " ('meaning', 'VERB'),\n",
       " ('coming', 'VERB')]"
      ]
     },
     "execution_count": 37,
     "metadata": {},
     "output_type": "execute_result"
    }
   ],
   "source": [
    "\n",
    "# Let us see the percentage of verbs which are classifed as 'verb which end with 'ing'\n",
    "verbs = [pair for pair in train_tagged_words if pair[1]=='VERB']\n",
    "ing_verbs = [pair for pair in verbs if pair[0].endswith('ing')]\n",
    "print(len(ing_verbs) / len(verbs))\n",
    "ing_verbs[:20]"
   ]
  },
  {
   "cell_type": "code",
   "execution_count": 38,
   "metadata": {},
   "outputs": [
    {
     "name": "stdout",
     "output_type": "stream",
     "text": [
      "6069\n",
      "4246\n",
      "0.6996210248805405\n"
     ]
    }
   ],
   "source": [
    "\n",
    "#Lets see percentage of Adjective tags followed by nouns\n",
    "# create a list of all tags (without the words)\n",
    "tags = [pair[1] for pair in train_tagged_words]\n",
    "\n",
    "# create a list of Adj tags\n",
    "adj_tags = [t for t in tags if t == 'ADJ']\n",
    "\n",
    "# create a list of (ADJ, Noun) tags\n",
    "adj_noun_tags = [(t, tags[index+1]) for index, t in enumerate(tags) \n",
    "              if t=='ADJ' and tags[index+1]=='NOUN']\n",
    "\n",
    "print(len(adj_tags))\n",
    "print(len(adj_noun_tags))\n",
    "print(len(adj_noun_tags) / len(adj_tags))"
   ]
  },
  {
   "cell_type": "code",
   "execution_count": 39,
   "metadata": {},
   "outputs": [
    {
     "name": "stdout",
     "output_type": "stream",
     "text": [
      "8281\n",
      "5284\n",
      "0.638087187537737\n"
     ]
    }
   ],
   "source": [
    "\n",
    "#Lets see percentage of Determinent tags followed by nouns\n",
    "dt_tags = [t for t in tags if t == 'DET']\n",
    "dt_noun_tags = [(t, tags[index+1]) for index, t in enumerate(tags) \n",
    "              if t=='DET' and tags[index+1]=='NOUN']\n",
    "\n",
    "print(len(dt_tags))\n",
    "print(len(dt_noun_tags))\n",
    "print(len(dt_noun_tags) / len(dt_tags))"
   ]
  },
  {
   "cell_type": "code",
   "execution_count": 40,
   "metadata": {},
   "outputs": [
    {
     "name": "stdout",
     "output_type": "stream",
     "text": [
      "3019\n",
      "1037\n",
      "0.3434912222590262\n"
     ]
    }
   ],
   "source": [
    "#Lets see percentage of Adverbs tags followed by Verbs\n",
    "adv_tags = [t for t in tags if t == 'ADV']\n",
    "adv_vb_tags = [(t, tags[index+1]) for index, t in enumerate(tags) \n",
    "              if t=='ADV' and tags[index+1]=='VERB']\n",
    "\n",
    "print(len(adv_tags))\n",
    "print(len(adv_vb_tags))\n",
    "print(len(adv_vb_tags) / len(adv_tags))"
   ]
  },
  {
   "cell_type": "code",
   "execution_count": 41,
   "metadata": {},
   "outputs": [],
   "source": [
    "# specify patterns for tagging\n",
    "patterns = [\n",
    "    (r'.*ing$', 'VERB'),              # gerund\n",
    "    (r'.*ed$', 'VERB'),               # past tense verbs\n",
    "    (r'.*es$', 'VERB'),               # singular present verbs\n",
    "    (r'.*ould$', 'VERB'),              # modal verbs\n",
    "    (r'.*\\'s$', 'NOUN'),              # possessive nouns\n",
    "    (r'.*s$', 'NOUN'),                # plural nouns\n",
    "    (r'^-?[0-9]+(.[0-9]+)?$', 'NUM'), # cardinal numbers\n",
    "    (r'(The|the|A|a|An|an)$', 'DET'),   # articles or determinants\n",
    "    (r'.*able$', 'ADJ'),                # adjectives\n",
    "    (r'.*ness$', 'NOUN'),                # nouns formed from adjectives\n",
    "    (r'.*ly$', 'ADV'),                  # adverbs\n",
    "    (r'.*', 'NOUN')                    # nouns\n",
    "]"
   ]
  },
  {
   "cell_type": "code",
   "execution_count": 42,
   "metadata": {},
   "outputs": [
    {
     "data": {
      "text/plain": [
       "0.9496977968414896"
      ]
     },
     "execution_count": 42,
     "metadata": {},
     "output_type": "execute_result"
    }
   ],
   "source": [
    "# rule based tagger\n",
    "rule_based_tagger = nltk.RegexpTagger(patterns)\n",
    "\n",
    "# lexicon backed up by the rule-based tagger\n",
    "lexicon_tagger = nltk.UnigramTagger(train_set, backoff=rule_based_tagger)\n",
    "\n",
    "lexicon_tagger.evaluate(test_set)"
   ]
  },
  {
   "cell_type": "markdown",
   "metadata": {},
   "source": [
    "#### Evaluating tagging accuracy"
   ]
  },
  {
   "cell_type": "code",
   "execution_count": 43,
   "metadata": {},
   "outputs": [],
   "source": [
    "#Trigram tagger backed by Bigram backed by Unigram which is backed by rule based tagger\n",
    "t0 = nltk.RegexpTagger(patterns)\n",
    "t1 = nltk.UnigramTagger(train_set, backoff=t0)\n",
    "t2 = nltk.BigramTagger(train_set, backoff=t1)\n",
    "t3 = nltk.TrigramTagger(train_set, backoff=t2)"
   ]
  },
  {
   "cell_type": "code",
   "execution_count": 44,
   "metadata": {},
   "outputs": [],
   "source": [
    "#Clear existing templates if any\n",
    "Template._cleartemplates()\n",
    "\n",
    "#Load the fntbl37 template\n",
    "templates = fntbl37()\n",
    " \n",
    "#Train the Brill model\n",
    "trainer = BrillTaggerTrainer(t3, templates)\n",
    "brill_tagger = trainer.train(train_set, max_rules=100, min_score=3)"
   ]
  },
  {
   "cell_type": "code",
   "execution_count": 45,
   "metadata": {},
   "outputs": [],
   "source": [
    "# Viterbi Heuristic\n",
    "def Viterbi_updated(words, train_bag = train_tagged_words):\n",
    "    state = []\n",
    "    T = list(set([pair[1] for pair in train_bag]))\n",
    "    \n",
    "    for key, word in enumerate(words):\n",
    "        #initialise list of probability column for a given observation\n",
    "        p = [] \n",
    "        for tag in T:\n",
    "            if key == 0:\n",
    "                transition_p = tags_df.loc['.', tag]\n",
    "            else:\n",
    "                transition_p = tags_df.loc[state[-1], tag]\n",
    "                \n",
    "            # compute emission and state probabilities\n",
    "            emission_p = word_given_tag(words[key], tag)[0]/word_given_tag(words[key], tag)[1]\n",
    "            state_probability = emission_p * transition_p    \n",
    "            p.append(state_probability)\n",
    "            \n",
    "        pmax = max(p)\n",
    "       \n",
    "        #Check if state probability is zero\n",
    "        if(pmax==0.0):\n",
    "            #If state probability is zero i.e if the word is unknown if updates the tag based on the brill tagger\n",
    "            state_max = brill_tagger.tag([word])[0][1]\n",
    "        else:\n",
    "            # getting state for which probability is maximum\n",
    "            state_max = T[p.index(pmax)] \n",
    "        state.append(state_max)\n",
    "    return list(zip(words, state))"
   ]
  },
  {
   "cell_type": "markdown",
   "metadata": {},
   "source": [
    "### Compare the tagging accuracies of the modifications with the vanilla Viterbi algorithm"
   ]
  },
  {
   "cell_type": "code",
   "execution_count": null,
   "metadata": {},
   "outputs": [],
   "source": [
    "# tagging the test sentences with the updated Viterbi algorithm\n",
    "start = time.time()\n",
    "updated_tagged_seq = Viterbi_updated(test_tagged_words)\n",
    "end = time.time()\n",
    "difference = end-start\n",
    "#Print total time taken to train the algorithm\n",
    "print(difference)"
   ]
  },
  {
   "cell_type": "code",
   "execution_count": null,
   "metadata": {},
   "outputs": [],
   "source": [
    "# Calculate the accuracy for the updated Viterbi algorithm\n",
    "check = [i for i, j in zip(updated_tagged_seq, test_run_base) if i == j] \n",
    "accuracy = len(check)/len(updated_tagged_seq)\n",
    "accuracy"
   ]
  },
  {
   "cell_type": "markdown",
   "metadata": {},
   "source": [
    "### List down cases which were incorrectly tagged by original POS tagger and got corrected by your modifications"
   ]
  },
  {
   "cell_type": "code",
   "execution_count": null,
   "metadata": {},
   "outputs": [],
   "source": [
    "\n",
    "#Let us print the test lines with the initial Viterbi algorithm\n",
    "for line in test_lines:\n",
    "    print(list(Viterbi(word_tokenize(line))))"
   ]
  },
  {
   "cell_type": "code",
   "execution_count": null,
   "metadata": {},
   "outputs": [],
   "source": [
    "\n",
    "#Let us print the test lines with the updated Viterbi algorithm\n",
    "for line in test_lines:\n",
    "    print(list(Viterbi_updated(word_tokenize(line))))"
   ]
  },
  {
   "cell_type": "code",
   "execution_count": null,
   "metadata": {},
   "outputs": [],
   "source": [
    "\n",
    "# Viterbi Heuristic\n",
    "def Viterbi_updated2(words, train_bag = train_tagged_words):\n",
    "    state = []\n",
    "    T = list(set([pair[1] for pair in train_bag]))\n",
    "    \n",
    "    for key, word in enumerate(words):\n",
    "        #initialise list of probability column for a given observation\n",
    "        p = [] \n",
    "        for tag in T:\n",
    "            if key == 0:\n",
    "                transition_p = tags_df.loc['.', tag]\n",
    "            else:\n",
    "                transition_p = tags_df.loc[state[-1], tag]\n",
    "                \n",
    "            # compute emission and state probabilities\n",
    "            emission_p = word_given_tag(words[key], tag)[0]/word_given_tag(words[key], tag)[1]\n",
    "            state_probability = emission_p * transition_p    \n",
    "            p.append(state_probability)\n",
    "            \n",
    "        pmax = max(p)\n",
    "       \n",
    "        #Check if state probability is zero\n",
    "        if(pmax<0.001):\n",
    "            #If state probability is zero i.e if the word is unknown if updates the tag based on the brill tagger\n",
    "            state_max = brill_tagger.tag([word])[0][1]\n",
    "        else:\n",
    "            # getting state for which probability is maximum\n",
    "            state_max = T[p.index(pmax)] \n",
    "        state.append(state_max)\n",
    "    return list(zip(words, state))"
   ]
  },
  {
   "cell_type": "code",
   "execution_count": null,
   "metadata": {},
   "outputs": [],
   "source": [
    "# tagging the test sentences with the updated Viterbi algorithm\n",
    "start = time.time()\n",
    "updated_tagged_seq = Viterbi_updated2(test_tagged_words)\n",
    "end = time.time()\n",
    "difference = end-start\n",
    "#Print total time taken to train the algorithm\n",
    "print(difference)"
   ]
  },
  {
   "cell_type": "code",
   "execution_count": null,
   "metadata": {},
   "outputs": [],
   "source": [
    "# Calculate the accuracy for the updated Viterbi algorithm\n",
    "check = [i for i, j in zip(updated_tagged_seq, test_run_base) if i == j] \n",
    "accuracy = len(check)/len(updated_tagged_seq)\n",
    "accuracy"
   ]
  },
  {
   "cell_type": "code",
   "execution_count": null,
   "metadata": {},
   "outputs": [],
   "source": []
  },
  {
   "cell_type": "code",
   "execution_count": null,
   "metadata": {},
   "outputs": [],
   "source": []
  }
 ],
 "metadata": {
  "kernelspec": {
   "display_name": "Python 3",
   "language": "python",
   "name": "python3"
  },
  "language_info": {
   "codemirror_mode": {
    "name": "ipython",
    "version": 3
   },
   "file_extension": ".py",
   "mimetype": "text/x-python",
   "name": "python",
   "nbconvert_exporter": "python",
   "pygments_lexer": "ipython3",
   "version": "3.7.7"
  }
 },
 "nbformat": 4,
 "nbformat_minor": 2
}
