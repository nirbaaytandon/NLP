{
 "cells": [
  {
   "cell_type": "code",
   "execution_count": 1,
   "metadata": {},
   "outputs": [],
   "source": [
    "#Specification of CFG\n",
    "import nltk \n",
    "\n",
    "grammar = nltk.CFG.fromstring(\"\"\"\n",
    "S -> NP VP\n",
    "PP -> P NP\n",
    "VP -> V NP| V PP | V\n",
    "NP -> DT N  | N | NP PP\n",
    "P ->  \"over\"\n",
    "V -> \"jumped\"\n",
    "N -> \"bear\" | \"table\" \n",
    "DT -> \"the\" \n",
    "\"\"\")"
   ]
  },
  {
   "cell_type": "code",
   "execution_count": 2,
   "metadata": {},
   "outputs": [
    {
     "name": "stdout",
     "output_type": "stream",
     "text": [
      "Warning: VP -> V NP will never be used\n",
      "Warning: VP -> V PP will never be used\n"
     ]
    }
   ],
   "source": [
    "str = \"the bear jumped over the table\"\n",
    "\n",
    "# ShiftReduce Parser is a bottom up parser\n",
    "from nltk.parse import ShiftReduceParser\n",
    "srp = ShiftReduceParser(grammar)\n",
    "\n",
    "for t in srp.parse(str.split()):\n",
    "    print(t)\n",
    "\n",
    "# Shift Reduce parser tries to aggregate the string to the start symbol, since it's a bottom-up parser\n",
    "# It is not able to find the parse tree even if it exists "
   ]
  },
  {
   "cell_type": "code",
   "execution_count": 3,
   "metadata": {},
   "outputs": [
    {
     "name": "stdout",
     "output_type": "stream",
     "text": [
      "Warning: VP -> V NP PP will never be used\n",
      "[('dog',)]\n",
      "[('statue',)]\n",
      "[('park',)]\n",
      "[('dog',), ('statue',)]\n",
      "[('in',)]\n",
      "[('with',)]\n",
      "[('the',)]\n",
      "[('a',)]\n",
      "[(V, NP, PP)]\n",
      "[(V, NP)]\n",
      "[(VP, PP)]\n",
      "[(V, NP, PP), (V, NP)]\n",
      "[(Det, N)]\n",
      "[(NP, PP)]\n",
      "S [(NP, VP)]\n",
      "NP [(Det, N), (NP, PP)]\n",
      "VP [(VP, PP), (V, NP, PP), (V, NP)]\n",
      "PP [(P, NP)]\n",
      "NP [('I',)]\n",
      "Det [('the',), ('a',)]\n",
      "N [('man',)]\n",
      "V [('saw',)]\n",
      "P [('in',), ('with',)]\n",
      "N [('park',), ('dog',), ('statue',)]\n",
      "Det [('my',)]\n"
     ]
    }
   ],
   "source": [
    "nltk.app.srparser()\n",
    "# once the shift reduce parser application opens, \n",
    "# you can edit the 'Text' and 'Grammar' according to your requirements"
   ]
  },
  {
   "cell_type": "code",
   "execution_count": null,
   "metadata": {},
   "outputs": [],
   "source": []
  }
 ],
 "metadata": {
  "kernelspec": {
   "display_name": "Python 3",
   "language": "python",
   "name": "python3"
  },
  "language_info": {
   "codemirror_mode": {
    "name": "ipython",
    "version": 3
   },
   "file_extension": ".py",
   "mimetype": "text/x-python",
   "name": "python",
   "nbconvert_exporter": "python",
   "pygments_lexer": "ipython3",
   "version": "3.7.7"
  }
 },
 "nbformat": 4,
 "nbformat_minor": 2
}
